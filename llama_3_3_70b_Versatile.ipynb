{
 "cells": [
  {
   "cell_type": "code",
   "execution_count": 1,
   "metadata": {
    "colab": {
     "base_uri": "https://localhost:8080/"
    },
    "id": "vQg5zjmYbsXv",
    "outputId": "41b7d25d-1067-4630-8eb6-3c25930b2243"
   },
   "outputs": [
    {
     "name": "stdout",
     "output_type": "stream",
     "text": [
      "--2025-06-13 14:11:36--  https://archive.ics.uci.edu/static/public/235/individual+household+electric+power+consumption.zip\n",
      "Resolving archive.ics.uci.edu (archive.ics.uci.edu)... 128.195.10.252\n",
      "Connecting to archive.ics.uci.edu (archive.ics.uci.edu)|128.195.10.252|:443... connected.\n",
      "HTTP request sent, awaiting response... 200 OK\n",
      "Length: unspecified\n",
      "Saving to: ‘individual+household+electric+power+consumption.zip’\n",
      "\n",
      "individual+househol     [     <=>            ]  19.68M  21.7MB/s    in 0.9s    \n",
      "\n",
      "2025-06-13 14:11:37 (21.7 MB/s) - ‘individual+household+electric+power+consumption.zip’ saved [20640916]\n",
      "\n",
      "Archive:  individual+household+electric+power+consumption.zip\n",
      "  inflating: household_power_consumption.txt  \n"
     ]
    }
   ],
   "source": [
    "!wget https://archive.ics.uci.edu/static/public/235/individual+household+electric+power+consumption.zip\n",
    "!unzip individual+household+electric+power+consumption.zip"
   ]
  },
  {
   "cell_type": "code",
   "execution_count": 9,
   "metadata": {
    "colab": {
     "base_uri": "https://localhost:8080/"
    },
    "id": "orm98gmebsXv",
    "outputId": "308d0bec-6467-4ee2-80a7-b6311933a885"
   },
   "outputs": [
    {
     "name": "stdout",
     "output_type": "stream",
     "text": [
      "Requirement already satisfied: groq in c:\\users\\jigne\\appdata\\local\\programs\\python\\python310\\lib\\site-packages (0.28.0)\n",
      "Requirement already satisfied: anyio<5,>=3.5.0 in c:\\users\\jigne\\appdata\\local\\programs\\python\\python310\\lib\\site-packages (from groq) (4.9.0)\n",
      "Requirement already satisfied: distro<2,>=1.7.0 in c:\\users\\jigne\\appdata\\local\\programs\\python\\python310\\lib\\site-packages (from groq) (1.9.0)\n",
      "Requirement already satisfied: httpx<1,>=0.23.0 in c:\\users\\jigne\\appdata\\local\\programs\\python\\python310\\lib\\site-packages (from groq) (0.28.1)\n",
      "Requirement already satisfied: pydantic<3,>=1.9.0 in c:\\users\\jigne\\appdata\\local\\programs\\python\\python310\\lib\\site-packages (from groq) (2.11.5)\n",
      "Requirement already satisfied: sniffio in c:\\users\\jigne\\appdata\\local\\programs\\python\\python310\\lib\\site-packages (from groq) (1.3.1)\n",
      "Requirement already satisfied: typing-extensions<5,>=4.10 in c:\\users\\jigne\\appdata\\local\\programs\\python\\python310\\lib\\site-packages (from groq) (4.14.0)\n",
      "Requirement already satisfied: exceptiongroup>=1.0.2 in c:\\users\\jigne\\appdata\\local\\programs\\python\\python310\\lib\\site-packages (from anyio<5,>=3.5.0->groq) (1.3.0)\n",
      "Requirement already satisfied: idna>=2.8 in c:\\users\\jigne\\appdata\\local\\programs\\python\\python310\\lib\\site-packages (from anyio<5,>=3.5.0->groq) (3.10)\n",
      "Requirement already satisfied: certifi in c:\\users\\jigne\\appdata\\local\\programs\\python\\python310\\lib\\site-packages (from httpx<1,>=0.23.0->groq) (2025.4.26)\n",
      "Requirement already satisfied: httpcore==1.* in c:\\users\\jigne\\appdata\\local\\programs\\python\\python310\\lib\\site-packages (from httpx<1,>=0.23.0->groq) (1.0.9)\n",
      "Requirement already satisfied: h11>=0.16 in c:\\users\\jigne\\appdata\\local\\programs\\python\\python310\\lib\\site-packages (from httpcore==1.*->httpx<1,>=0.23.0->groq) (0.16.0)\n",
      "Requirement already satisfied: annotated-types>=0.6.0 in c:\\users\\jigne\\appdata\\local\\programs\\python\\python310\\lib\\site-packages (from pydantic<3,>=1.9.0->groq) (0.6.0)\n",
      "Requirement already satisfied: pydantic-core==2.33.2 in c:\\users\\jigne\\appdata\\local\\programs\\python\\python310\\lib\\site-packages (from pydantic<3,>=1.9.0->groq) (2.33.2)\n",
      "Requirement already satisfied: typing-inspection>=0.4.0 in c:\\users\\jigne\\appdata\\local\\programs\\python\\python310\\lib\\site-packages (from pydantic<3,>=1.9.0->groq) (0.4.1)\n",
      "Note: you may need to restart the kernel to use updated packages.\n"
     ]
    }
   ],
   "source": [
    "pip install --upgrade groq"
   ]
  },
  {
   "cell_type": "code",
   "execution_count": 1,
   "metadata": {
    "id": "QCFJ6SbtbsXw"
   },
   "outputs": [],
   "source": [
    "import pandas as pd\n",
    "import matplotlib.pyplot as plt\n",
    "from groq import Groq\n",
    "import json\n",
    "import re"
   ]
  },
  {
   "cell_type": "code",
   "execution_count": 2,
   "metadata": {
    "id": "AO1IjvHtbsXw"
   },
   "outputs": [],
   "source": [
    "Groq_api_key = 'api_key'\n",
    "client =Groq(api_key=Groq_api_key,http_client=None)"
   ]
  },
  {
   "cell_type": "code",
   "execution_count": 3,
   "metadata": {
    "id": "UHkspjZIbsXw"
   },
   "outputs": [],
   "source": [
    "#Load and and preprocess the dataset\n",
    "def load_data_set():\n",
    "    df = pd.read_csv('dataset/household_power_consumption.txt',\n",
    "             \tsep=';',\n",
    "             \tparse_dates={'datetime': ['Date', 'Time']},\n",
    "             \tinfer_datetime_format=True,\n",
    "             \tna_values=['?'],\n",
    "             \tlow_memory=False)\n",
    "\n",
    "    df = df.dropna()\n",
    "    df['Global_active_power'] = df['Global_active_power'].astype(float)\n",
    "    df = df.set_index('datetime')\n",
    "    return df"
   ]
  },
  {
   "cell_type": "code",
   "execution_count": 80,
   "metadata": {
    "id": "lSOcO7EabsXx"
   },
   "outputs": [],
   "source": [
    "# Function to generate pandas code from natural language question using GROQ API\n",
    "\n",
    "def generate_pandas_code(natural_language_question, model_name, df_info):\n",
    "    df_info_str = json.dumps(df_info)\n",
    "\n",
    "    prompt = f\"\"\"\n",
    "        You are a Python pandas and matplotlib expert. Given this preprocessed dataframe (index=datetime):\n",
    "\n",
    "        PREPROCESSING CODE:\n",
    "    \n",
    "         df = pd.read_csv('dataset/household_power_consumption.txt',\n",
    "             \tsep=';',\n",
    "             \tparse_dates={{'datetime': {{'Date', 'Time'}}}},\n",
    "             \tinfer_datetime_format=True,\n",
    "             \tna_values=['?'],\n",
    "             \tlow_memory=False)\n",
    "\n",
    "        df = df.dropna()\n",
    "        df['Global_active_power'] = df['Global_active_power'].astype(float)\n",
    "        df = df.set_index('datetime')\n",
    "        \n",
    "        Columns: {df_info_str}\n",
    "        \n",
    "        Generate ONLY executable Python/pandas code that:\n",
    "        1. Answers the question: \"{natural_language_question}\"\n",
    "        2. Stores final results in these standard variables when applicable:\n",
    "           - avg_power_march, max_hour, weekday_avg, weekend_avg \n",
    "           - days_exceeded_5_kwh, daily_voltage, correlation\n",
    "           - plot_data (for visualization outputs only)\n",
    "        \n",
    "        ONLY FOR VISUALIZATION QUERIES WHEN QUESTION CONTAINS KEY-WORDS like \"plot\", \"visualize\", \"graph\", \"visualization\":\n",
    "            1. MUST include these elements in order:\n",
    "               a) Data filtering/processing\n",
    "               b) plt.figure() with size (10,6)\n",
    "               c) ACTUAL PLOTTING COMMAND (plt.plot, plt.bar, etc.)\n",
    "               d) Axis labels and title (plt.xlabel, plt.ylabel, plt.title)\n",
    "               e) Save to \"images/{model_name}/[sanitized_title].png\"\n",
    "               f) Buffer handling for plot_data\n",
    "               g) plt.show()\n",
    "               h) plt.close()\n",
    "        \n",
    "        EXAMPLE FOR QUESTION CONTAIN VISUALIZATION i.e \"Plot the energy usage trend for the first week of January 2007.\"\n",
    "        ```python\n",
    "        # Filter data\n",
    "        filtered = df[(df.index.year==2007) & (df.index.month==1)]\n",
    "        daily = filtered['Global_active_power'].resample('D').mean()\n",
    "        \n",
    "        # Create plot\n",
    "        plt.figure(figsize=(10,6))\n",
    "        plt.plot(daily.index, daily, color='blue')  # <-- ACTUAL PLOT COMMAND\n",
    "        plt.xlabel('Date')\n",
    "        plt.ylabel('Power (kW)')\n",
    "        title = 'January 2007 Daily Power Consumption'\n",
    "        plt.title(title)\n",
    "        \n",
    "        # Save and store\n",
    "        os.makedirs(f\"images/{model_name}\", exist_ok=True)\n",
    "        filename = title.lower().replace(' ','_') + '.png'\n",
    "        plt.savefig(f\"images/{model_name}/filename.png\")\n",
    "        buf = io.BytesIO()\n",
    "        buf.seek(0)\n",
    "        plot_data = buf.getvalue()\n",
    "        plt.show()\n",
    "        plt.close()\n",
    "\n",
    "        IMPORTANT RULES:\n",
    "        (.)NEVER skip the actual plotting command (plt.plot, plt.bar, etc.) whereever needed if QUESTION CONTAIN KEY-WORDS.\n",
    "        (.)show the plot (plt.show()) only for visual questions\n",
    "        (.)Generate ONLY code - no explanations or markdown formatting\n",
    "        (.)For non-visual questions, NEVER include plotting code AND ALWAYS PRINT THE FINAL RESULT.\n",
    "    \"\"\"\n",
    "    try:\n",
    "        chat_completion = client.chat.completions.create(\n",
    "            messages=[\n",
    "                {\n",
    "                    \"role\": \"user\",\n",
    "                    \"content\": prompt,\n",
    "                }\n",
    "            ],\n",
    "            model=model_name,\n",
    "            temperature=0.1,\n",
    "        )\n",
    "        return chat_completion.choices[0].message.content\n",
    "\n",
    "    except Exception as e:\n",
    "        print(f\"GROQ API error: {e}\")\n",
    "        return None"
   ]
  },
  {
   "cell_type": "code",
   "execution_count": 81,
   "metadata": {
    "id": "h0PVzmxSbsXx"
   },
   "outputs": [],
   "source": [
    "# Function to execute the generated pandas code and display the output\n",
    "\n",
    "def execute_query(query,model_name,df):\n",
    "    df_info = {'columns': df.columns.tolist()}\n",
    "    local_vars={}\n",
    "    \n",
    "    code = generate_pandas_code(query,model_name,df_info)\n",
    "    #print(\"Python panda code is: \\n\",code)\n",
    "\n",
    "    # Clean the code by removing markdown formatting so that it can be executed\n",
    "    if code:\n",
    "        code_clean = re.sub(r\"```(?:python)?\\n?|```\", \"\", code).strip()\n",
    "        code_clean = re.sub(r\"<think>.*?</think>\", \"\", code_clean, flags=re.DOTALL).strip()\n",
    "        code_clean = code_clean.strip().split('\\n')\n",
    "        valid_lines = []\n",
    "        for line in code_clean:\n",
    "            # Include lines that look like real Python code (simple heuristic)\n",
    "            if line.strip().startswith((\"print\", \"df\", \"#\", \"import\", \"average\", \"result\")) or \"=\" in line:\n",
    "                valid_lines.append(line)\n",
    "\n",
    "        final_code = '\\n'.join(valid_lines)\n",
    "        fixed_code = re.sub(\n",
    "            r\"df\\[(df\\.index\\.\\w+\\s*==\\s*\\d+)\\]\\[(df\\.index\\.\\w+\\s*==\\s*\\d+)\\]\",\n",
    "            r\"df[(\\1) & (\\2)]\",\n",
    "            final_code\n",
    "        )\n",
    "        print(\"------------------------------------------------------------------------\\nPython pandas Code is:\\n\\n\", fixed_code)\n",
    "\n",
    "    try:\n",
    "        print(\"------------------------------------------------------------------------\\nOutput of the code is:\\n\")\n",
    "        exec_vars={'df':df,'plt':plt}\n",
    "        exec(fixed_code,exec_vars,local_vars) #execute the code in the context of the dataframe\n",
    "        # Check if a plot was attempted but has 0 axes\n",
    "        if 'plt' in exec_vars:\n",
    "            fig = plt.gcf()\n",
    "            if len(fig.axes) == 0 and any(line.strip().startswith(('plt.plot', 'plt.bar', 'plt.figure')) \n",
    "                                       for line in fixed_code.split('\\n')):\n",
    "                plt.close()\n",
    "                print(\"Plot generation failed - empty figure detected\")\n",
    "                return False\n",
    "        return True\n",
    "    except Exception as e:\n",
    "        print(f\"Error executing code: {e}\")\n",
    "        return False"
   ]
  },
  {
   "cell_type": "code",
   "execution_count": 6,
   "metadata": {
    "colab": {
     "base_uri": "https://localhost:8080/"
    },
    "id": "Cq3ZZ4msbsXy",
    "outputId": "e1917420-2995-4dbc-df7e-05858480188f"
   },
   "outputs": [],
   "source": [
    "df = load_data_set()"
   ]
  },
  {
   "cell_type": "code",
   "execution_count": 7,
   "metadata": {
    "colab": {
     "base_uri": "https://localhost:8080/"
    },
    "id": "R-NqOJpGbsXy",
    "outputId": "144841f0-cf40-45a0-9a29-ca1143b4cf2a"
   },
   "outputs": [
    {
     "name": "stdout",
     "output_type": "stream",
     "text": [
      "                     Global_active_power  Global_reactive_power  Voltage  \\\n",
      "datetime                                                                   \n",
      "2006-12-16 17:24:00                4.216                  0.418   234.84   \n",
      "2006-12-16 17:25:00                5.360                  0.436   233.63   \n",
      "2006-12-16 17:26:00                5.374                  0.498   233.29   \n",
      "2006-12-16 17:27:00                5.388                  0.502   233.74   \n",
      "2006-12-16 17:28:00                3.666                  0.528   235.68   \n",
      "...                                  ...                    ...      ...   \n",
      "2010-11-26 20:58:00                0.946                  0.000   240.43   \n",
      "2010-11-26 20:59:00                0.944                  0.000   240.00   \n",
      "2010-11-26 21:00:00                0.938                  0.000   239.82   \n",
      "2010-11-26 21:01:00                0.934                  0.000   239.70   \n",
      "2010-11-26 21:02:00                0.932                  0.000   239.55   \n",
      "\n",
      "                     Global_intensity  Sub_metering_1  Sub_metering_2  \\\n",
      "datetime                                                                \n",
      "2006-12-16 17:24:00              18.4             0.0             1.0   \n",
      "2006-12-16 17:25:00              23.0             0.0             1.0   \n",
      "2006-12-16 17:26:00              23.0             0.0             2.0   \n",
      "2006-12-16 17:27:00              23.0             0.0             1.0   \n",
      "2006-12-16 17:28:00              15.8             0.0             1.0   \n",
      "...                               ...             ...             ...   \n",
      "2010-11-26 20:58:00               4.0             0.0             0.0   \n",
      "2010-11-26 20:59:00               4.0             0.0             0.0   \n",
      "2010-11-26 21:00:00               3.8             0.0             0.0   \n",
      "2010-11-26 21:01:00               3.8             0.0             0.0   \n",
      "2010-11-26 21:02:00               3.8             0.0             0.0   \n",
      "\n",
      "                     Sub_metering_3  \n",
      "datetime                             \n",
      "2006-12-16 17:24:00            17.0  \n",
      "2006-12-16 17:25:00            16.0  \n",
      "2006-12-16 17:26:00            17.0  \n",
      "2006-12-16 17:27:00            17.0  \n",
      "2006-12-16 17:28:00            17.0  \n",
      "...                             ...  \n",
      "2010-11-26 20:58:00             0.0  \n",
      "2010-11-26 20:59:00             0.0  \n",
      "2010-11-26 21:00:00             0.0  \n",
      "2010-11-26 21:01:00             0.0  \n",
      "2010-11-26 21:02:00             0.0  \n",
      "\n",
      "[2049280 rows x 7 columns]\n"
     ]
    }
   ],
   "source": [
    "print(df)"
   ]
  },
  {
   "cell_type": "code",
   "execution_count": 8,
   "metadata": {
    "colab": {
     "base_uri": "https://localhost:8080/"
    },
    "id": "pd4WZWHvbsXy",
    "outputId": "dba7c51d-a02a-4e46-b542-6ac469af2558"
   },
   "outputs": [
    {
     "name": "stdout",
     "output_type": "stream",
     "text": [
      "['Global_active_power', 'Global_reactive_power', 'Voltage', 'Global_intensity', 'Sub_metering_1', 'Sub_metering_2', 'Sub_metering_3']\n"
     ]
    }
   ],
   "source": [
    "print(df.columns.tolist())\n",
    "llama_results={}"
   ]
  },
  {
   "cell_type": "markdown",
   "metadata": {
    "id": "s87AalSqrkLD"
   },
   "source": [
    "# Consider for Analysis"
   ]
  },
  {
   "cell_type": "code",
   "execution_count": 11,
   "metadata": {
    "id": "jgr4t0DXPTB9"
   },
   "outputs": [],
   "source": [
    "#llama-3.3-70b-Versatile model testing"
   ]
  },
  {
   "cell_type": "code",
   "execution_count": 65,
   "metadata": {
    "colab": {
     "base_uri": "https://localhost:8080/"
    },
    "id": "dcSzFQDtEkUv",
    "outputId": "81776c24-5a2b-46e3-997f-546d9c921d9d"
   },
   "outputs": [
    {
     "name": "stdout",
     "output_type": "stream",
     "text": [
      "------------------------------------------------------------------------\n",
      "Python pandas Code is:\n",
      "\n",
      " import pandas as pd\n",
      "import matplotlib.pyplot as plt\n",
      "import os\n",
      "import io\n",
      "# Filter data for Christmas 2006\n",
      "christmas_2006 = df[(df.index.year==2006) & (df.index.month==12) & (df.index.day==25)]\n",
      "# Resample data by hour and calculate mean power usage\n",
      "hourly_power = christmas_2006['Global_active_power'].resample('H').mean()\n",
      "# Find the hour with the highest power usage\n",
      "max_hour = hourly_power.idxmax()\n",
      "# Store result in max_hour variable\n",
      "max_hour = max_hour.hour\n",
      "print(f\"The hour with the highest power usage on Christmas 2006 is {max_hour}\")\n",
      "------------------------------------------------------------------------\n",
      "Output of the code is:\n",
      "\n",
      "The hour with the highest power usage on Christmas 2006 is 22\n",
      "True\n"
     ]
    },
    {
     "data": {
      "text/plain": [
       "<Figure size 640x480 with 0 Axes>"
      ]
     },
     "metadata": {},
     "output_type": "display_data"
    }
   ],
   "source": [
    "value= execute_query(\"What hour of the day had the highest power usage on Christmas 2006?\",\"llama-3.3-70b-Versatile\",df)\n",
    "if(value):\n",
    "    llama_results[\"What hour of the day had the highest power usage on Christmas 2006?\"]=1\n",
    "else:\n",
    "    llama_results[\"What hour of the day had the highest power usage on Christmas 2006?\"]=0\n",
    "print(value)"
   ]
  },
  {
   "cell_type": "code",
   "execution_count": 67,
   "metadata": {
    "colab": {
     "base_uri": "https://localhost:8080/"
    },
    "id": "eZoRFsFfFbtk",
    "outputId": "b8861537-6067-450e-bb27-608f79451be1"
   },
   "outputs": [
    {
     "name": "stdout",
     "output_type": "stream",
     "text": [
      "------------------------------------------------------------------------\n",
      "Python pandas Code is:\n",
      "\n",
      " import pandas as pd\n",
      "import matplotlib.pyplot as plt\n",
      "import os\n",
      "import io\n",
      "# Filter data for March 2007\n",
      "march_2007 = df[(df.index.year==2007) & (df.index.month==3)]\n",
      "# Calculate average active power consumption in March 2007\n",
      "avg_power_march = march_2007['Global_active_power'].mean()\n",
      "# Calculate average power consumption by hour of day\n",
      "hourly_avg = df['Global_active_power'].resample('H').mean()\n",
      "max_hour = hourly_avg.idxmax()\n",
      "# Calculate average power consumption by day of week\n",
      "weekday_avg = df['Global_active_power'].resample('D').mean().groupby(df.index.dayofweek < 5).mean()\n",
      "weekend_avg = df['Global_active_power'].resample('D').mean().groupby(df.index.dayofweek >= 5).mean()\n",
      "# Calculate days where power consumption exceeded 5 kWh\n",
      "days_exceeded_5_kwh = df['Global_active_power'].resample('D').sum()[df['Global_active_power'].resample('D').sum() > 5].count()\n",
      "# Calculate daily average voltage\n",
      "daily_voltage = df['Voltage'].resample('D').mean()\n",
      "# Calculate correlation between Global_active_power and Voltage\n",
      "correlation = df['Global_active_power'].corr(df['Voltage'])\n",
      "# Create plot for average power consumption in March 2007\n",
      "plt.figure(figsize=(10,6))\n",
      "plt.plot(march_2007.index, march_2007['Global_active_power'], color='blue')\n",
      "title = 'March 2007 Power Consumption'\n",
      "# Save and store plot\n",
      "os.makedirs(f\"images/llama-3.3-70b-Versatile\", exist_ok=True)\n",
      "filename = title.lower().replace(' ','_') + '.png'\n",
      "buf = io.BytesIO()\n",
      "plt.savefig(buf, format='png')\n",
      "plot_data = buf.getvalue()\n",
      "------------------------------------------------------------------------\n",
      "Output of the code is:\n",
      "\n",
      "Error executing code: Grouper and axis must be same length\n",
      "False\n"
     ]
    }
   ],
   "source": [
    "value= execute_query(\"What was the average active power consumption in March 2007?\",\"llama-3.3-70b-Versatile\",df)\n",
    "if(value):\n",
    "    llama_results[\"What was the average active power consumption in March 2007?\"]=1\n",
    "else:\n",
    "    llama_results[\"What was the average active power consumption in March 2007?\"]=0\n",
    "print(value)"
   ]
  },
  {
   "cell_type": "code",
   "execution_count": null,
   "metadata": {
    "colab": {
     "base_uri": "https://localhost:8080/",
     "height": 1000
    },
    "id": "-ywIBlx0FwP6",
    "outputId": "ee9759e7-b5b5-4536-ffef-92dc7fdf7854"
   },
   "outputs": [
    {
     "name": "stdout",
     "output_type": "stream",
     "text": [
      "------------------------------------------------------------------------\n",
      "Python pandas Code is:\n",
      "\n",
      " import pandas as pd\n",
      "import matplotlib.pyplot as plt\n",
      "# Load and preprocess the data\n",
      "df = pd.read_csv('household_power_consumption.txt',\n",
      "                 sep=';',\n",
      "                 parse_dates={'datetime': ['Date', 'Time']},\n",
      "                 infer_datetime_format=True,\n",
      "                 na_values=['?'],\n",
      "                 low_memory=False)\n",
      "df = df.dropna()\n",
      "df['Global_active_power'] = df['Global_active_power'].astype(float)\n",
      "df = df.set_index('datetime')\n",
      "# Extract day of the week\n",
      "df['day_of_week'] = df.index.dayofweek\n",
      "# Create a new column to differentiate between weekdays and weekends\n",
      "df['day_type'] = df['day_of_week'].apply(lambda x: 'Weekday' if x < 5 else 'Weekend')\n",
      "# Group by day type and calculate mean energy usage\n",
      "energy_usage = df.groupby('day_type')['Global_active_power'].mean()\n",
      "# Plot the result\n",
      "energy_usage.plot(kind='bar')\n",
      "------------------------------------------------------------------------\n",
      "Output of the code is:\n",
      "\n"
     ]
    },
    {
     "name": "stderr",
     "output_type": "stream",
     "text": [
      "<string>:4: FutureWarning: Support for nested sequences for 'parse_dates' in pd.read_csv is deprecated. Combine the desired columns with pd.to_datetime after parsing instead.\n",
      "<string>:4: FutureWarning: The argument 'infer_datetime_format' is deprecated and will be removed in a future version. A strict version of it is now the default, see https://pandas.pydata.org/pdeps/0004-consistent-to-datetime-parsing.html. You can safely remove this argument.\n",
      "<string>:4: UserWarning: Parsing dates in %d/%m/%Y %H:%M:%S format when dayfirst=False (the default) was specified. Pass `dayfirst=True` or specify a format to silence this warning.\n"
     ]
    },
    {
     "data": {
      "image/png": "[encoded data removed]",
      "text/plain": [
       "<Figure size 640x480 with 1 Axes>"
      ]
     },
     "metadata": {},
     "output_type": "display_data"
    }
   ],
   "source": [
    "execute_query(\"Compare energy usage (Global_active_power) on weekdays vs weekends. Can you show it using visualizatio tool\",\"llama-3.3-70b-Versatile\",df)"
   ]
  },
  {
   "cell_type": "markdown",
   "metadata": {
    "id": "ymTxrywxIIqs"
   },
   "source": []
  },
  {
   "cell_type": "code",
   "execution_count": 68,
   "metadata": {
    "colab": {
     "base_uri": "https://localhost:8080/"
    },
    "id": "EjLRWAcuGF-H",
    "outputId": "b64297bc-81db-47fd-a414-f522a2bf5913"
   },
   "outputs": [
    {
     "name": "stdout",
     "output_type": "stream",
     "text": [
      "------------------------------------------------------------------------\n",
      "Python pandas Code is:\n",
      "\n",
      " import pandas as pd\n",
      "import matplotlib.pyplot as plt\n",
      "import os\n",
      "import io\n",
      "# Find days where total energy consumption exceeded 5 kWh\n",
      "daily_energy = df['Global_active_power'].resample('D').sum() / 1000  # convert to kWh\n",
      "days_exceeded_5_kwh = daily_energy[daily_energy > 5].index\n",
      "# Calculate average power in March\n",
      "avg_power_march = df['Global_active_power'].resample('M').mean().loc[2007, 3]\n",
      "# Find the hour with the maximum power consumption\n",
      "max_hour = df['Global_active_power'].resample('H').mean().idxmax()\n",
      "# Calculate average power consumption on weekdays and weekends\n",
      "weekday_avg = df['Global_active_power'].resample('D').mean().loc[df.index.weekday < 5].mean()\n",
      "weekend_avg = df['Global_active_power'].resample('D').mean().loc[df.index.weekday >= 5].mean()\n",
      "# Calculate daily voltage\n",
      "daily_voltage = df['Voltage'].resample('D').mean()\n",
      "# Calculate correlation between Global_active_power and Voltage\n",
      "correlation = df['Global_active_power'].corr(df['Voltage'])\n",
      "# Create plot for daily energy consumption\n",
      "plt.figure(figsize=(10,6))\n",
      "plt.plot(daily_energy.index, daily_energy, color='blue')\n",
      "title = 'Daily Energy Consumption'\n",
      "os.makedirs(f\"images/llama-3.3-70b-Versatile\", exist_ok=True)\n",
      "filename = title.lower().replace(' ','_') + '.png'\n",
      "buf = io.BytesIO()\n",
      "plt.savefig(buf, format='png')\n",
      "plot_data = buf.getvalue()\n",
      "------------------------------------------------------------------------\n",
      "Output of the code is:\n",
      "\n",
      "Error executing code: Too many indexers\n",
      "False\n"
     ]
    }
   ],
   "source": [
    "value= execute_query(\"Find days where total energy consumption exceeded 5 kWh.\",\"llama-3.3-70b-Versatile\",df)\n",
    "if(value):\n",
    "    llama_results[\"Find days where total energy consumption exceeded 5 kWh\"]=1\n",
    "else:\n",
    "    llama_results[\"Find days where total energy consumption exceeded 5 kWh\"]=0\n",
    "print(value)"
   ]
  },
  {
   "cell_type": "code",
   "execution_count": 86,
   "metadata": {
    "colab": {
     "base_uri": "https://localhost:8080/",
     "height": 488
    },
    "id": "_X9OLwzhILN1",
    "outputId": "c8e493a3-a484-45fa-ebc4-bf9f1c48ffd9"
   },
   "outputs": [
    {
     "name": "stdout",
     "output_type": "stream",
     "text": [
      "------------------------------------------------------------------------\n",
      "Python pandas Code is:\n",
      "\n",
      " import pandas as pd\n",
      "import matplotlib.pyplot as plt\n",
      "import os\n",
      "import io\n",
      "# Filter data\n",
      "filtered = df[(df.index.year==2007) & (df.index.month==1) & (df.index.day<=7)]\n",
      "daily = filtered['Global_active_power'].resample('D').mean()\n",
      "# Create plot\n",
      "plt.figure(figsize=(10,6))\n",
      "plt.plot(daily.index, daily, color='blue')  \n",
      "title = 'first_week_january_2007_daily_power_consumption'\n",
      "# Save and store\n",
      "os.makedirs(f\"images/llama-3.3-70b-Versatile\", exist_ok=True)\n",
      "filename = title.lower().replace(' ','_') + '.png'\n",
      "buf = io.BytesIO()\n",
      "plot_data = buf.getvalue()\n",
      "# Aggregate data by month\n",
      "monthly = df['Global_active_power'].resample('M').mean()\n",
      "print(monthly)\n",
      "------------------------------------------------------------------------\n",
      "Output of the code is:\n",
      "\n",
      "datetime\n",
      "2006-12-31    1.901295\n",
      "2007-01-31    1.546034\n",
      "2007-02-28    1.401084\n",
      "2007-03-31    1.318627\n",
      "2007-04-30    0.891189\n",
      "2007-05-31    0.985862\n",
      "2007-06-30    0.826814\n",
      "2007-07-31    0.667367\n",
      "2007-08-31    0.764186\n",
      "2007-09-30    0.969318\n",
      "2007-10-31    1.103911\n",
      "2007-11-30    1.294473\n",
      "2007-12-31    1.626474\n",
      "2008-01-31    1.459920\n",
      "2008-02-29    1.181384\n",
      "2008-03-31    1.245337\n",
      "2008-04-30    1.115972\n",
      "2008-05-31    1.024281\n",
      "2008-06-30    0.994096\n",
      "2008-07-31    0.794781\n",
      "2008-08-31    0.276488\n",
      "2008-09-30    0.987680\n",
      "2008-10-31    1.136768\n",
      "2008-11-30    1.387066\n",
      "2008-12-31    1.275189\n",
      "2009-01-31    1.410202\n",
      "2009-02-28    1.247568\n",
      "2009-03-31    1.226735\n",
      "2009-04-30    1.140690\n",
      "2009-05-31    1.012856\n",
      "2009-06-30    0.840756\n",
      "2009-07-31    0.618121\n",
      "2009-08-31    0.664619\n",
      "2009-09-30    0.986841\n",
      "2009-10-31    1.144486\n",
      "2009-11-30    1.274743\n",
      "2009-12-31    1.364421\n",
      "2010-01-31    1.430525\n",
      "2010-02-28    1.375855\n",
      "2010-03-31    1.130075\n",
      "2010-04-30    1.027295\n",
      "2010-05-31    1.095284\n",
      "2010-06-30    0.969615\n",
      "2010-07-31    0.721068\n",
      "2010-08-31    0.590778\n",
      "2010-09-30    0.956442\n",
      "2010-10-31    1.163399\n",
      "2010-11-30    1.196854\n",
      "Freq: M, Name: Global_active_power, dtype: float64\n",
      "True\n"
     ]
    },
    {
     "data": {
      "image/png": "[encoded data removed]",
      "text/plain": [
       "<Figure size 1000x600 with 1 Axes>"
      ]
     },
     "metadata": {},
     "output_type": "display_data"
    }
   ],
   "source": [
    "value= execute_query(\"Plot the energy usage trend for the first week of January 2007. Can you aggregrate data by month\",\"llama-3.3-70b-Versatile\",df)\n",
    "if(value):\n",
    "    llama_results[\"Plot the energy usage trend for the first week of January 2007. Can you aggregrate data by month\"]=1\n",
    "else:\n",
    "    llama_results[\"Plot the energy usage trend for the first week of January 2007. Can you aggregrate data by month\"]=0\n",
    "print(value)"
   ]
  },
  {
   "cell_type": "code",
   "execution_count": 82,
   "metadata": {
    "colab": {
     "base_uri": "https://localhost:8080/"
    },
    "id": "cZe6TVxnNcTN",
    "outputId": "8fad12c1-5bb5-4a15-f4fa-24506f0a9656"
   },
   "outputs": [
    {
     "name": "stdout",
     "output_type": "stream",
     "text": [
      "------------------------------------------------------------------------\n",
      "Python pandas Code is:\n",
      "\n",
      " # Filter data for the first week of February 2007\n",
      "filtered = df[(df.index.year==2007) & (df.index.month==2) & (df.index.day<=7)]\n",
      "# Calculate average voltage for each day\n",
      "daily_voltage = filtered['Voltage'].resample('D').mean()\n",
      "# Print the final result\n",
      "print(daily_voltage)\n",
      "# Since this is not a visualization question, no plot is generated\n",
      "------------------------------------------------------------------------\n",
      "Output of the code is:\n",
      "\n",
      "datetime\n",
      "2007-02-01    240.392139\n",
      "2007-02-02    240.334389\n",
      "2007-02-03    238.910194\n",
      "2007-02-04    239.633333\n",
      "2007-02-05    240.810312\n",
      "2007-02-06    241.264160\n",
      "2007-02-07    241.149694\n",
      "Freq: D, Name: Voltage, dtype: float64\n",
      "True\n"
     ]
    },
    {
     "data": {
      "text/plain": [
       "<Figure size 640x480 with 0 Axes>"
      ]
     },
     "metadata": {},
     "output_type": "display_data"
    }
   ],
   "source": [
    "value= execute_query(\"Find the average voltage for each day of the first week of February 2007\",\"llama-3.3-70b-Versatile\",df)\n",
    "if(value):\n",
    "    llama_results[\"Find the average voltage for each day of the first week of February 2007\"]=1\n",
    "else:\n",
    "    llama_results[\"Find the average voltaga for each day of the first week of February 2007\"]=0\n",
    "print(value)"
   ]
  },
  {
   "cell_type": "code",
   "execution_count": 83,
   "metadata": {
    "colab": {
     "base_uri": "https://localhost:8080/"
    },
    "id": "aWkBYLC6Ns3B",
    "outputId": "f61aba45-929e-4941-e7fb-fbcbea9bf73f"
   },
   "outputs": [
    {
     "name": "stdout",
     "output_type": "stream",
     "text": [
      "------------------------------------------------------------------------\n",
      "Python pandas Code is:\n",
      "\n",
      " import pandas as pd\n",
      "import matplotlib.pyplot as plt\n",
      "import os\n",
      "import io\n",
      "# Calculate correlation between global active power and sub-metering values\n",
      "correlation = df[['Global_active_power', 'Sub_metering_1', 'Sub_metering_2', 'Sub_metering_3']].corr()\n",
      "# Print correlation matrix\n",
      "print(correlation)\n",
      "# Filter data for visualization\n",
      "filtered = df[['Global_active_power', 'Sub_metering_1', 'Sub_metering_2', 'Sub_metering_3']]\n",
      "# Create plot\n",
      "plt.figure(figsize=(10,6))\n",
      "plt.plot(filtered.index, filtered['Global_active_power'], label='Global Active Power')\n",
      "plt.plot(filtered.index, filtered['Sub_metering_1'], label='Sub Metering 1')\n",
      "plt.plot(filtered.index, filtered['Sub_metering_2'], label='Sub Metering 2')\n",
      "plt.plot(filtered.index, filtered['Sub_metering_3'], label='Sub Metering 3')\n",
      "# Save and store\n",
      "os.makedirs(f\"images/llama-3.3-70b-Versatile\", exist_ok=True)\n",
      "filename = 'global_active_power_and_sub_metering_values_over_time.png'\n",
      "buf = io.BytesIO()\n",
      "plt.savefig(buf, format='png')\n",
      "plot_data = buf.getvalue()\n",
      "------------------------------------------------------------------------\n",
      "Output of the code is:\n",
      "\n",
      "                     Global_active_power  Sub_metering_1  Sub_metering_2  \\\n",
      "Global_active_power             1.000000        0.484401        0.434569   \n",
      "Sub_metering_1                  0.484401        1.000000        0.054721   \n",
      "Sub_metering_2                  0.434569        0.054721        1.000000   \n",
      "Sub_metering_3                  0.638555        0.102571        0.080872   \n",
      "\n",
      "                     Sub_metering_3  \n",
      "Global_active_power        0.638555  \n",
      "Sub_metering_1             0.102571  \n",
      "Sub_metering_2             0.080872  \n",
      "Sub_metering_3             1.000000  \n",
      "True\n"
     ]
    },
    {
     "data": {
      "image/png": "[encoded data removed]",
      "text/plain": [
       "<Figure size 1000x600 with 1 Axes>"
      ]
     },
     "metadata": {},
     "output_type": "display_data"
    }
   ],
   "source": [
    "value= execute_query(\"What is the correlation between global active power and sub-metering values?.\",\"llama-3.3-70b-Versatile\",df)\n",
    "if(value):\n",
    "    llama_results[\"What is the correlation between global active power and sub-metering values?\"]=1\n",
    "else:\n",
    "    llama_results[\"What is the correlation between global active power and sub-metering values?\"]=0\n",
    "print(value)"
   ]
  },
  {
   "cell_type": "code",
   "execution_count": 84,
   "metadata": {
    "colab": {
     "base_uri": "https://localhost:8080/",
     "height": 1000
    },
    "id": "gTWtHiGBN8d0",
    "outputId": "c965078f-9482-462e-e724-888b235eb7a5"
   },
   "outputs": [
    {
     "name": "stdout",
     "output_type": "stream",
     "text": [
      "------------------------------------------------------------------------\n",
      "Python pandas Code is:\n",
      "\n",
      " import pandas as pd\n",
      "import matplotlib.pyplot as plt\n",
      "import os\n",
      "import io\n",
      "# Calculate correlation between global active power and sub-metering values\n",
      "correlation = df[['Global_active_power', 'Sub_metering_1', 'Sub_metering_2', 'Sub_metering_3']].corr()\n",
      "# Print correlation\n",
      "print(correlation)\n",
      "# Filter data for visualization\n",
      "filtered = df[['Global_active_power', 'Sub_metering_1', 'Sub_metering_2', 'Sub_metering_3']]\n",
      "# Create plot\n",
      "plt.figure(figsize=(10,6))\n",
      "plt.plot(filtered.index, filtered['Global_active_power'], label='Global Active Power')\n",
      "plt.plot(filtered.index, filtered['Sub_metering_1'], label='Sub Metering 1')\n",
      "plt.plot(filtered.index, filtered['Sub_metering_2'], label='Sub Metering 2')\n",
      "plt.plot(filtered.index, filtered['Sub_metering_3'], label='Sub Metering 3')\n",
      "# Save and store\n",
      "os.makedirs(f\"images/llama-3.3-70b-Versatile\", exist_ok=True)\n",
      "filename = 'global_active_power_and_sub_metering_values_over_time.png'\n",
      "buf = io.BytesIO()\n",
      "plt.savefig(buf, format='png')\n",
      "plot_data = buf.getvalue()\n",
      "------------------------------------------------------------------------\n",
      "Output of the code is:\n",
      "\n",
      "                     Global_active_power  Sub_metering_1  Sub_metering_2  \\\n",
      "Global_active_power             1.000000        0.484401        0.434569   \n",
      "Sub_metering_1                  0.484401        1.000000        0.054721   \n",
      "Sub_metering_2                  0.434569        0.054721        1.000000   \n",
      "Sub_metering_3                  0.638555        0.102571        0.080872   \n",
      "\n",
      "                     Sub_metering_3  \n",
      "Global_active_power        0.638555  \n",
      "Sub_metering_1             0.102571  \n",
      "Sub_metering_2             0.080872  \n",
      "Sub_metering_3             1.000000  \n"
     ]
    },
    {
     "data": {
      "image/png": "[encoded data removed]",
      "text/plain": [
       "<Figure size 1000x600 with 1 Axes>"
      ]
     },
     "metadata": {},
     "output_type": "display_data"
    }
   ],
   "source": [
    "value= execute_query(\"What is the correlation between global active power and sub-metering values?. Can you show it using visualization\",\"llama-3.3-70b-Versatile\",df)\n",
    "if(value):\n",
    "    llama_results[\"What is the correlation between global active power and sub-metering values?. Can you show it using visualization\"]=1\n",
    "else:\n",
    "    llama_results[\"What is the correlation between global active power and sub-metering values?. Can you show it using visualization\"]=0"
   ]
  },
  {
   "cell_type": "code",
   "execution_count": null,
   "metadata": {
    "colab": {
     "base_uri": "https://localhost:8080/"
    },
    "id": "ayfw4aCFOlLT",
    "outputId": "ffab0e87-90ca-416e-f6ec-63032a06cb27"
   },
   "outputs": [
    {
     "name": "stdout",
     "output_type": "stream",
     "text": [
      "------------------------------------------------------------------------\n",
      "Python pandas Code is:\n",
      "\n",
      " import pandas as pd\n",
      "# Load and preprocess the data\n",
      "df = pd.read_csv('household_power_consumption.txt',\n",
      "                 sep=';',\n",
      "                 parse_dates={'datetime': ['Date', 'Time']},\n",
      "                 infer_datetime_format=True,\n",
      "                 na_values=['?'],\n",
      "                 low_memory=False)\n",
      "df = df.dropna()\n",
      "df['Global_active_power'] = df['Global_active_power'].astype(float)\n",
      "df = df.set_index('datetime')\n",
      "# Filter data for the first week of February 2008\n",
      "df_filtered = df[(df.index.year == 2008) & (df.index.month == 2) & (df.index.day <= 7)]\n",
      "# Group by day and calculate average voltage\n",
      "average_voltage = df_filtered['Voltage'].resample('D').mean()\n",
      "print(average_voltage)\n",
      "------------------------------------------------------------------------\n",
      "Output of the code is:\n",
      "\n"
     ]
    },
    {
     "name": "stderr",
     "output_type": "stream",
     "text": [
      "<string>:3: FutureWarning: Support for nested sequences for 'parse_dates' in pd.read_csv is deprecated. Combine the desired columns with pd.to_datetime after parsing instead.\n",
      "<string>:3: FutureWarning: The argument 'infer_datetime_format' is deprecated and will be removed in a future version. A strict version of it is now the default, see https://pandas.pydata.org/pdeps/0004-consistent-to-datetime-parsing.html. You can safely remove this argument.\n",
      "<string>:3: UserWarning: Parsing dates in %d/%m/%Y %H:%M:%S format when dayfirst=False (the default) was specified. Pass `dayfirst=True` or specify a format to silence this warning.\n"
     ]
    },
    {
     "name": "stdout",
     "output_type": "stream",
     "text": [
      "datetime\n",
      "2008-02-01    240.360271\n",
      "2008-02-02    240.290514\n",
      "2008-02-03    240.340722\n",
      "2008-02-04    240.255208\n",
      "2008-02-05    240.976917\n",
      "2008-02-06    238.413715\n",
      "2008-02-07    241.070549\n",
      "Freq: D, Name: Voltage, dtype: float64\n"
     ]
    }
   ],
   "source": [
    "execute_query(\"Find the average voltage for each day of the first week of February 2008\",\"llama-3.3-70b-Versatile\",df)"
   ]
  },
  {
   "cell_type": "code",
   "execution_count": null,
   "metadata": {
    "colab": {
     "base_uri": "https://localhost:8080/"
    },
    "id": "xeXNfcrEO04f",
    "outputId": "f86e677c-68d5-4e47-de55-88b1557fb9c0"
   },
   "outputs": [
    {
     "name": "stdout",
     "output_type": "stream",
     "text": [
      "------------------------------------------------------------------------\n",
      "Python pandas Code is:\n",
      "\n",
      " import pandas as pd\n",
      "# Load and preprocess the data\n",
      "df = pd.read_csv('household_power_consumption.txt',\n",
      "                 sep=';',\n",
      "                 parse_dates={'datetime': ['Date', 'Time']},\n",
      "                 infer_datetime_format=True,\n",
      "                 na_values=['?'],\n",
      "                 low_memory=False)\n",
      "df = df.dropna()\n",
      "df['Global_active_power'] = df['Global_active_power'].astype(float)\n",
      "df = df.set_index('datetime')\n",
      "# Filter data for 2008\n",
      "df_2008 = df[df.index.year == 2008]\n",
      "# Calculate daily energy consumption\n",
      "daily_consumption = df_2008['Global_active_power'].resample('D').sum() / 1000  # Convert to kWh\n",
      "# Find days where energy consumption exceeded 2 kWh\n",
      "days_exceeded = daily_consumption[daily_consumption > 2]\n",
      "print(days_exceeded)\n",
      "------------------------------------------------------------------------\n",
      "Output of the code is:\n",
      "\n"
     ]
    },
    {
     "name": "stderr",
     "output_type": "stream",
     "text": [
      "<string>:3: FutureWarning: Support for nested sequences for 'parse_dates' in pd.read_csv is deprecated. Combine the desired columns with pd.to_datetime after parsing instead.\n",
      "<string>:3: FutureWarning: The argument 'infer_datetime_format' is deprecated and will be removed in a future version. A strict version of it is now the default, see https://pandas.pydata.org/pdeps/0004-consistent-to-datetime-parsing.html. You can safely remove this argument.\n",
      "<string>:3: UserWarning: Parsing dates in %d/%m/%Y %H:%M:%S format when dayfirst=False (the default) was specified. Pass `dayfirst=True` or specify a format to silence this warning.\n"
     ]
    },
    {
     "name": "stdout",
     "output_type": "stream",
     "text": [
      "datetime\n",
      "2008-01-01    2.759738\n",
      "2008-01-04    2.291852\n",
      "2008-01-05    2.183248\n",
      "2008-01-08    2.043550\n",
      "2008-01-12    2.871408\n",
      "                ...   \n",
      "2008-12-17    2.098786\n",
      "2008-12-20    2.242502\n",
      "2008-12-21    2.643610\n",
      "2008-12-22    2.015808\n",
      "2008-12-27    2.972164\n",
      "Name: Global_active_power, Length: 74, dtype: float64\n"
     ]
    }
   ],
   "source": [
    "execute_query(\"Find days where energy consumption exceeded 2 kWh in 2008\",\"llama-3.3-70b-Versatile\",df)"
   ]
  },
  {
   "cell_type": "code",
   "execution_count": 85,
   "metadata": {},
   "outputs": [
    {
     "name": "stdout",
     "output_type": "stream",
     "text": [
      "------------------------------------------------------------------------\n",
      "Python pandas Code is:\n",
      "\n",
      " import pandas as pd\n",
      "import matplotlib.pyplot as plt\n",
      "import os\n",
      "import io\n",
      "# Filter data\n",
      "filtered = df[(df.index.year==2007) & (df.index.month==1) & (df.index.day <= 7)]\n",
      "daily = filtered['Global_active_power'].resample('D').mean()\n",
      "# Create plot\n",
      "plt.figure(figsize=(10,6))\n",
      "plt.plot(daily.index, daily, color='blue')  \n",
      "title = 'first week of january 2007 daily power consumption'\n",
      "# Save and store\n",
      "os.makedirs(f\"images/llama-3.3-70b-Versatile\", exist_ok=True)\n",
      "filename = title.lower().replace(' ','_') + '.png'\n",
      "buf = io.BytesIO()\n",
      "plt.savefig(buf, format='png')\n",
      "plot_data = buf.getvalue()\n",
      "------------------------------------------------------------------------\n",
      "Output of the code is:\n",
      "\n",
      "True\n"
     ]
    },
    {
     "data": {
      "image/png": "[encoded data removed]",
      "text/plain": [
       "<Figure size 1000x600 with 1 Axes>"
      ]
     },
     "metadata": {},
     "output_type": "display_data"
    }
   ],
   "source": [
    "value = execute_query(\"Plot the energy usage trend for the first week of January 2007. Can you aggregate data by day\",\"llama-3.3-70b-Versatile\",df)\n",
    "if(value):\n",
    "    llama_results[\"Plot the energy usage trend for the first week of January 2007. Can you aggregate data by day\"]=1\n",
    "else:\n",
    "    llama_results[\"Plot the energy usage trend for the first week of January 2007. Can you aggregate data by day\"]=0\n",
    "print(value)"
   ]
  },
  {
   "cell_type": "code",
   "execution_count": 88,
   "metadata": {},
   "outputs": [
    {
     "name": "stdout",
     "output_type": "stream",
     "text": [
      "------------------------------------------------------------------------\n",
      "Python pandas Code is:\n",
      "\n",
      " import pandas as pd\n",
      "import matplotlib.pyplot as plt\n",
      "import os\n",
      "import io\n",
      "# Calculate weekday and weekend averages\n",
      "df['day_of_week'] = df.index.dayofweek\n",
      "weekday_avg = df[df['day_of_week'] < 5]['Global_active_power'].mean()\n",
      "weekend_avg = df[df['day_of_week'] >= 5]['Global_active_power'].mean()\n",
      "# Print results\n",
      "print(\"Weekday average energy usage:\", weekday_avg)\n",
      "print(\"Weekend average energy usage:\", weekend_avg)\n",
      "# Visualize the comparison\n",
      "plt.figure(figsize=(10,6))\n",
      "plt.plot(df.index, df['Global_active_power'], color='blue', alpha=0.5, label='Energy usage')\n",
      "plt.plot(df.index, [weekday_avg if day < 5 else weekend_avg for day in df['day_of_week']], color='red', label='Weekday/Weekend average')\n",
      "# Save and store\n",
      "os.makedirs(f\"images/llama-3.3-70b-Versatile\", exist_ok=True)\n",
      "filename = 'weekday_vs_weekend_energy_usage.png'\n",
      "buf = io.BytesIO()\n",
      "plt.savefig(buf, format='png')\n",
      "plot_data = buf.getvalue()\n",
      "------------------------------------------------------------------------\n",
      "Output of the code is:\n",
      "\n",
      "Weekday average energy usage: 1.0354720516747509\n",
      "Weekend average energy usage: 1.234232176791304\n",
      "Error executing code: name 'weekend_avg' is not defined\n",
      "False\n"
     ]
    },
    {
     "data": {
      "image/png": "[encoded data removed]",
      "text/plain": [
       "<Figure size 1000x600 with 1 Axes>"
      ]
     },
     "metadata": {},
     "output_type": "display_data"
    }
   ],
   "source": [
    "value= execute_query(\"Compare energy usage (Global_active_power) on weekdays vs weekends.\",\"llama-3.3-70b-Versatile\",df)\n",
    "if(value):\n",
    "    llama_results[\"Compare energy usage (Global_active_power) on weekdays vs weekends\"]=1\n",
    "else:\n",
    "    llama_results[\"Compare energy usage (Global_active_power) on weekdays vs weekends\"]=0\n",
    "print(value)"
   ]
  },
  {
   "cell_type": "code",
   "execution_count": 4,
   "metadata": {},
   "outputs": [
    {
     "name": "stdout",
     "output_type": "stream",
     "text": [
      "What was the average active power consumption in March 2007? :  0\n",
      "What hour of the day had the highest power usage on Christmas 2006? :  1\n",
      "Compare energy usage (Global_active_power) on weekdays vs weekends :  1\n",
      "Find days where total energy consumption exceeded 5 kWh :  0\n",
      "Plot the energy usage trend for the first week of January 2007. Can you aggregrate data by month :  1\n",
      "Find the average voltage for each day of the first week of February 2007 :  1\n",
      "What is the correlation between global active power and sub-metering values? :  1\n",
      "What is the correlation between global active power and sub-metering values?. Can you show it using visualization :  1\n",
      "Plot the energy usage trend for the first week of January 2007. Can you aggregate data by day :  1\n"
     ]
    }
   ],
   "source": [
    "for k,v in llama_results.items():\n",
    "    print(k,\": \",v)"
   ]
  },
  {
   "cell_type": "code",
   "execution_count": 3,
   "metadata": {},
   "outputs": [
    {
     "name": "stdout",
     "output_type": "stream",
     "text": [
      "Stored 'llama_results' (dict)\n"
     ]
    }
   ],
   "source": [
    "%store llama_results"
   ]
  },
  {
   "cell_type": "code",
   "execution_count": null,
   "metadata": {},
   "outputs": [],
   "source": []
  }
 ],
 "metadata": {
  "colab": {
   "provenance": []
  },
  "kernelspec": {
   "display_name": "Python 3 (ipykernel)",
   "language": "python",
   "name": "python3"
  },
  "language_info": {
   "codemirror_mode": {
    "name": "ipython",
    "version": 3
   },
   "file_extension": ".py",
   "mimetype": "text/x-python",
   "name": "python",
   "nbconvert_exporter": "python",
   "pygments_lexer": "ipython3",
   "version": "3.10.7"
  }
 },
 "nbformat": 4,
 "nbformat_minor": 4
}
