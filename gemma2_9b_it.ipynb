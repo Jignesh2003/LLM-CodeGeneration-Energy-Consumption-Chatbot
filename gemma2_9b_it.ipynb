{
 "cells": [
  {
   "cell_type": "code",
   "execution_count": null,
   "metadata": {
    "colab": {
     "base_uri": "https://localhost:8080/"
    },
    "id": "vQg5zjmYbsXv",
    "outputId": "2ca4a2be-c97c-49e1-c203-ccb4363ea436"
   },
   "outputs": [
    {
     "name": "stdout",
     "output_type": "stream",
     "text": [
      "--2025-06-13 08:37:28--  https://archive.ics.uci.edu/static/public/235/individual+household+electric+power+consumption.zip\n",
      "Resolving archive.ics.uci.edu (archive.ics.uci.edu)... 128.195.10.252\n",
      "Connecting to archive.ics.uci.edu (archive.ics.uci.edu)|128.195.10.252|:443... connected.\n",
      "HTTP request sent, awaiting response... 200 OK\n",
      "Length: unspecified\n",
      "Saving to: ‘individual+household+electric+power+consumption.zip’\n",
      "\n",
      "individual+househol     [    <=>             ]  19.68M  28.1MB/s    in 0.7s    \n",
      "\n",
      "2025-06-13 08:37:29 (28.1 MB/s) - ‘individual+household+electric+power+consumption.zip’ saved [20640916]\n",
      "\n",
      "Archive:  individual+household+electric+power+consumption.zip\n",
      "  inflating: household_power_consumption.txt  \n"
     ]
    }
   ],
   "source": [
    "!wget https://archive.ics.uci.edu/static/public/235/individual+household+electric+power+consumption.zip\n",
    "!unzip individual+household+electric+power+consumption.zip"
   ]
  },
  {
   "cell_type": "code",
   "execution_count": null,
   "metadata": {
    "colab": {
     "base_uri": "https://localhost:8080/"
    },
    "id": "orm98gmebsXv",
    "outputId": "6338157b-37a0-4bb3-9501-158221a9edb0"
   },
   "outputs": [
    {
     "name": "stdout",
     "output_type": "stream",
     "text": [
      "Requirement already satisfied: Groq in /usr/local/lib/python3.11/dist-packages (0.28.0)\n",
      "Requirement already satisfied: anyio<5,>=3.5.0 in /usr/local/lib/python3.11/dist-packages (from Groq) (4.9.0)\n",
      "Requirement already satisfied: distro<2,>=1.7.0 in /usr/local/lib/python3.11/dist-packages (from Groq) (1.9.0)\n",
      "Requirement already satisfied: httpx<1,>=0.23.0 in /usr/local/lib/python3.11/dist-packages (from Groq) (0.28.1)\n",
      "Requirement already satisfied: pydantic<3,>=1.9.0 in /usr/local/lib/python3.11/dist-packages (from Groq) (2.11.5)\n",
      "Requirement already satisfied: sniffio in /usr/local/lib/python3.11/dist-packages (from Groq) (1.3.1)\n",
      "Requirement already satisfied: typing-extensions<5,>=4.10 in /usr/local/lib/python3.11/dist-packages (from Groq) (4.14.0)\n",
      "Requirement already satisfied: idna>=2.8 in /usr/local/lib/python3.11/dist-packages (from anyio<5,>=3.5.0->Groq) (3.10)\n",
      "Requirement already satisfied: certifi in /usr/local/lib/python3.11/dist-packages (from httpx<1,>=0.23.0->Groq) (2025.4.26)\n",
      "Requirement already satisfied: httpcore==1.* in /usr/local/lib/python3.11/dist-packages (from httpx<1,>=0.23.0->Groq) (1.0.9)\n",
      "Requirement already satisfied: h11>=0.16 in /usr/local/lib/python3.11/dist-packages (from httpcore==1.*->httpx<1,>=0.23.0->Groq) (0.16.0)\n",
      "Requirement already satisfied: annotated-types>=0.6.0 in /usr/local/lib/python3.11/dist-packages (from pydantic<3,>=1.9.0->Groq) (0.7.0)\n",
      "Requirement already satisfied: pydantic-core==2.33.2 in /usr/local/lib/python3.11/dist-packages (from pydantic<3,>=1.9.0->Groq) (2.33.2)\n",
      "Requirement already satisfied: typing-inspection>=0.4.0 in /usr/local/lib/python3.11/dist-packages (from pydantic<3,>=1.9.0->Groq) (0.4.1)\n"
     ]
    }
   ],
   "source": [
    "pip install Groq"
   ]
  },
  {
   "cell_type": "code",
   "execution_count": 1,
   "metadata": {
    "id": "QCFJ6SbtbsXw"
   },
   "outputs": [],
   "source": [
    "import pandas as pd\n",
    "import matplotlib.pyplot as plt\n",
    "from groq import Groq\n",
    "import json\n",
    "import re\n",
    "import os"
   ]
  },
  {
   "cell_type": "code",
   "execution_count": 2,
   "metadata": {
    "id": "AO1IjvHtbsXw"
   },
   "outputs": [],
   "source": [
    "Groq_api_key = 'api_key'\n",
    "client =Groq(api_key=Groq_api_key)"
   ]
  },
  {
   "cell_type": "code",
   "execution_count": 3,
   "metadata": {
    "id": "UHkspjZIbsXw"
   },
   "outputs": [],
   "source": [
    "#Load and and preprocess the dataset\n",
    "def load_data_set():\n",
    "    df = pd.read_csv('dataset/household_power_consumption.txt',\n",
    "             \tsep=';',\n",
    "             \tparse_dates={'datetime': ['Date', 'Time']},\n",
    "             \tinfer_datetime_format=True,\n",
    "             \tna_values=['?'],\n",
    "             \tlow_memory=False)\n",
    "\n",
    "    df = df.dropna()\n",
    "    df['Global_active_power'] = df['Global_active_power'].astype(float)\n",
    "    df = df.set_index('datetime')\n",
    "    return df"
   ]
  },
  {
   "cell_type": "code",
   "execution_count": 4,
   "metadata": {
    "id": "lSOcO7EabsXx"
   },
   "outputs": [],
   "source": [
    "# Function to generate pandas code from natural language question using GROQ API\n",
    "\n",
    "def generate_pandas_code(natural_language_question, model_name, df_info):\n",
    "    df_info_str = json.dumps(df_info)\n",
    "\n",
    "    prompt = f\"\"\"\n",
    "        You are a Python pandas and matplotlib expert. Given this preprocessed dataframe (index=datetime):\n",
    "\n",
    "        PREPROCESSING CODE:\n",
    "    \n",
    "         df = pd.read_csv('dataset/household_power_consumption.txt',\n",
    "             \tsep=';',\n",
    "             \tparse_dates={{'datetime': {{'Date', 'Time'}}}},\n",
    "             \tinfer_datetime_format=True,\n",
    "             \tna_values=['?'],\n",
    "             \tlow_memory=False)\n",
    "\n",
    "        df = df.dropna()\n",
    "        df['Global_active_power'] = df['Global_active_power'].astype(float)\n",
    "        df = df.set_index('datetime')\n",
    "        \n",
    "        Columns: {df_info_str}\n",
    "        \n",
    "        Generate ONLY executable Python/pandas code that:\n",
    "        1. Answers the question: \"{natural_language_question}\"\n",
    "        2. Stores final results in these standard variables when applicable:\n",
    "           - avg_power_march, max_hour, weekday_avg, weekend_avg \n",
    "           - days_exceeded_5_kwh, daily_voltage, correlation\n",
    "           - plot_data (for visualization outputs only)\n",
    "        \n",
    "        ONLY FOR VISUALIZATION QUERIES WHEN QUESTION CONTAINS KEY-WORDS like \"plot\", \"visualize\", \"graph\", \"visualization\":\n",
    "            1. MUST include these elements in order:\n",
    "               a) Data filtering/processing\n",
    "               b) plt.figure() with size (10,6)\n",
    "               c) ACTUAL PLOTTING COMMAND (plt.plot, plt.bar, etc.)\n",
    "               d) Axis labels and title (plt.xlabel, plt.ylabel, plt.title)\n",
    "               e) Save to \"images/{model_name}/[sanitized_title].png\"\n",
    "               f) Buffer handling for plot_data\n",
    "               g) plt.show()\n",
    "               h) plt.close()\n",
    "        \n",
    "        EXAMPLE FOR QUESTION CONTAIN VISUALIZATION i.e \"Plot the energy usage trend for the first week of January 2007.\"\n",
    "        ```python\n",
    "        # Filter data\n",
    "        filtered = df[(df.index.year==2007) & (df.index.month==1)]\n",
    "        daily = filtered['Global_active_power'].resample('D').mean()\n",
    "        \n",
    "        # Create plot\n",
    "        plt.figure(figsize=(10,6))\n",
    "        plt.plot(daily.index, daily, color='blue')  # <-- ACTUAL PLOT COMMAND\n",
    "        plt.xlabel('Date')\n",
    "        plt.ylabel('Power (kW)')\n",
    "        title = 'January 2007 Daily Power Consumption'\n",
    "        plt.title(title)\n",
    "        \n",
    "        # Save and store\n",
    "        os.makedirs(f\"images/{model_name}\", exist_ok=True)\n",
    "        filename = title.lower().replace(' ','_') + '.png'\n",
    "        plt.savefig(f\"images/{model_name}/filename.png\")\n",
    "        buf = io.BytesIO()\n",
    "        buf.seek(0)\n",
    "        plot_data = buf.getvalue()\n",
    "        plt.show()\n",
    "        plt.close()\n",
    "\n",
    "        IMPORTANT RULES:\n",
    "        (.)NEVER skip the actual plotting command (plt.plot, plt.bar, etc.) whereever needed if QUESTION CONTAIN KEY-WORDS.\n",
    "        (.)show the plot (plt.show()) only for visual questions\n",
    "        (.)Generate ONLY code - no explanations or markdown formatting\n",
    "        (.)For non-visual questions, NEVER include plotting code AND ALWAYS PRINT THE FINAL RESULT.\n",
    "    \"\"\"\n",
    "    try:\n",
    "        chat_completion = client.chat.completions.create(\n",
    "            messages=[\n",
    "                {\n",
    "                    \"role\": \"user\",\n",
    "                    \"content\": prompt,\n",
    "                }\n",
    "            ],\n",
    "            model=model_name,\n",
    "            temperature=0.1,\n",
    "        )\n",
    "        return chat_completion.choices[0].message.content\n",
    "\n",
    "    except Exception as e:\n",
    "        print(f\"GROQ API error: {e}\")\n",
    "        return None"
   ]
  },
  {
   "cell_type": "code",
   "execution_count": 5,
   "metadata": {
    "id": "h0PVzmxSbsXx"
   },
   "outputs": [],
   "source": [
    "# Function to execute the generated pandas code and display the output\n",
    "\n",
    "def execute_query(query,model_name,df):\n",
    "    df_info = {'columns': df.columns.tolist()}\n",
    "    local_vars={}\n",
    "\n",
    "    code = generate_pandas_code(query,model_name,df_info)\n",
    "    #print(\"Python panda code is: \\n\",code)\n",
    "\n",
    "    # Clean the code by removing markdown formatting so that it can be executed\n",
    "    if code:\n",
    "        code_clean = re.sub(r\"```(?:python)?\\n?|```\", \"\", code).strip()\n",
    "        code_clean = re.sub(r\"<think>.*?</think>\", \"\", code_clean, flags=re.DOTALL).strip()\n",
    "        code_clean = code_clean.strip().split('\\n')\n",
    "        valid_lines = []\n",
    "        for line in code_clean:\n",
    "            # Include lines that look like real Python code (simple heuristic)\n",
    "            if line.strip().startswith((\"print\", \"df\", \"#\", \"import\", \"average\", \"result\")) or \"=\" in line:\n",
    "                valid_lines.append(line)\n",
    "\n",
    "        final_code = '\\n'.join(valid_lines)\n",
    "        fixed_code = re.sub(\n",
    "            r\"df\\[(df\\.index\\.\\w+\\s*==\\s*\\d+)\\]\\[(df\\.index\\.\\w+\\s*==\\s*\\d+)\\]\",\n",
    "            r\"df[(\\1) & (\\2)]\",\n",
    "            final_code\n",
    "        )\n",
    "        print(\"------------------------------------------------------------------------\\nPython pandas Code is:\\n\\n\", fixed_code)\n",
    "\n",
    "    try:\n",
    "        print(\"------------------------------------------------------------------------\\nOutput of the code is:\\n\")\n",
    "        exec_vars={'df':df,'plt':plt,'os':os}\n",
    "        exec(fixed_code, exec_vars,local_vars) #execute the code in the context of the dataframe\n",
    "         # Check if a plot was attempted but has 0 axes\n",
    "        if 'plt' in exec_vars:\n",
    "            fig = plt.gcf()\n",
    "            if len(fig.axes) == 0 and any(line.strip().startswith(('plt.plot', 'plt.bar', 'plt.figure')) \n",
    "                                       for line in fixed_code.split('\\n')):\n",
    "                plt.close()\n",
    "                print(\"Plot generation failed - empty figure detected\")\n",
    "                return False\n",
    "        return True\n",
    "    except Exception as e:\n",
    "        print(f\"Error executing code: {e}\")\n",
    "        return False"
   ]
  },
  {
   "cell_type": "code",
   "execution_count": 6,
   "metadata": {
    "colab": {
     "base_uri": "https://localhost:8080/"
    },
    "id": "Cq3ZZ4msbsXy",
    "outputId": "85bba699-1e8f-4651-e2c2-4277e6dc9e4a"
   },
   "outputs": [],
   "source": [
    "df = load_data_set()"
   ]
  },
  {
   "cell_type": "code",
   "execution_count": 7,
   "metadata": {
    "colab": {
     "base_uri": "https://localhost:8080/"
    },
    "id": "R-NqOJpGbsXy",
    "outputId": "ac48d191-e57a-4f99-f99b-53fe73ed6392"
   },
   "outputs": [
    {
     "name": "stdout",
     "output_type": "stream",
     "text": [
      "                     Global_active_power  Global_reactive_power  Voltage  \\\n",
      "datetime                                                                   \n",
      "2006-12-16 17:24:00                4.216                  0.418   234.84   \n",
      "2006-12-16 17:25:00                5.360                  0.436   233.63   \n",
      "2006-12-16 17:26:00                5.374                  0.498   233.29   \n",
      "2006-12-16 17:27:00                5.388                  0.502   233.74   \n",
      "2006-12-16 17:28:00                3.666                  0.528   235.68   \n",
      "...                                  ...                    ...      ...   \n",
      "2010-11-26 20:58:00                0.946                  0.000   240.43   \n",
      "2010-11-26 20:59:00                0.944                  0.000   240.00   \n",
      "2010-11-26 21:00:00                0.938                  0.000   239.82   \n",
      "2010-11-26 21:01:00                0.934                  0.000   239.70   \n",
      "2010-11-26 21:02:00                0.932                  0.000   239.55   \n",
      "\n",
      "                     Global_intensity  Sub_metering_1  Sub_metering_2  \\\n",
      "datetime                                                                \n",
      "2006-12-16 17:24:00              18.4             0.0             1.0   \n",
      "2006-12-16 17:25:00              23.0             0.0             1.0   \n",
      "2006-12-16 17:26:00              23.0             0.0             2.0   \n",
      "2006-12-16 17:27:00              23.0             0.0             1.0   \n",
      "2006-12-16 17:28:00              15.8             0.0             1.0   \n",
      "...                               ...             ...             ...   \n",
      "2010-11-26 20:58:00               4.0             0.0             0.0   \n",
      "2010-11-26 20:59:00               4.0             0.0             0.0   \n",
      "2010-11-26 21:00:00               3.8             0.0             0.0   \n",
      "2010-11-26 21:01:00               3.8             0.0             0.0   \n",
      "2010-11-26 21:02:00               3.8             0.0             0.0   \n",
      "\n",
      "                     Sub_metering_3  \n",
      "datetime                             \n",
      "2006-12-16 17:24:00            17.0  \n",
      "2006-12-16 17:25:00            16.0  \n",
      "2006-12-16 17:26:00            17.0  \n",
      "2006-12-16 17:27:00            17.0  \n",
      "2006-12-16 17:28:00            17.0  \n",
      "...                             ...  \n",
      "2010-11-26 20:58:00             0.0  \n",
      "2010-11-26 20:59:00             0.0  \n",
      "2010-11-26 21:00:00             0.0  \n",
      "2010-11-26 21:01:00             0.0  \n",
      "2010-11-26 21:02:00             0.0  \n",
      "\n",
      "[2049280 rows x 7 columns]\n"
     ]
    }
   ],
   "source": [
    "print(df)"
   ]
  },
  {
   "cell_type": "code",
   "execution_count": 8,
   "metadata": {
    "colab": {
     "base_uri": "https://localhost:8080/"
    },
    "id": "pd4WZWHvbsXy",
    "outputId": "21e1d2a6-c456-4e94-a7a5-19785e2920d3"
   },
   "outputs": [
    {
     "name": "stdout",
     "output_type": "stream",
     "text": [
      "['Global_active_power', 'Global_reactive_power', 'Voltage', 'Global_intensity', 'Sub_metering_1', 'Sub_metering_2', 'Sub_metering_3']\n"
     ]
    }
   ],
   "source": [
    "print(df.columns.tolist())\n",
    "gemma_results={}"
   ]
  },
  {
   "cell_type": "markdown",
   "metadata": {
    "id": "tHBxNab4r6Vb"
   },
   "source": [
    "# Consider for Analysis"
   ]
  },
  {
   "cell_type": "code",
   "execution_count": null,
   "metadata": {
    "id": "JC9Q59XnP3qD"
   },
   "outputs": [],
   "source": [
    "#gemma2-9b-it Model Testing"
   ]
  },
  {
   "cell_type": "code",
   "execution_count": 9,
   "metadata": {
    "colab": {
     "base_uri": "https://localhost:8080/"
    },
    "id": "YHy2bM5uKRXF",
    "outputId": "5750b9b1-3033-49c5-868d-62aeca78b50f"
   },
   "outputs": [
    {
     "name": "stdout",
     "output_type": "stream",
     "text": [
      "------------------------------------------------------------------------\n",
      "Python pandas Code is:\n",
      "\n",
      " avg_power_march = df[(df.index.year == 2007) & (df.index.month == 3)]['Global_active_power'].mean()\n",
      "------------------------------------------------------------------------\n",
      "Output of the code is:\n",
      "\n",
      "True\n"
     ]
    },
    {
     "data": {
      "text/plain": [
       "<Figure size 640x480 with 0 Axes>"
      ]
     },
     "metadata": {},
     "output_type": "display_data"
    }
   ],
   "source": [
    "value= execute_query(\"What was the average active power consumption in March 2007?\",\"gemma2-9b-it\",df)\n",
    "if(value):\n",
    "    gemma_results[\"What was the average active power consumption in March 2007?\"]=1\n",
    "else:\n",
    "    gemma_results[\"What was the average active power consumption in March 2007?\"]=0\n",
    "print(value)"
   ]
  },
  {
   "cell_type": "code",
   "execution_count": 10,
   "metadata": {
    "colab": {
     "base_uri": "https://localhost:8080/"
    },
    "id": "QOwT7lR0Uifu",
    "outputId": "7df4e052-83e9-4a1e-f44f-4427e23ff0f0"
   },
   "outputs": [
    {
     "name": "stdout",
     "output_type": "stream",
     "text": [
      "------------------------------------------------------------------------\n",
      "Python pandas Code is:\n",
      "\n",
      " christmas_2006 = df[df.index.year == 2006 & df.index.month == 12]\n",
      "hourly_power = christmas_2006['Global_active_power'].resample('H').sum()\n",
      "max_hour = hourly_power.idxmax()\n",
      "print(max_hour)\n",
      "------------------------------------------------------------------------\n",
      "Output of the code is:\n",
      "\n",
      "Error executing code: unsupported operand type(s) for &: 'int' and 'Int64Index'\n",
      "False\n"
     ]
    }
   ],
   "source": [
    "value= execute_query(\"What hour of the day had the highest power usage on Christmas 2006?\",\"gemma2-9b-it\",df)\n",
    "if(value):\n",
    "    gemma_results[\"What hour of the day had the highest power usage on Christmas 2006?\"]=1\n",
    "else:\n",
    "    gemma_results[\"What hour of the day had the highest power usage on Christmas 2006?\"]=0\n",
    "print(value)"
   ]
  },
  {
   "cell_type": "code",
   "execution_count": 11,
   "metadata": {},
   "outputs": [
    {
     "name": "stdout",
     "output_type": "stream",
     "text": [
      "------------------------------------------------------------------------\n",
      "Python pandas Code is:\n",
      "\n",
      " df['day_of_week'] = df.index.dayofweek\n",
      "weekday_mask = df['day_of_week'].isin([0,1,2,3,4])\n",
      "weekend_mask = df['day_of_week'].isin([5,6])\n",
      "weekday_avg = df.loc[weekday_mask, 'Global_active_power'].mean()\n",
      "weekend_avg = df.loc[weekend_mask, 'Global_active_power'].mean()\n",
      "print(f\"Weekday average power: {weekday_avg:.2f} kW\")\n",
      "print(f\"Weekend average power: {weekend_avg:.2f} kW\")\n",
      "# Plot energy usage on weekdays vs weekends\n",
      "plt.figure(figsize=(10,6))\n",
      "plt.bar(['Weekday', 'Weekend'], [weekday_avg, weekend_avg], color=['blue', 'red'])\n",
      "------------------------------------------------------------------------\n",
      "Output of the code is:\n",
      "\n",
      "Weekday average power: 1.04 kW\n",
      "Weekend average power: 1.23 kW\n",
      "True\n"
     ]
    },
    {
     "data": {
      "image/png": "[encoded data removed]",
      "text/plain": [
       "<Figure size 1000x600 with 1 Axes>"
      ]
     },
     "metadata": {},
     "output_type": "display_data"
    }
   ],
   "source": [
    "value = execute_query(\"Compare energy usage (Global_active_power) on weekdays vs weekends.\",\"gemma2-9b-it\",df)\n",
    "if(value):\n",
    "    gemma_results[\"Compare energy usage (Global_active_power) on weekdays vs weekends\"]=1\n",
    "else:\n",
    "    gemma_results[\"Compare energy usage (Global_active_power) on weekdays vs weekends\"]=0\n",
    "print(value)"
   ]
  },
  {
   "cell_type": "code",
   "execution_count": 12,
   "metadata": {
    "colab": {
     "base_uri": "https://localhost:8080/"
    },
    "id": "3zfkLmlvWCZ4",
    "outputId": "8ae5b014-e8fe-400f-a4cf-e3364762b0b1"
   },
   "outputs": [
    {
     "name": "stdout",
     "output_type": "stream",
     "text": [
      "------------------------------------------------------------------------\n",
      "Python pandas Code is:\n",
      "\n",
      " days_exceeded_5_kwh = df[df['Global_active_power'] > 5].index \n",
      "print(days_exceeded_5_kwh)\n",
      "------------------------------------------------------------------------\n",
      "Output of the code is:\n",
      "\n",
      "DatetimeIndex(['2006-12-16 17:25:00', '2006-12-16 17:26:00',\n",
      "               '2006-12-16 17:27:00', '2006-12-16 17:35:00',\n",
      "               '2006-12-16 17:36:00', '2006-12-16 17:37:00',\n",
      "               '2006-12-16 17:44:00', '2006-12-16 17:45:00',\n",
      "               '2006-12-16 17:46:00', '2006-12-16 17:47:00',\n",
      "               ...\n",
      "               '2010-11-22 18:35:00', '2010-11-22 18:36:00',\n",
      "               '2010-11-22 18:37:00', '2010-11-22 18:38:00',\n",
      "               '2010-11-22 18:39:00', '2010-11-22 18:40:00',\n",
      "               '2010-11-22 18:41:00', '2010-11-24 07:50:00',\n",
      "               '2010-11-24 07:51:00', '2010-11-25 07:21:00'],\n",
      "              dtype='datetime64[ns]', name='datetime', length=17547, freq=None)\n",
      "True\n"
     ]
    },
    {
     "data": {
      "text/plain": [
       "<Figure size 640x480 with 0 Axes>"
      ]
     },
     "metadata": {},
     "output_type": "display_data"
    }
   ],
   "source": [
    "execute_query(\"Find days where total energy consumption exceeded 5 kWh.\",\"gemma2-9b-it\",df)\n",
    "if(value):\n",
    "    gemma_results[\"Find days where total energy consumption exceeded 5 kWh\"]=1\n",
    "else:\n",
    "    gemma_results[\"Find days where total energy consumption exceeded 5 kWh\"]=0\n",
    "print(value)"
   ]
  },
  {
   "cell_type": "code",
   "execution_count": 13,
   "metadata": {
    "colab": {
     "base_uri": "https://localhost:8080/",
     "height": 632
    },
    "id": "4Jk8VUBcXayA",
    "outputId": "4a59c3b9-20fe-40b8-ef4c-b131e2cfc704"
   },
   "outputs": [
    {
     "name": "stdout",
     "output_type": "stream",
     "text": [
      "------------------------------------------------------------------------\n",
      "Python pandas Code is:\n",
      "\n",
      " df['day_of_week'] = df.index.day_of_week\n",
      "weekday_mask = df['day_of_week'] < 5\n",
      "weekend_mask = df['day_of_week'] >= 5\n",
      "weekday_avg = df[weekday_mask]['Global_active_power'].mean()\n",
      "weekend_avg = df[weekend_mask]['Global_active_power'].mean()\n",
      "plt.figure(figsize=(10,6))\n",
      "plt.bar( ['Weekday', 'Weekend'], [weekday_avg, weekend_avg], color=['blue', 'red'])\n",
      "------------------------------------------------------------------------\n",
      "Output of the code is:\n",
      "\n"
     ]
    },
    {
     "data": {
      "text/plain": [
       "True"
      ]
     },
     "execution_count": 13,
     "metadata": {},
     "output_type": "execute_result"
    },
    {
     "data": {
      "image/png": "[encoded data removed]",
      "text/plain": [
       "<Figure size 1000x600 with 1 Axes>"
      ]
     },
     "metadata": {},
     "output_type": "display_data"
    }
   ],
   "source": [
    "execute_query(\"Compare energy usage (Global_active_power) on weekdays vs weekends. Can you show it using visualizatio tool\",\"gemma2-9b-it\",df)"
   ]
  },
  {
   "cell_type": "code",
   "execution_count": 14,
   "metadata": {
    "colab": {
     "base_uri": "https://localhost:8080/",
     "height": 603
    },
    "id": "XLZKcv8sXrEM",
    "outputId": "439a88e8-b25b-4eb8-b368-df6ce7192a62"
   },
   "outputs": [
    {
     "name": "stdout",
     "output_type": "stream",
     "text": [
      "------------------------------------------------------------------------\n",
      "Python pandas Code is:\n",
      "\n",
      " df['day_of_week'] = df.index.day_of_week\n",
      "weekday_avg = df[df['day_of_week'].isin([0,1,2,3,4])]['Global_active_power'].mean()\n",
      "weekend_avg = df[df['day_of_week'].isin([5,6])]['Global_active_power'].mean()\n",
      "print(weekday_avg)\n",
      "print(weekend_avg)\n",
      "------------------------------------------------------------------------\n",
      "Output of the code is:\n",
      "\n",
      "1.0354720516747509\n",
      "1.234232176791304\n",
      "True\n"
     ]
    },
    {
     "data": {
      "text/plain": [
       "<Figure size 640x480 with 0 Axes>"
      ]
     },
     "metadata": {},
     "output_type": "display_data"
    }
   ],
   "source": [
    "value= execute_query(\"Plot the energy usage trend for the first week of January 2007. Can you aggregate data by month\",\"gemma2-9b-it\",df)\n",
    "if(value):\n",
    "    gemma_results[\"Plot the energy usage trend for the first week of January 2007. Can you aggregate data by month\"]=1\n",
    "else:\n",
    "    gemma_results[\"Plot the energy usage trend for the first week of January 2007. Can you aggregate data by month\"]=0\n",
    "print(value)"
   ]
  },
  {
   "cell_type": "code",
   "execution_count": 15,
   "metadata": {},
   "outputs": [
    {
     "name": "stdout",
     "output_type": "stream",
     "text": [
      "------------------------------------------------------------------------\n",
      "Python pandas Code is:\n",
      "\n",
      " df[(df.index.year == 2007) & (df['day_of_week'].isin(['Monday', 'Tuesday', 'Wednesday', 'Thursday', 'Friday'])) & (df.index.month == 2)].groupby('day_of_week')['Voltage'].mean()\n",
      "------------------------------------------------------------------------\n",
      "Output of the code is:\n",
      "\n",
      "True\n"
     ]
    },
    {
     "data": {
      "text/plain": [
       "<Figure size 640x480 with 0 Axes>"
      ]
     },
     "metadata": {},
     "output_type": "display_data"
    }
   ],
   "source": [
    "value = execute_query(\"Find the average voltage for each day of the first week of February 2007.\",\"gemma2-9b-it\",df)\n",
    "if(value):\n",
    "    gemma_results[\"Find the average voltage for each day of the first week of February 2007\"]=1\n",
    "else:\n",
    "    gemma_results[\"Find the average voltage for each day of the first week of February 2007\"]=0\n",
    "print(value)"
   ]
  },
  {
   "cell_type": "code",
   "execution_count": 16,
   "metadata": {
    "colab": {
     "base_uri": "https://localhost:8080/"
    },
    "id": "OwlcxK7pYJil",
    "outputId": "a6080456-bbe4-4dc7-eb0c-75bcfa6114c8"
   },
   "outputs": [
    {
     "name": "stdout",
     "output_type": "stream",
     "text": [
      "------------------------------------------------------------------------\n",
      "Python pandas Code is:\n",
      "\n",
      " correlation = df[['Global_active_power', 'Sub_metering_1', 'Sub_metering_2', 'Sub_metering_3']].corr()\n",
      "print(correlation)\n",
      "------------------------------------------------------------------------\n",
      "Output of the code is:\n",
      "\n",
      "                     Global_active_power  Sub_metering_1  Sub_metering_2  \\\n",
      "Global_active_power             1.000000        0.484401        0.434569   \n",
      "Sub_metering_1                  0.484401        1.000000        0.054721   \n",
      "Sub_metering_2                  0.434569        0.054721        1.000000   \n",
      "Sub_metering_3                  0.638555        0.102571        0.080872   \n",
      "\n",
      "                     Sub_metering_3  \n",
      "Global_active_power        0.638555  \n",
      "Sub_metering_1             0.102571  \n",
      "Sub_metering_2             0.080872  \n",
      "Sub_metering_3             1.000000  \n",
      "True\n"
     ]
    },
    {
     "data": {
      "text/plain": [
       "<Figure size 640x480 with 0 Axes>"
      ]
     },
     "metadata": {},
     "output_type": "display_data"
    }
   ],
   "source": [
    "value= execute_query(\"What is the correlation between global active power and sub-metering values?\",\"gemma2-9b-it\",df)\n",
    "if(value):\n",
    "    gemma_results[\"What is the correlation between global active power and sub-metering values?\"]=1\n",
    "else:\n",
    "    gemma_results[\"What is the correlation between global active power and sub-metering values?\"]=0\n",
    "print(value)"
   ]
  },
  {
   "cell_type": "code",
   "execution_count": 18,
   "metadata": {
    "colab": {
     "base_uri": "https://localhost:8080/",
     "height": 695
    },
    "id": "vNJCPi22Yeoa",
    "outputId": "5e17ce5c-c696-4ae6-c10f-449b9b07f17f"
   },
   "outputs": [
    {
     "name": "stdout",
     "output_type": "stream",
     "text": [
      "------------------------------------------------------------------------\n",
      "Python pandas Code is:\n",
      "\n",
      " import pandas as pd\n",
      "import matplotlib.pyplot as plt\n",
      "import io\n",
      "correlation = df[['Global_active_power', 'Sub_metering_1', 'Sub_metering_2', 'Sub_metering_3']].corr()\n",
      "print(correlation)\n",
      "plt.figure(figsize=(10,6))\n",
      "buf = io.BytesIO()\n",
      "plot_data = buf.getvalue()\n",
      "------------------------------------------------------------------------\n",
      "Output of the code is:\n",
      "\n",
      "                     Global_active_power  Sub_metering_1  Sub_metering_2  \\\n",
      "Global_active_power             1.000000        0.484401        0.434569   \n",
      "Sub_metering_1                  0.484401        1.000000        0.054721   \n",
      "Sub_metering_2                  0.434569        0.054721        1.000000   \n",
      "Sub_metering_3                  0.638555        0.102571        0.080872   \n",
      "\n",
      "                     Sub_metering_3  \n",
      "Global_active_power        0.638555  \n",
      "Sub_metering_1             0.102571  \n",
      "Sub_metering_2             0.080872  \n",
      "Sub_metering_3             1.000000  \n",
      "Plot generation failed - empty figure detected\n",
      "False\n"
     ]
    }
   ],
   "source": [
    "value= execute_query(\"What is the correlation between global active power and sub-metering values?. Can you show it using visualization\",\"gemma2-9b-it\",df)\n",
    "if(value):\n",
    "    gemma_results[\"What is the correlation between global active power and sub-metering values?. Can you show it using visualization\"]=1\n",
    "else:\n",
    "    gemma_results[\"What is the correlation between global active power and sub-metering values?. Can you show it using visualization\"]=0\n",
    "print(value)"
   ]
  },
  {
   "cell_type": "code",
   "execution_count": 19,
   "metadata": {},
   "outputs": [
    {
     "name": "stdout",
     "output_type": "stream",
     "text": [
      "------------------------------------------------------------------------\n",
      "Python pandas Code is:\n",
      "\n",
      " filtered = df[(df.index.year == 2007) & (df.index.month == 1) & (df.index.day >= 1) & (df.index.day <= 7)]\n",
      "daily = filtered['Global_active_power'].resample('D').mean()\n",
      "plt.figure(figsize=(10,6))\n",
      "plt.plot(daily.index, daily, color='blue')  \n",
      "os.makedirs(f\"images/gemma2-9b-it\", exist_ok=True)\n",
      "filename = 'january_2007_daily_power_consumption.png'\n",
      "buf = io.BytesIO()\n",
      "plot_data = buf.getvalue()\n",
      "------------------------------------------------------------------------\n",
      "Output of the code is:\n",
      "\n",
      "Error executing code: name 'io' is not defined\n",
      "False\n"
     ]
    },
    {
     "data": {
      "image/png": "[encoded data removed]",
      "text/plain": [
       "<Figure size 1000x600 with 1 Axes>"
      ]
     },
     "metadata": {},
     "output_type": "display_data"
    }
   ],
   "source": [
    "value = execute_query(\"Plot the energy usage trend for the first week of January 2007. Can you aggregate data by day\",\"gemma2-9b-it\",df)\n",
    "if(value):\n",
    "    gemma_results[\"Plot the energy usage trend for the first week of January 2007. Can you aggregate data by day\"]=1\n",
    "else:\n",
    "    gemma_results[\"Plot the energy usage trend for the first week of January 2007. Can you aggregate data by day\"]=0\n",
    "print(value)"
   ]
  },
  {
   "cell_type": "code",
   "execution_count": 20,
   "metadata": {
    "colab": {
     "base_uri": "https://localhost:8080/"
    },
    "id": "C9jVlbJJY3XI",
    "outputId": "207ad070-6a01-4f39-91c8-a987a9430a76"
   },
   "outputs": [
    {
     "name": "stdout",
     "output_type": "stream",
     "text": [
      "------------------------------------------------------------------------\n",
      "Python pandas Code is:\n",
      "\n",
      " df['day_of_week'] = df.index.day_of_week\n",
      "filtered_df = df[(df.index.year == 2008) & (df.index.month == 2) & (df.index.dayofweek < 5)]\n",
      "avg_voltage = filtered_df['Voltage'].groupby(df['day_of_week']).mean()\n",
      "print(avg_voltage)\n",
      "------------------------------------------------------------------------\n",
      "Output of the code is:\n",
      "\n",
      "day_of_week\n",
      "0    240.946835\n",
      "1    240.257382\n",
      "2    240.210130\n",
      "3    240.597507\n",
      "4    240.431650\n",
      "Name: Voltage, dtype: float64\n"
     ]
    },
    {
     "data": {
      "text/plain": [
       "True"
      ]
     },
     "execution_count": 20,
     "metadata": {},
     "output_type": "execute_result"
    },
    {
     "data": {
      "text/plain": [
       "<Figure size 640x480 with 0 Axes>"
      ]
     },
     "metadata": {},
     "output_type": "display_data"
    }
   ],
   "source": [
    "execute_query(\"Find the average voltage for each day of the first week of February 2008\",\"gemma2-9b-it\",df)"
   ]
  },
  {
   "cell_type": "code",
   "execution_count": 21,
   "metadata": {
    "colab": {
     "base_uri": "https://localhost:8080/"
    },
    "id": "SdWkFFitZD_9",
    "outputId": "3eb00202-327c-4902-a2d3-4da254a2bcb7"
   },
   "outputs": [
    {
     "name": "stdout",
     "output_type": "stream",
     "text": [
      "------------------------------------------------------------------------\n",
      "Python pandas Code is:\n",
      "\n",
      " # Filter data for the first week of February 2008\n",
      "filtered = df[(df.index.year==2008) & (df.index.month==2) & (df.index.day<=7)]\n",
      "# Calculate average voltage for each day of the first week of February 2008\n",
      "daily_voltage = filtered['Voltage'].resample('D').mean()\n",
      "# Print the final result\n",
      "print(daily_voltage)\n",
      "# Store the result in the standard variable\n",
      "daily_voltage = daily_voltage\n",
      "------------------------------------------------------------------------\n",
      "Output of the code is:\n",
      "\n",
      "datetime\n",
      "2008-02-01    240.360271\n",
      "2008-02-02    240.290514\n",
      "2008-02-03    240.340722\n",
      "2008-02-04    240.255208\n",
      "2008-02-05    240.976917\n",
      "2008-02-06    238.413715\n",
      "2008-02-07    241.070549\n",
      "Freq: D, Name: Voltage, dtype: float64\n"
     ]
    },
    {
     "data": {
      "text/plain": [
       "True"
      ]
     },
     "execution_count": 21,
     "metadata": {},
     "output_type": "execute_result"
    },
    {
     "data": {
      "text/plain": [
       "<Figure size 640x480 with 0 Axes>"
      ]
     },
     "metadata": {},
     "output_type": "display_data"
    }
   ],
   "source": [
    "execute_query(\"Find the average voltage for each day of the first week of February 2008\",\"llama-3.3-70b-versatile\",df)"
   ]
  },
  {
   "cell_type": "code",
   "execution_count": 22,
   "metadata": {},
   "outputs": [
    {
     "name": "stdout",
     "output_type": "stream",
     "text": [
      "What was the average active power consumption in March 2007? :  1\n",
      "What hour of the day had the highest power usage on Christmas 2006? :  0\n",
      "Compare energy usage (Global_active_power) on weekdays vs weekends :  1\n",
      "Find days where total energy consumption exceeded 5 kWh :  1\n",
      "Plot the energy usage trend for the first week of January 2007. Can you aggregate data by month :  1\n",
      "Find the average voltage for each day of the first week of February 2007 :  1\n",
      "What is the correlation between global active power and sub-metering values? :  1\n",
      "What is the correlation between global active power and sub-metering values?. Can you show it using visualization :  0\n",
      "Plot the energy usage trend for the first week of January 2007. Can you aggregate data by day :  0\n"
     ]
    }
   ],
   "source": [
    "for k,v in gemma_results.items():\n",
    "    print(k,\": \",v)"
   ]
  },
  {
   "cell_type": "code",
   "execution_count": 2,
   "metadata": {},
   "outputs": [
    {
     "name": "stdout",
     "output_type": "stream",
     "text": [
      "Stored 'gemma_results' (dict)\n"
     ]
    }
   ],
   "source": [
    "%store gemma_results"
   ]
  },
  {
   "cell_type": "code",
   "execution_count": null,
   "metadata": {},
   "outputs": [],
   "source": []
  }
 ],
 "metadata": {
  "colab": {
   "provenance": []
  },
  "kernelspec": {
   "display_name": "Python 3 (ipykernel)",
   "language": "python",
   "name": "python3"
  },
  "language_info": {
   "codemirror_mode": {
    "name": "ipython",
    "version": 3
   },
   "file_extension": ".py",
   "mimetype": "text/x-python",
   "name": "python",
   "nbconvert_exporter": "python",
   "pygments_lexer": "ipython3",
   "version": "3.10.7"
  }
 },
 "nbformat": 4,
 "nbformat_minor": 4
}
