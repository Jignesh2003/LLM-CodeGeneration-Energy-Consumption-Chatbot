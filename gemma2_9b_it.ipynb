{
  "nbformat": 4,
  "nbformat_minor": 0,
  "metadata": {
    "colab": {
      "provenance": []
    },
    "kernelspec": {
      "name": "python3",
      "display_name": "Python 3"
    },
    "language_info": {
      "name": "python"
    }
  },
  "cells": [
    {
      "cell_type": "code",
      "execution_count": null,
      "metadata": {
        "colab": {
          "base_uri": "https://localhost:8080/"
        },
        "outputId": "2ca4a2be-c97c-49e1-c203-ccb4363ea436",
        "id": "vQg5zjmYbsXv"
      },
      "outputs": [
        {
          "output_type": "stream",
          "name": "stdout",
          "text": [
            "--2025-06-13 08:37:28--  https://archive.ics.uci.edu/static/public/235/individual+household+electric+power+consumption.zip\n",
            "Resolving archive.ics.uci.edu (archive.ics.uci.edu)... 128.195.10.252\n",
            "Connecting to archive.ics.uci.edu (archive.ics.uci.edu)|128.195.10.252|:443... connected.\n",
            "HTTP request sent, awaiting response... 200 OK\n",
            "Length: unspecified\n",
            "Saving to: ‘individual+household+electric+power+consumption.zip’\n",
            "\n",
            "individual+househol     [    <=>             ]  19.68M  28.1MB/s    in 0.7s    \n",
            "\n",
            "2025-06-13 08:37:29 (28.1 MB/s) - ‘individual+household+electric+power+consumption.zip’ saved [20640916]\n",
            "\n",
            "Archive:  individual+household+electric+power+consumption.zip\n",
            "  inflating: household_power_consumption.txt  \n"
          ]
        }
      ],
      "source": [
        "!wget https://archive.ics.uci.edu/static/public/235/individual+household+electric+power+consumption.zip\n",
        "!unzip individual+household+electric+power+consumption.zip"
      ]
    },
    {
      "cell_type": "code",
      "execution_count": null,
      "metadata": {
        "colab": {
          "base_uri": "https://localhost:8080/"
        },
        "outputId": "6338157b-37a0-4bb3-9501-158221a9edb0",
        "id": "orm98gmebsXv"
      },
      "outputs": [
        {
          "output_type": "stream",
          "name": "stdout",
          "text": [
            "Requirement already satisfied: Groq in /usr/local/lib/python3.11/dist-packages (0.28.0)\n",
            "Requirement already satisfied: anyio<5,>=3.5.0 in /usr/local/lib/python3.11/dist-packages (from Groq) (4.9.0)\n",
            "Requirement already satisfied: distro<2,>=1.7.0 in /usr/local/lib/python3.11/dist-packages (from Groq) (1.9.0)\n",
            "Requirement already satisfied: httpx<1,>=0.23.0 in /usr/local/lib/python3.11/dist-packages (from Groq) (0.28.1)\n",
            "Requirement already satisfied: pydantic<3,>=1.9.0 in /usr/local/lib/python3.11/dist-packages (from Groq) (2.11.5)\n",
            "Requirement already satisfied: sniffio in /usr/local/lib/python3.11/dist-packages (from Groq) (1.3.1)\n",
            "Requirement already satisfied: typing-extensions<5,>=4.10 in /usr/local/lib/python3.11/dist-packages (from Groq) (4.14.0)\n",
            "Requirement already satisfied: idna>=2.8 in /usr/local/lib/python3.11/dist-packages (from anyio<5,>=3.5.0->Groq) (3.10)\n",
            "Requirement already satisfied: certifi in /usr/local/lib/python3.11/dist-packages (from httpx<1,>=0.23.0->Groq) (2025.4.26)\n",
            "Requirement already satisfied: httpcore==1.* in /usr/local/lib/python3.11/dist-packages (from httpx<1,>=0.23.0->Groq) (1.0.9)\n",
            "Requirement already satisfied: h11>=0.16 in /usr/local/lib/python3.11/dist-packages (from httpcore==1.*->httpx<1,>=0.23.0->Groq) (0.16.0)\n",
            "Requirement already satisfied: annotated-types>=0.6.0 in /usr/local/lib/python3.11/dist-packages (from pydantic<3,>=1.9.0->Groq) (0.7.0)\n",
            "Requirement already satisfied: pydantic-core==2.33.2 in /usr/local/lib/python3.11/dist-packages (from pydantic<3,>=1.9.0->Groq) (2.33.2)\n",
            "Requirement already satisfied: typing-inspection>=0.4.0 in /usr/local/lib/python3.11/dist-packages (from pydantic<3,>=1.9.0->Groq) (0.4.1)\n"
          ]
        }
      ],
      "source": [
        "pip install Groq"
      ]
    },
    {
      "cell_type": "code",
      "execution_count": null,
      "metadata": {
        "id": "QCFJ6SbtbsXw"
      },
      "outputs": [],
      "source": [
        "import pandas as pd\n",
        "import matplotlib.pyplot as plt\n",
        "from groq import Groq\n",
        "import json\n",
        "import re"
      ]
    },
    {
      "cell_type": "code",
      "execution_count": null,
      "metadata": {
        "id": "AO1IjvHtbsXw"
      },
      "outputs": [],
      "source": [
        "Groq_api_key = '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'\n",
        "client =Groq(api_key=Groq_api_key)"
      ]
    },
    {
      "cell_type": "code",
      "execution_count": null,
      "metadata": {
        "id": "UHkspjZIbsXw"
      },
      "outputs": [],
      "source": [
        "#Load and and preprocess the dataset\n",
        "def load_data_set():\n",
        "    df = pd.read_csv('household_power_consumption.txt',\n",
        "             \tsep=';',\n",
        "             \tparse_dates={'datetime': ['Date', 'Time']},\n",
        "             \tinfer_datetime_format=True,\n",
        "             \tna_values=['?'],\n",
        "             \tlow_memory=False)\n",
        "\n",
        "    df = df.dropna()\n",
        "    df['Global_active_power'] = df['Global_active_power'].astype(float)\n",
        "    df = df.set_index('datetime')\n",
        "    return df"
      ]
    },
    {
      "cell_type": "code",
      "execution_count": null,
      "metadata": {
        "id": "lSOcO7EabsXx"
      },
      "outputs": [],
      "source": [
        "# Function to generate pandas code from natural language question using GROQ API\n",
        "\n",
        "def generate_pandas_code(natural_language_question, model_name, df_info):\n",
        "    df_info_str = json.dumps(df_info)\n",
        "\n",
        "    prompt = f\"\"\"You are a python expert and you are given a dataset which is preprocessed using below code:\n",
        "\n",
        "    df = pd.read_csv('household_power_consumption.txt',\n",
        "                     sep=';',\n",
        "                     parse_dates={{'datetime': ['Date', 'Time']}},\n",
        "                     infer_datetime_format=True,\n",
        "                     na_values=['?'],\n",
        "                     low_memory=False)\n",
        "\n",
        "    df = df.dropna()\n",
        "    df['Global_active_power'] = df['Global_active_power'].astype(float)\n",
        "    df = df.set_index('datetime')\n",
        "\n",
        "    and following are the column names in the dataset after preprocessing where as you can see that the index is set to datetime:\n",
        "    {df_info_str}\n",
        "\n",
        "\n",
        "    Provide me with only python pandas code for below natural language questions no theory, explanation is needed. Please only provide the pandas code with necessary imports which should print the result when executed:\n",
        "    {natural_language_question}\n",
        "\n",
        "    \"\"\"\n",
        "\n",
        "    try:\n",
        "        chat_completion = client.chat.completions.create(\n",
        "            messages=[\n",
        "                {\n",
        "                    \"role\": \"user\",\n",
        "                    \"content\": prompt,\n",
        "                }\n",
        "            ],\n",
        "            model=model_name,\n",
        "            temperature=0.1,\n",
        "        )\n",
        "        return chat_completion.choices[0].message.content\n",
        "\n",
        "    except Exception as e:\n",
        "        print(f\"GROQ API error: {e}\")\n",
        "        return None"
      ]
    },
    {
      "cell_type": "code",
      "execution_count": null,
      "metadata": {
        "id": "h0PVzmxSbsXx"
      },
      "outputs": [],
      "source": [
        "# Function to execute the generated pandas code and display the output\n",
        "\n",
        "def execute_query(query,model_name,df):\n",
        "    df_info = {'columns': df.columns.tolist()}\n",
        "\n",
        "    code = generate_pandas_code(query,model_name,df_info)\n",
        "    #print(\"Python panda code is: \\n\",code)\n",
        "\n",
        "    # Clean the code by removing markdown formatting so that it can be executed\n",
        "    if code:\n",
        "        code_clean = re.sub(r\"```(?:python)?\\n?|```\", \"\", code).strip()\n",
        "        code_clean = re.sub(r\"<think>.*?</think>\", \"\", code_clean, flags=re.DOTALL).strip()\n",
        "        code_clean = code_clean.strip().split('\\n')\n",
        "        valid_lines = []\n",
        "        for line in code_clean:\n",
        "            # Include lines that look like real Python code (simple heuristic)\n",
        "            if line.strip().startswith((\"print\", \"df\", \"#\", \"import\", \"average\", \"result\")) or \"=\" in line:\n",
        "                valid_lines.append(line)\n",
        "\n",
        "        final_code = '\\n'.join(valid_lines)\n",
        "        fixed_code = re.sub(\n",
        "            r\"df\\[(df\\.index\\.\\w+\\s*==\\s*\\d+)\\]\\[(df\\.index\\.\\w+\\s*==\\s*\\d+)\\]\",\n",
        "            r\"df[(\\1) & (\\2)]\",\n",
        "            final_code\n",
        "        )\n",
        "        print(\"------------------------------------------------------------------------\\nPython pandas Code is:\\n\\n\", fixed_code)\n",
        "\n",
        "    try:\n",
        "        print(\"------------------------------------------------------------------------\\nOutput of the code is:\\n\")\n",
        "        exec(fixed_code, {'df': df}) #execute the code in the context of the dataframe\n",
        "    except Exception as e:\n",
        "        print(f\"Error executing code: {e}\")\n",
        "        return False"
      ]
    },
    {
      "cell_type": "code",
      "execution_count": null,
      "metadata": {
        "colab": {
          "base_uri": "https://localhost:8080/"
        },
        "outputId": "85bba699-1e8f-4651-e2c2-4277e6dc9e4a",
        "id": "Cq3ZZ4msbsXy"
      },
      "outputs": [
        {
          "output_type": "stream",
          "name": "stderr",
          "text": [
            "<ipython-input-63-2730963339>:3: FutureWarning: Support for nested sequences for 'parse_dates' in pd.read_csv is deprecated. Combine the desired columns with pd.to_datetime after parsing instead.\n",
            "  df = pd.read_csv('household_power_consumption.txt',\n",
            "<ipython-input-63-2730963339>:3: FutureWarning: The argument 'infer_datetime_format' is deprecated and will be removed in a future version. A strict version of it is now the default, see https://pandas.pydata.org/pdeps/0004-consistent-to-datetime-parsing.html. You can safely remove this argument.\n",
            "  df = pd.read_csv('household_power_consumption.txt',\n",
            "<ipython-input-63-2730963339>:3: UserWarning: Parsing dates in %d/%m/%Y %H:%M:%S format when dayfirst=False (the default) was specified. Pass `dayfirst=True` or specify a format to silence this warning.\n",
            "  df = pd.read_csv('household_power_consumption.txt',\n"
          ]
        }
      ],
      "source": [
        "df = load_data_set()"
      ]
    },
    {
      "cell_type": "code",
      "execution_count": null,
      "metadata": {
        "colab": {
          "base_uri": "https://localhost:8080/"
        },
        "outputId": "ac48d191-e57a-4f99-f99b-53fe73ed6392",
        "id": "R-NqOJpGbsXy"
      },
      "outputs": [
        {
          "output_type": "stream",
          "name": "stdout",
          "text": [
            "                     Global_active_power  Global_reactive_power  Voltage  \\\n",
            "datetime                                                                   \n",
            "2006-12-16 17:24:00                4.216                  0.418   234.84   \n",
            "2006-12-16 17:25:00                5.360                  0.436   233.63   \n",
            "2006-12-16 17:26:00                5.374                  0.498   233.29   \n",
            "2006-12-16 17:27:00                5.388                  0.502   233.74   \n",
            "2006-12-16 17:28:00                3.666                  0.528   235.68   \n",
            "...                                  ...                    ...      ...   \n",
            "2010-11-26 20:58:00                0.946                  0.000   240.43   \n",
            "2010-11-26 20:59:00                0.944                  0.000   240.00   \n",
            "2010-11-26 21:00:00                0.938                  0.000   239.82   \n",
            "2010-11-26 21:01:00                0.934                  0.000   239.70   \n",
            "2010-11-26 21:02:00                0.932                  0.000   239.55   \n",
            "\n",
            "                     Global_intensity  Sub_metering_1  Sub_metering_2  \\\n",
            "datetime                                                                \n",
            "2006-12-16 17:24:00              18.4             0.0             1.0   \n",
            "2006-12-16 17:25:00              23.0             0.0             1.0   \n",
            "2006-12-16 17:26:00              23.0             0.0             2.0   \n",
            "2006-12-16 17:27:00              23.0             0.0             1.0   \n",
            "2006-12-16 17:28:00              15.8             0.0             1.0   \n",
            "...                               ...             ...             ...   \n",
            "2010-11-26 20:58:00               4.0             0.0             0.0   \n",
            "2010-11-26 20:59:00               4.0             0.0             0.0   \n",
            "2010-11-26 21:00:00               3.8             0.0             0.0   \n",
            "2010-11-26 21:01:00               3.8             0.0             0.0   \n",
            "2010-11-26 21:02:00               3.8             0.0             0.0   \n",
            "\n",
            "                     Sub_metering_3  \n",
            "datetime                             \n",
            "2006-12-16 17:24:00            17.0  \n",
            "2006-12-16 17:25:00            16.0  \n",
            "2006-12-16 17:26:00            17.0  \n",
            "2006-12-16 17:27:00            17.0  \n",
            "2006-12-16 17:28:00            17.0  \n",
            "...                             ...  \n",
            "2010-11-26 20:58:00             0.0  \n",
            "2010-11-26 20:59:00             0.0  \n",
            "2010-11-26 21:00:00             0.0  \n",
            "2010-11-26 21:01:00             0.0  \n",
            "2010-11-26 21:02:00             0.0  \n",
            "\n",
            "[2049280 rows x 7 columns]\n"
          ]
        }
      ],
      "source": [
        "print(df)"
      ]
    },
    {
      "cell_type": "code",
      "execution_count": null,
      "metadata": {
        "colab": {
          "base_uri": "https://localhost:8080/"
        },
        "outputId": "21e1d2a6-c456-4e94-a7a5-19785e2920d3",
        "id": "pd4WZWHvbsXy"
      },
      "outputs": [
        {
          "output_type": "stream",
          "name": "stdout",
          "text": [
            "['Global_active_power', 'Global_reactive_power', 'Voltage', 'Global_intensity', 'Sub_metering_1', 'Sub_metering_2', 'Sub_metering_3']\n"
          ]
        }
      ],
      "source": [
        "print(df.columns.tolist())"
      ]
    },
    {
      "cell_type": "markdown",
      "source": [
        "# Consider for Analysis"
      ],
      "metadata": {
        "id": "tHBxNab4r6Vb"
      }
    },
    {
      "cell_type": "code",
      "source": [
        "#gemma2-9b-it Model Testing"
      ],
      "metadata": {
        "id": "JC9Q59XnP3qD"
      },
      "execution_count": null,
      "outputs": []
    },
    {
      "cell_type": "code",
      "execution_count": null,
      "metadata": {
        "colab": {
          "base_uri": "https://localhost:8080/"
        },
        "id": "YHy2bM5uKRXF",
        "outputId": "5750b9b1-3033-49c5-868d-62aeca78b50f"
      },
      "outputs": [
        {
          "name": "stdout",
          "output_type": "stream",
          "text": [
            "------------------------------------------------------------------------\n",
            "Python pandas Code is:\n",
            "\n",
            " df[(df.index.month == 3) &( df.index.year == 2007)]['Global_active_power'].mean()\n",
            "------------------------------------------------------------------------\n",
            "Output of the code is:\n",
            "\n"
          ]
        }
      ],
      "source": [
        "execute_query(\"What was the average active power consumption in March 2007?\",\"gemma2-9b-it\",df)"
      ]
    },
    {
      "cell_type": "code",
      "execution_count": null,
      "metadata": {
        "colab": {
          "base_uri": "https://localhost:8080/"
        },
        "id": "QOwT7lR0Uifu",
        "outputId": "7df4e052-83e9-4a1e-f44f-4427e23ff0f0"
      },
      "outputs": [
        {
          "name": "stdout",
          "output_type": "stream",
          "text": [
            "------------------------------------------------------------------------\n",
            "Python pandas Code is:\n",
            "\n",
            " df[(df.index.year == 2006) & (df.index.month == 12)].groupby(df.index.hour)['Global_active_power'].max()\n",
            "------------------------------------------------------------------------\n",
            "Output of the code is:\n",
            "\n",
            "Error executing code: Grouper and axis must be same length\n"
          ]
        },
        {
          "data": {
            "text/plain": [
              "False"
            ]
          },
          "execution_count": 118,
          "metadata": {},
          "output_type": "execute_result"
        }
      ],
      "source": [
        "execute_query(\"What hour of the day had the highest power usage on Christmas 2006?\",\"gemma2-9b-it\",df)"
      ]
    },
    {
      "cell_type": "code",
      "execution_count": null,
      "metadata": {
        "colab": {
          "base_uri": "https://localhost:8080/"
        },
        "id": "xo0jzQgAV2xK",
        "outputId": "28d53dac-19d5-4cf1-9348-4ae1de7c4eee"
      },
      "outputs": [
        {
          "name": "stdout",
          "output_type": "stream",
          "text": [
            "------------------------------------------------------------------------\n",
            "Python pandas Code is:\n",
            "\n",
            " df[df.index.month == 3 & df.index.year == 2007]['Global_active_power'].mean()\n",
            "------------------------------------------------------------------------\n",
            "Output of the code is:\n",
            "\n",
            "Error executing code: The truth value of an array with more than one element is ambiguous. Use a.any() or a.all()\n"
          ]
        },
        {
          "data": {
            "text/plain": [
              "False"
            ]
          },
          "execution_count": 119,
          "metadata": {},
          "output_type": "execute_result"
        }
      ],
      "source": [
        "execute_query(\"What was the average active power consumption in March 2007?\",\"gemma2-9b-it\",df)"
      ]
    },
    {
      "cell_type": "code",
      "execution_count": null,
      "metadata": {
        "colab": {
          "base_uri": "https://localhost:8080/"
        },
        "id": "3zfkLmlvWCZ4",
        "outputId": "8ae5b014-e8fe-400f-a4cf-e3364762b0b1"
      },
      "outputs": [
        {
          "name": "stdout",
          "output_type": "stream",
          "text": [
            "------------------------------------------------------------------------\n",
            "Python pandas Code is:\n",
            "\n",
            " df['Global_active_power'].resample('D').sum() > 5\n",
            "------------------------------------------------------------------------\n",
            "Output of the code is:\n",
            "\n"
          ]
        }
      ],
      "source": [
        "execute_query(\"Find days where total energy consumption exceeded 5 kWh.\",\"gemma2-9b-it\",df)"
      ]
    },
    {
      "cell_type": "code",
      "execution_count": null,
      "metadata": {
        "colab": {
          "base_uri": "https://localhost:8080/",
          "height": 632
        },
        "id": "4Jk8VUBcXayA",
        "outputId": "4a59c3b9-20fe-40b8-ef4c-b131e2cfc704"
      },
      "outputs": [
        {
          "name": "stdout",
          "output_type": "stream",
          "text": [
            "------------------------------------------------------------------------\n",
            "Python pandas Code is:\n",
            "\n",
            " df['DayType'].value_counts()\n",
            "df.groupby('DayType')['Global_active_power'].mean().plot(kind='bar')\n",
            "------------------------------------------------------------------------\n",
            "Output of the code is:\n",
            "\n",
            "Error executing code: index 0 is out of bounds for axis 0 with size 0\n"
          ]
        },
        {
          "data": {
            "text/plain": [
              "False"
            ]
          },
          "execution_count": 131,
          "metadata": {},
          "output_type": "execute_result"
        },
        {
          "data": {
            "image/png": "[encoded data removed]",
            "text/plain": [
              "<Figure size 640x480 with 1 Axes>"
            ]
          },
          "metadata": {},
          "output_type": "display_data"
        }
      ],
      "source": [
        "execute_query(\"Compare energy usage (Global_active_power) on weekdays vs weekends. Can you show it using visualizatio tool\",\"gemma2-9b-it\",df)"
      ]
    },
    {
      "cell_type": "code",
      "execution_count": null,
      "metadata": {
        "colab": {
          "base_uri": "https://localhost:8080/",
          "height": 603
        },
        "id": "XLZKcv8sXrEM",
        "outputId": "439a88e8-b25b-4eb8-b368-df6ce7192a62"
      },
      "outputs": [
        {
          "name": "stdout",
          "output_type": "stream",
          "text": [
            "------------------------------------------------------------------------\n",
            "Python pandas Code is:\n",
            "\n",
            " df[df.index.year == 2007].loc['2007-01-01':'2007-01-07']['Global_active_power'].plot()\n",
            "------------------------------------------------------------------------\n",
            "Output of the code is:\n",
            "\n"
          ]
        },
        {
          "data": {
            "image/png": "[encoded data removed]",
            "text/plain": [
              "<Figure size 640x480 with 1 Axes>"
            ]
          },
          "metadata": {},
          "output_type": "display_data"
        }
      ],
      "source": [
        "execute_query(\"Plot the energy usage trend for the first week of January 2007.\",\"gemma2-9b-it\",df)"
      ]
    },
    {
      "cell_type": "code",
      "execution_count": null,
      "metadata": {
        "colab": {
          "base_uri": "https://localhost:8080/",
          "height": 603
        },
        "id": "Ztupe_LyX8Gi",
        "outputId": "f23ef3a4-bc81-47cd-ff4d-a4a690e7f2ca"
      },
      "outputs": [
        {
          "name": "stdout",
          "output_type": "stream",
          "text": [
            "------------------------------------------------------------------------\n",
            "Python pandas Code is:\n",
            "\n",
            " df[df.index.year == 2007].loc['2007-01-01':'2007-01-07']['Global_active_power'].resample('D').mean().plot()\n",
            "------------------------------------------------------------------------\n",
            "Output of the code is:\n",
            "\n"
          ]
        },
        {
          "data": {
            "image/png": "[encoded data removed]",
            "text/plain": [
              "<Figure size 640x480 with 1 Axes>"
            ]
          },
          "metadata": {},
          "output_type": "display_data"
        }
      ],
      "source": [
        "execute_query(\"Plot the energy usage trend for the first week of January 2007. Can you aggregate data by day\",\"gemma2-9b-it\",df)"
      ]
    },
    {
      "cell_type": "code",
      "execution_count": null,
      "metadata": {
        "colab": {
          "base_uri": "https://localhost:8080/"
        },
        "id": "OwlcxK7pYJil",
        "outputId": "a6080456-bbe4-4dc7-eb0c-75bcfa6114c8"
      },
      "outputs": [
        {
          "name": "stdout",
          "output_type": "stream",
          "text": [
            "------------------------------------------------------------------------\n",
            "Python pandas Code is:\n",
            "\n",
            " df[(df.index.year == 2007) & (df.index.month == 2)].iloc[:7].groupby(df['DayType'])['Voltage'].mean()\n",
            "------------------------------------------------------------------------\n",
            "Output of the code is:\n",
            "\n"
          ]
        }
      ],
      "source": [
        "execute_query(\"Find the average voltage for each day of the first week of February 2007\",\"gemma2-9b-it\",df)"
      ]
    },
    {
      "cell_type": "code",
      "execution_count": null,
      "metadata": {
        "colab": {
          "base_uri": "https://localhost:8080/"
        },
        "id": "2EXIije6YPpS",
        "outputId": "49b89d70-2e7e-4237-f525-21d008633487"
      },
      "outputs": [
        {
          "name": "stdout",
          "output_type": "stream",
          "text": [
            "------------------------------------------------------------------------\n",
            "Python pandas Code is:\n",
            "\n",
            " df[['Global_active_power', 'Sub_metering_1', 'Sub_metering_2', 'Sub_metering_3']].corr()\n",
            "------------------------------------------------------------------------\n",
            "Output of the code is:\n",
            "\n"
          ]
        }
      ],
      "source": [
        "execute_query(\"What is the correlation between global active power and sub-metering values?\",\"gemma2-9b-it\",df)"
      ]
    },
    {
      "cell_type": "code",
      "execution_count": null,
      "metadata": {
        "colab": {
          "base_uri": "https://localhost:8080/",
          "height": 695
        },
        "id": "vNJCPi22Yeoa",
        "outputId": "5e17ce5c-c696-4ae6-c10f-449b9b07f17f"
      },
      "outputs": [
        {
          "name": "stdout",
          "output_type": "stream",
          "text": [
            "------------------------------------------------------------------------\n",
            "Python pandas Code is:\n",
            "\n",
            " df.corr()['Global_active_power'].plot(kind='bar')\n",
            "------------------------------------------------------------------------\n",
            "Output of the code is:\n",
            "\n"
          ]
        },
        {
          "data": {
            "image/png": "[encoded data removed]",
            "text/plain": [
              "<Figure size 640x480 with 1 Axes>"
            ]
          },
          "metadata": {},
          "output_type": "display_data"
        }
      ],
      "source": [
        "execute_query(\"What is the correlation between global active power and sub-metering values?. Can you show it using visualization\",\"gemma2-9b-it\",df)"
      ]
    },
    {
      "cell_type": "code",
      "execution_count": null,
      "metadata": {
        "colab": {
          "base_uri": "https://localhost:8080/"
        },
        "id": "C9jVlbJJY3XI",
        "outputId": "207ad070-6a01-4f39-91c8-a987a9430a76"
      },
      "outputs": [
        {
          "name": "stdout",
          "output_type": "stream",
          "text": [
            "------------------------------------------------------------------------\n",
            "Python pandas Code is:\n",
            "\n",
            " df[(df.index.year == 2008) & (df.index.month == 2)].iloc[:7].groupby(df['DayType'])['Voltage'].mean()\n",
            "------------------------------------------------------------------------\n",
            "Output of the code is:\n",
            "\n"
          ]
        }
      ],
      "source": [
        "execute_query(\"Find the average voltage for each day of the first week of February 2008\",\"gemma2-9b-it\",df)"
      ]
    },
    {
      "cell_type": "code",
      "execution_count": null,
      "metadata": {
        "colab": {
          "base_uri": "https://localhost:8080/"
        },
        "id": "SdWkFFitZD_9",
        "outputId": "3eb00202-327c-4902-a2d3-4da254a2bcb7"
      },
      "outputs": [
        {
          "name": "stdout",
          "output_type": "stream",
          "text": [
            "------------------------------------------------------------------------\n",
            "Python pandas Code is:\n",
            "\n",
            " import pandas as pd\n",
            "# Load and preprocess the data\n",
            "df = pd.read_csv('household_power_consumption.txt',\n",
            "                 sep=';',\n",
            "                 parse_dates={'datetime': ['Date', 'Time']},\n",
            "                 infer_datetime_format=True,\n",
            "                 na_values=['?'],\n",
            "                 low_memory=False)\n",
            "df = df.dropna()\n",
            "df['Global_active_power'] = df['Global_active_power'].astype(float)\n",
            "df = df.set_index('datetime')\n",
            "# Filter data for the first week of February 2008\n",
            "df_filtered = df[(df.index.year == 2008) & (df.index.month == 2) & (df.index.day <= 7)]\n",
            "# Group by day and calculate average voltage\n",
            "average_voltage = df_filtered['Voltage'].resample('D').mean()\n",
            "print(average_voltage)\n",
            "------------------------------------------------------------------------\n",
            "Output of the code is:\n",
            "\n",
            "datetime\n",
            "2008-02-01    240.360271\n",
            "2008-02-02    240.290514\n",
            "2008-02-03    240.340722\n",
            "2008-02-04    240.255208\n",
            "2008-02-05    240.976917\n",
            "2008-02-06    238.413715\n",
            "2008-02-07    241.070549\n",
            "Freq: D, Name: Voltage, dtype: float64\n"
          ]
        }
      ],
      "source": [
        "execute_query(\"Find the average voltage for each day of the first week of February 2008\",\"llama-3.3-70b-versatile\",df)"
      ]
    }
  ]
}