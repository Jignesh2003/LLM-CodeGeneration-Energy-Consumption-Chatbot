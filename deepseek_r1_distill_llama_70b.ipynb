{
  "nbformat": 4,
  "nbformat_minor": 0,
  "metadata": {
    "colab": {
      "provenance": []
    },
    "kernelspec": {
      "name": "python3",
      "display_name": "Python 3"
    },
    "language_info": {
      "name": "python"
    }
  },
  "cells": [
    {
      "cell_type": "code",
      "execution_count": null,
      "metadata": {
        "colab": {
          "base_uri": "https://localhost:8080/"
        },
        "outputId": "2ca4a2be-c97c-49e1-c203-ccb4363ea436",
        "id": "vQg5zjmYbsXv"
      },
      "outputs": [
        {
          "output_type": "stream",
          "name": "stdout",
          "text": [
            "--2025-06-13 08:37:28--  https://archive.ics.uci.edu/static/public/235/individual+household+electric+power+consumption.zip\n",
            "Resolving archive.ics.uci.edu (archive.ics.uci.edu)... 128.195.10.252\n",
            "Connecting to archive.ics.uci.edu (archive.ics.uci.edu)|128.195.10.252|:443... connected.\n",
            "HTTP request sent, awaiting response... 200 OK\n",
            "Length: unspecified\n",
            "Saving to: ‘individual+household+electric+power+consumption.zip’\n",
            "\n",
            "individual+househol     [    <=>             ]  19.68M  28.1MB/s    in 0.7s    \n",
            "\n",
            "2025-06-13 08:37:29 (28.1 MB/s) - ‘individual+household+electric+power+consumption.zip’ saved [20640916]\n",
            "\n",
            "Archive:  individual+household+electric+power+consumption.zip\n",
            "  inflating: household_power_consumption.txt  \n"
          ]
        }
      ],
      "source": [
        "!wget https://archive.ics.uci.edu/static/public/235/individual+household+electric+power+consumption.zip\n",
        "!unzip individual+household+electric+power+consumption.zip"
      ]
    },
    {
      "cell_type": "code",
      "execution_count": null,
      "metadata": {
        "colab": {
          "base_uri": "https://localhost:8080/"
        },
        "outputId": "6338157b-37a0-4bb3-9501-158221a9edb0",
        "id": "orm98gmebsXv"
      },
      "outputs": [
        {
          "output_type": "stream",
          "name": "stdout",
          "text": [
            "Requirement already satisfied: Groq in /usr/local/lib/python3.11/dist-packages (0.28.0)\n",
            "Requirement already satisfied: anyio<5,>=3.5.0 in /usr/local/lib/python3.11/dist-packages (from Groq) (4.9.0)\n",
            "Requirement already satisfied: distro<2,>=1.7.0 in /usr/local/lib/python3.11/dist-packages (from Groq) (1.9.0)\n",
            "Requirement already satisfied: httpx<1,>=0.23.0 in /usr/local/lib/python3.11/dist-packages (from Groq) (0.28.1)\n",
            "Requirement already satisfied: pydantic<3,>=1.9.0 in /usr/local/lib/python3.11/dist-packages (from Groq) (2.11.5)\n",
            "Requirement already satisfied: sniffio in /usr/local/lib/python3.11/dist-packages (from Groq) (1.3.1)\n",
            "Requirement already satisfied: typing-extensions<5,>=4.10 in /usr/local/lib/python3.11/dist-packages (from Groq) (4.14.0)\n",
            "Requirement already satisfied: idna>=2.8 in /usr/local/lib/python3.11/dist-packages (from anyio<5,>=3.5.0->Groq) (3.10)\n",
            "Requirement already satisfied: certifi in /usr/local/lib/python3.11/dist-packages (from httpx<1,>=0.23.0->Groq) (2025.4.26)\n",
            "Requirement already satisfied: httpcore==1.* in /usr/local/lib/python3.11/dist-packages (from httpx<1,>=0.23.0->Groq) (1.0.9)\n",
            "Requirement already satisfied: h11>=0.16 in /usr/local/lib/python3.11/dist-packages (from httpcore==1.*->httpx<1,>=0.23.0->Groq) (0.16.0)\n",
            "Requirement already satisfied: annotated-types>=0.6.0 in /usr/local/lib/python3.11/dist-packages (from pydantic<3,>=1.9.0->Groq) (0.7.0)\n",
            "Requirement already satisfied: pydantic-core==2.33.2 in /usr/local/lib/python3.11/dist-packages (from pydantic<3,>=1.9.0->Groq) (2.33.2)\n",
            "Requirement already satisfied: typing-inspection>=0.4.0 in /usr/local/lib/python3.11/dist-packages (from pydantic<3,>=1.9.0->Groq) (0.4.1)\n"
          ]
        }
      ],
      "source": [
        "pip install Groq"
      ]
    },
    {
      "cell_type": "code",
      "execution_count": null,
      "metadata": {
        "id": "QCFJ6SbtbsXw"
      },
      "outputs": [],
      "source": [
        "import pandas as pd\n",
        "import matplotlib.pyplot as plt\n",
        "from groq import Groq\n",
        "import json\n",
        "import re"
      ]
    },
    {
      "cell_type": "code",
      "execution_count": null,
      "metadata": {
        "id": "AO1IjvHtbsXw"
      },
      "outputs": [],
      "source": [
        "Groq_api_key = 'api_key'\n",
        "client =Groq(api_key=Groq_api_key)"
      ]
    },
    {
      "cell_type": "code",
      "execution_count": null,
      "metadata": {
        "id": "UHkspjZIbsXw"
      },
      "outputs": [],
      "source": [
        "#Load and and preprocess the dataset\n",
        "def load_data_set():\n",
        "    df = pd.read_csv('household_power_consumption.txt',\n",
        "             \tsep=';',\n",
        "             \tparse_dates={'datetime': ['Date', 'Time']},\n",
        "             \tinfer_datetime_format=True,\n",
        "             \tna_values=['?'],\n",
        "             \tlow_memory=False)\n",
        "\n",
        "    df = df.dropna()\n",
        "    df['Global_active_power'] = df['Global_active_power'].astype(float)\n",
        "    df = df.set_index('datetime')\n",
        "    return df"
      ]
    },
    {
      "cell_type": "code",
      "execution_count": null,
      "metadata": {
        "id": "lSOcO7EabsXx"
      },
      "outputs": [],
      "source": [
        "# Function to generate pandas code from natural language question using GROQ API\n",
        "\n",
        "def generate_pandas_code(natural_language_question, model_name, df_info):\n",
        "    df_info_str = json.dumps(df_info)\n",
        "\n",
        "    prompt = f\"\"\"You are a python expert and you are given a dataset which is preprocessed using below code:\n",
        "\n",
        "    df = pd.read_csv('household_power_consumption.txt',\n",
        "                     sep=';',\n",
        "                     parse_dates={{'datetime': ['Date', 'Time']}},\n",
        "                     infer_datetime_format=True,\n",
        "                     na_values=['?'],\n",
        "                     low_memory=False)\n",
        "\n",
        "    df = df.dropna()\n",
        "    df['Global_active_power'] = df['Global_active_power'].astype(float)\n",
        "    df = df.set_index('datetime')\n",
        "\n",
        "    and following are the column names in the dataset after preprocessing where as you can see that the index is set to datetime:\n",
        "    {df_info_str}\n",
        "\n",
        "\n",
        "    Provide me with only python pandas code for below natural language questions no theory, explanation is needed. Please only provide the pandas code with necessary imports which should print the result when executed:\n",
        "    {natural_language_question}\n",
        "\n",
        "    \"\"\"\n",
        "\n",
        "    try:\n",
        "        chat_completion = client.chat.completions.create(\n",
        "            messages=[\n",
        "                {\n",
        "                    \"role\": \"user\",\n",
        "                    \"content\": prompt,\n",
        "                }\n",
        "            ],\n",
        "            model=model_name,\n",
        "            temperature=0.1,\n",
        "        )\n",
        "        return chat_completion.choices[0].message.content\n",
        "\n",
        "    except Exception as e:\n",
        "        print(f\"GROQ API error: {e}\")\n",
        "        return None"
      ]
    },
    {
      "cell_type": "code",
      "execution_count": null,
      "metadata": {
        "id": "h0PVzmxSbsXx"
      },
      "outputs": [],
      "source": [
        "# Function to execute the generated pandas code and display the output\n",
        "\n",
        "def execute_query(query,model_name,df):\n",
        "    df_info = {'columns': df.columns.tolist()}\n",
        "\n",
        "    code = generate_pandas_code(query,model_name,df_info)\n",
        "    #print(\"Python panda code is: \\n\",code)\n",
        "\n",
        "    # Clean the code by removing markdown formatting so that it can be executed\n",
        "    if code:\n",
        "        code_clean = re.sub(r\"```(?:python)?\\n?|```\", \"\", code).strip()\n",
        "        code_clean = re.sub(r\"<think>.*?</think>\", \"\", code_clean, flags=re.DOTALL).strip()\n",
        "        code_clean = code_clean.strip().split('\\n')\n",
        "        valid_lines = []\n",
        "        for line in code_clean:\n",
        "            # Include lines that look like real Python code (simple heuristic)\n",
        "            if line.strip().startswith((\"print\", \"df\", \"#\", \"import\", \"average\", \"result\")) or \"=\" in line:\n",
        "                valid_lines.append(line)\n",
        "\n",
        "        final_code = '\\n'.join(valid_lines)\n",
        "        fixed_code = re.sub(\n",
        "            r\"df\\[(df\\.index\\.\\w+\\s*==\\s*\\d+)\\]\\[(df\\.index\\.\\w+\\s*==\\s*\\d+)\\]\",\n",
        "            r\"df[(\\1) & (\\2)]\",\n",
        "            final_code\n",
        "        )\n",
        "        print(\"------------------------------------------------------------------------\\nPython pandas Code is:\\n\\n\", fixed_code)\n",
        "\n",
        "    try:\n",
        "        print(\"------------------------------------------------------------------------\\nOutput of the code is:\\n\")\n",
        "        exec(fixed_code, {'df': df}) #execute the code in the context of the dataframe\n",
        "    except Exception as e:\n",
        "        print(f\"Error executing code: {e}\")\n",
        "        return False"
      ]
    },
    {
      "cell_type": "code",
      "execution_count": null,
      "metadata": {
        "colab": {
          "base_uri": "https://localhost:8080/"
        },
        "outputId": "85bba699-1e8f-4651-e2c2-4277e6dc9e4a",
        "id": "Cq3ZZ4msbsXy"
      },
      "outputs": [
        {
          "output_type": "stream",
          "name": "stderr",
          "text": [
            "<ipython-input-63-2730963339>:3: FutureWarning: Support for nested sequences for 'parse_dates' in pd.read_csv is deprecated. Combine the desired columns with pd.to_datetime after parsing instead.\n",
            "  df = pd.read_csv('household_power_consumption.txt',\n",
            "<ipython-input-63-2730963339>:3: FutureWarning: The argument 'infer_datetime_format' is deprecated and will be removed in a future version. A strict version of it is now the default, see https://pandas.pydata.org/pdeps/0004-consistent-to-datetime-parsing.html. You can safely remove this argument.\n",
            "  df = pd.read_csv('household_power_consumption.txt',\n",
            "<ipython-input-63-2730963339>:3: UserWarning: Parsing dates in %d/%m/%Y %H:%M:%S format when dayfirst=False (the default) was specified. Pass `dayfirst=True` or specify a format to silence this warning.\n",
            "  df = pd.read_csv('household_power_consumption.txt',\n"
          ]
        }
      ],
      "source": [
        "df = load_data_set()"
      ]
    },
    {
      "cell_type": "code",
      "execution_count": null,
      "metadata": {
        "colab": {
          "base_uri": "https://localhost:8080/"
        },
        "outputId": "ac48d191-e57a-4f99-f99b-53fe73ed6392",
        "id": "R-NqOJpGbsXy"
      },
      "outputs": [
        {
          "output_type": "stream",
          "name": "stdout",
          "text": [
            "                     Global_active_power  Global_reactive_power  Voltage  \\\n",
            "datetime                                                                   \n",
            "2006-12-16 17:24:00                4.216                  0.418   234.84   \n",
            "2006-12-16 17:25:00                5.360                  0.436   233.63   \n",
            "2006-12-16 17:26:00                5.374                  0.498   233.29   \n",
            "2006-12-16 17:27:00                5.388                  0.502   233.74   \n",
            "2006-12-16 17:28:00                3.666                  0.528   235.68   \n",
            "...                                  ...                    ...      ...   \n",
            "2010-11-26 20:58:00                0.946                  0.000   240.43   \n",
            "2010-11-26 20:59:00                0.944                  0.000   240.00   \n",
            "2010-11-26 21:00:00                0.938                  0.000   239.82   \n",
            "2010-11-26 21:01:00                0.934                  0.000   239.70   \n",
            "2010-11-26 21:02:00                0.932                  0.000   239.55   \n",
            "\n",
            "                     Global_intensity  Sub_metering_1  Sub_metering_2  \\\n",
            "datetime                                                                \n",
            "2006-12-16 17:24:00              18.4             0.0             1.0   \n",
            "2006-12-16 17:25:00              23.0             0.0             1.0   \n",
            "2006-12-16 17:26:00              23.0             0.0             2.0   \n",
            "2006-12-16 17:27:00              23.0             0.0             1.0   \n",
            "2006-12-16 17:28:00              15.8             0.0             1.0   \n",
            "...                               ...             ...             ...   \n",
            "2010-11-26 20:58:00               4.0             0.0             0.0   \n",
            "2010-11-26 20:59:00               4.0             0.0             0.0   \n",
            "2010-11-26 21:00:00               3.8             0.0             0.0   \n",
            "2010-11-26 21:01:00               3.8             0.0             0.0   \n",
            "2010-11-26 21:02:00               3.8             0.0             0.0   \n",
            "\n",
            "                     Sub_metering_3  \n",
            "datetime                             \n",
            "2006-12-16 17:24:00            17.0  \n",
            "2006-12-16 17:25:00            16.0  \n",
            "2006-12-16 17:26:00            17.0  \n",
            "2006-12-16 17:27:00            17.0  \n",
            "2006-12-16 17:28:00            17.0  \n",
            "...                             ...  \n",
            "2010-11-26 20:58:00             0.0  \n",
            "2010-11-26 20:59:00             0.0  \n",
            "2010-11-26 21:00:00             0.0  \n",
            "2010-11-26 21:01:00             0.0  \n",
            "2010-11-26 21:02:00             0.0  \n",
            "\n",
            "[2049280 rows x 7 columns]\n"
          ]
        }
      ],
      "source": [
        "print(df)"
      ]
    },
    {
      "cell_type": "code",
      "execution_count": null,
      "metadata": {
        "colab": {
          "base_uri": "https://localhost:8080/"
        },
        "outputId": "21e1d2a6-c456-4e94-a7a5-19785e2920d3",
        "id": "pd4WZWHvbsXy"
      },
      "outputs": [
        {
          "output_type": "stream",
          "name": "stdout",
          "text": [
            "['Global_active_power', 'Global_reactive_power', 'Voltage', 'Global_intensity', 'Sub_metering_1', 'Sub_metering_2', 'Sub_metering_3']\n"
          ]
        }
      ],
      "source": [
        "print(df.columns.tolist())"
      ]
    },
    {
      "cell_type": "code",
      "source": [
        "#deepseek-r1-distill-llama-70b Model Testing"
      ],
      "metadata": {
        "id": "LWBLczwNPq7e"
      },
      "execution_count": null,
      "outputs": []
    },
    {
      "cell_type": "markdown",
      "source": [
        "# Consider for Analysis"
      ],
      "metadata": {
        "id": "YbQ3oNNsrx83"
      }
    },
    {
      "cell_type": "code",
      "execution_count": null,
      "metadata": {
        "colab": {
          "base_uri": "https://localhost:8080/"
        },
        "id": "3tbqSrZEsxP8",
        "outputId": "aaa8660c-767d-4ac8-9ce2-abcb6158656d"
      },
      "outputs": [
        {
          "name": "stdout",
          "output_type": "stream",
          "text": [
            "------------------------------------------------------------------------\n",
            "Python pandas Code is:\n",
            "\n",
            " # Filter data for March 2007 and calculate average\n",
            "average_march_2007 = df.loc['2007-03-01':'2007-03-31', 'Global_active_power'].mean()\n",
            "print(f\"The average active power consumption in March 2007 was {average_march_2007} kW.\")\n",
            "------------------------------------------------------------------------\n",
            "Output of the code is:\n",
            "\n",
            "The average active power consumption in March 2007 was 1.3186270301754073 kW.\n"
          ]
        }
      ],
      "source": [
        "execute_query(\"What was the average active power consumption in March 2007?\", \"deepseek-r1-distill-llama-70b\", df)"
      ]
    },
    {
      "cell_type": "code",
      "execution_count": null,
      "metadata": {
        "colab": {
          "base_uri": "https://localhost:8080/"
        },
        "id": "BhD5PVWTFVb0",
        "outputId": "610524d2-861b-49c8-84d5-72ecf2d9b9d7"
      },
      "outputs": [
        {
          "name": "stdout",
          "output_type": "stream",
          "text": [
            "------------------------------------------------------------------------\n",
            "Python pandas Code is:\n",
            "\n",
            " import pandas as pd\n",
            "import matplotlib.pyplot as plt\n",
            "# Load and preprocess the data (as given)\n",
            "df = pd.read_csv('household_power_consumption.txt',\n",
            "                 sep=';',\n",
            "                 parse_dates={'datetime': ['Date', 'Time']},\n",
            "                 infer_datetime_format=True,\n",
            "                 na_values=['?'],\n",
            "                 low_memory=False)\n",
            "df = df.dropna()\n",
            "df['Global_active_power'] = df['Global_active_power'].astype(float)\n",
            "df = df.set_index('datetime')\n",
            "# Create a new column indicating whether the day is a weekday or weekend\n",
            "df['Weekday'] = df['DayType'].apply(lambda x: 1 if x in ['Monday', 'Tuesday', 'Wednesday', 'Thursday', 'Friday'] else 0)\n",
            "# Group by Weekday and calculate mean Global_active_power\n",
            "weekday_usage = df.groupby('Weekday')['Global_active_power'].mean()\n",
            "# Create a bar plot\n",
            "plt.figure(figsize=(10,6))\n",
            "weekday_usage.plot(kind='bar', color=['blue', 'red'])\n",
            "------------------------------------------------------------------------\n",
            "Output of the code is:\n",
            "\n"
          ]
        },
        {
          "name": "stderr",
          "output_type": "stream",
          "text": [
            "<string>:4: FutureWarning: Support for nested sequences for 'parse_dates' in pd.read_csv is deprecated. Combine the desired columns with pd.to_datetime after parsing instead.\n",
            "<string>:4: FutureWarning: The argument 'infer_datetime_format' is deprecated and will be removed in a future version. A strict version of it is now the default, see https://pandas.pydata.org/pdeps/0004-consistent-to-datetime-parsing.html. You can safely remove this argument.\n",
            "<string>:4: UserWarning: Parsing dates in %d/%m/%Y %H:%M:%S format when dayfirst=False (the default) was specified. Pass `dayfirst=True` or specify a format to silence this warning.\n"
          ]
        },
        {
          "name": "stdout",
          "output_type": "stream",
          "text": [
            "Error executing code: 'DayType'\n"
          ]
        },
        {
          "data": {
            "text/plain": [
              "False"
            ]
          },
          "execution_count": 68,
          "metadata": {},
          "output_type": "execute_result"
        }
      ],
      "source": [
        "execute_query(\"Compare energy usage (Global_active_power) on weekdays vs weekends. Can you show it using visualizatio tool\",\"deepseek-r1-distill-llama-70b\",df)"
      ]
    },
    {
      "cell_type": "code",
      "execution_count": null,
      "metadata": {
        "colab": {
          "base_uri": "https://localhost:8080/"
        },
        "id": "n_BlFoMkGKjE",
        "outputId": "67e37d5a-a955-4de7-cb53-0b1d64c43935"
      },
      "outputs": [
        {
          "name": "stdout",
          "output_type": "stream",
          "text": [
            "------------------------------------------------------------------------\n",
            "Python pandas Code is:\n",
            "\n",
            " # Filter data for March 2007 and calculate average\n",
            "average_march_2007 = df.loc['2007-03-01':'2007-03-31', 'Global_active_power'].mean()\n",
            "print(f\"The average active power consumption in March 2007 was {average_march_2007} kW.\")\n",
            "------------------------------------------------------------------------\n",
            "Output of the code is:\n",
            "\n",
            "The average active power consumption in March 2007 was 1.3186270301754073 kW.\n"
          ]
        }
      ],
      "source": [
        "execute_query(\"What was the average active power consumption in March 2007?\",\"deepseek-r1-distill-llama-70b\",df)"
      ]
    },
    {
      "cell_type": "code",
      "execution_count": null,
      "metadata": {
        "colab": {
          "base_uri": "https://localhost:8080/"
        },
        "id": "NR9XolwMGYez",
        "outputId": "cfdfd63c-86f4-40bb-e807-2de152f3a859"
      },
      "outputs": [
        {
          "name": "stdout",
          "output_type": "stream",
          "text": [
            "------------------------------------------------------------------------\n",
            "Python pandas Code is:\n",
            "\n",
            " import pandas as pd\n",
            "# Read and preprocess the data\n",
            "df = pd.read_csv('household_power_consumption.txt',\n",
            "                 sep=';',\n",
            "                 parse_dates={'datetime': ['Date', 'Time']},\n",
            "                 infer_datetime_format=True,\n",
            "                 na_values=['?'],\n",
            "                 low_memory=False)\n",
            "df = df.dropna()\n",
            "df['Global_active_power'] = df['Global_active_power'].astype(float)\n",
            "df = df.set_index('datetime')\n",
            "# Resample data by day and calculate total energy consumption in kWh\n",
            "daily_energy = df.resample('D')['Global_active_power'].sum() * (1/60)\n",
            "# Find days where energy consumption exceeded 5 kWh\n",
            "days_over_5 = daily_energy[daily_energy > 5]\n",
            "# Print the result\n",
            "print(days_over_5.index)\n",
            "------------------------------------------------------------------------\n",
            "Output of the code is:\n",
            "\n"
          ]
        },
        {
          "name": "stderr",
          "output_type": "stream",
          "text": [
            "<string>:3: FutureWarning: Support for nested sequences for 'parse_dates' in pd.read_csv is deprecated. Combine the desired columns with pd.to_datetime after parsing instead.\n",
            "<string>:3: FutureWarning: The argument 'infer_datetime_format' is deprecated and will be removed in a future version. A strict version of it is now the default, see https://pandas.pydata.org/pdeps/0004-consistent-to-datetime-parsing.html. You can safely remove this argument.\n",
            "<string>:3: UserWarning: Parsing dates in %d/%m/%Y %H:%M:%S format when dayfirst=False (the default) was specified. Pass `dayfirst=True` or specify a format to silence this warning.\n"
          ]
        },
        {
          "name": "stdout",
          "output_type": "stream",
          "text": [
            "DatetimeIndex(['2006-12-16', '2006-12-17', '2006-12-18', '2006-12-19',\n",
            "               '2006-12-20', '2006-12-21', '2006-12-22', '2006-12-23',\n",
            "               '2006-12-24', '2006-12-25',\n",
            "               ...\n",
            "               '2010-11-17', '2010-11-18', '2010-11-19', '2010-11-20',\n",
            "               '2010-11-21', '2010-11-22', '2010-11-23', '2010-11-24',\n",
            "               '2010-11-25', '2010-11-26'],\n",
            "              dtype='datetime64[ns]', name='datetime', length=1409, freq=None)\n"
          ]
        }
      ],
      "source": [
        "execute_query(\"Find days where total energy consumption exceeded 5 kWh.\",\"deepseek-r1-distill-llama-70b\",df)"
      ]
    },
    {
      "cell_type": "code",
      "execution_count": null,
      "metadata": {
        "colab": {
          "base_uri": "https://localhost:8080/",
          "height": 765
        },
        "id": "KT6F4MoNHG8Q",
        "outputId": "58ab635a-5b1e-4e01-cbd7-08234886e1d6"
      },
      "outputs": [
        {
          "name": "stdout",
          "output_type": "stream",
          "text": [
            "------------------------------------------------------------------------\n",
            "Python pandas Code is:\n",
            "\n",
            " import pandas as pd\n",
            "import matplotlib.pyplot as plt\n",
            "# Filter data for the first week of January 2007\n",
            "first_week_jan_2007 = df['2007-01-01':'2007-01-07']\n",
            "# Plot the energy usage trend\n",
            "plt.figure(figsize=(10,6))\n",
            "plt.xticks(rotation=45)\n",
            "------------------------------------------------------------------------\n",
            "Output of the code is:\n",
            "\n"
          ]
        },
        {
          "data": {
            "image/png": "[encoded data removed]",
            "text/plain": [
              "<Figure size 1000x600 with 1 Axes>"
            ]
          },
          "metadata": {},
          "output_type": "display_data"
        }
      ],
      "source": [
        "execute_query(\"Plot the energy usage trend for the first week of January 2007.\",\"deepseek-r1-distill-llama-70b\",df)"
      ]
    },
    {
      "cell_type": "code",
      "execution_count": null,
      "metadata": {
        "colab": {
          "base_uri": "https://localhost:8080/",
          "height": 800
        },
        "id": "KTrisZw6IGgF",
        "outputId": "f15e2ccc-660a-44fa-94e4-004e6ce29e04"
      },
      "outputs": [
        {
          "name": "stdout",
          "output_type": "stream",
          "text": [
            "------------------------------------------------------------------------\n",
            "Python pandas Code is:\n",
            "\n",
            " import matplotlib.pyplot as plt\n",
            "# Filter data for January 2007\n",
            "jan_2007 = df[(df.index.year == 2007) & (df.index.month == 1)]\n",
            "# Filter data for first week (assuming first week is first 7 days of January)\n",
            "first_week = jan_2007['2007-01-01':'2007-01-07']\n",
            "# Aggregate Global_active_power by day\n",
            "daily_usage = first_week['Global_active_power'].resample('D').sum()\n",
            "# Plot the data\n",
            "plt.figure(figsize=(10,6))\n",
            "plt.plot(daily_usage.index, daily_usage.values, marker='o')\n",
            "------------------------------------------------------------------------\n",
            "Output of the code is:\n",
            "\n"
          ]
        },
        {
          "data": {
            "image/png": "[encoded data removed]",
            "text/plain": [
              "<Figure size 1000x600 with 1 Axes>"
            ]
          },
          "metadata": {},
          "output_type": "display_data"
        }
      ],
      "source": [
        "execute_query(\"Plot the energy usage trend for the first week of January 2007. Can you aggregate data by day\",\"deepseek-r1-distill-llama-70b\",df)"
      ]
    },
    {
      "cell_type": "code",
      "execution_count": null,
      "metadata": {
        "colab": {
          "base_uri": "https://localhost:8080/"
        },
        "id": "EJr2n2GKIodP",
        "outputId": "e0d2266d-0edc-4678-84ea-c33e0addab60"
      },
      "outputs": [
        {
          "name": "stdout",
          "output_type": "stream",
          "text": [
            "------------------------------------------------------------------------\n",
            "Python pandas Code is:\n",
            "\n",
            " # Filter data for February 2007\n",
            "feb_2007 = df[(df.index.year == 2007) & (df.index.month == 2)]\n",
            "# Filter data for the first week (1st to 7th February)\n",
            "first_week_feb = feb_2007[(feb_2007.index.day >= 1) & (feb_2007.index.day <= 7)]\n",
            "# Group by day and calculate average voltage\n",
            "average_voltage = first_week_feb.groupby(first_week_feb.index.date)['Voltage'].mean()\n",
            "# Print the result\n",
            "print(average_voltage)\n",
            "------------------------------------------------------------------------\n",
            "Output of the code is:\n",
            "\n",
            "2007-02-01    240.392139\n",
            "2007-02-02    240.334389\n",
            "2007-02-03    238.910194\n",
            "2007-02-04    239.633333\n",
            "2007-02-05    240.810312\n",
            "2007-02-06    241.264160\n",
            "2007-02-07    241.149694\n",
            "Name: Voltage, dtype: float64\n"
          ]
        }
      ],
      "source": [
        "execute_query(\"Find the average voltage for each day of the first week of February 2007\",\"deepseek-r1-distill-llama-70b\",df)"
      ]
    },
    {
      "cell_type": "code",
      "execution_count": null,
      "metadata": {
        "colab": {
          "base_uri": "https://localhost:8080/"
        },
        "id": "xHdmXUezI9OF",
        "outputId": "d4d3805d-bd83-45ee-adea-c88e2fcde113"
      },
      "outputs": [
        {
          "name": "stdout",
          "output_type": "stream",
          "text": [
            "------------------------------------------------------------------------\n",
            "Python pandas Code is:\n",
            "\n",
            " # Calculate correlations\n",
            "correlations = df[['Global_active_power', 'Sub_metering_1', 'Sub_metering_2', 'Sub_metering_3']].corr()\n",
            "# Display the correlations\n",
            "print(correlations.loc['Global_active_power'])\n",
            "------------------------------------------------------------------------\n",
            "Output of the code is:\n",
            "\n",
            "Global_active_power    1.000000\n",
            "Sub_metering_1         0.484401\n",
            "Sub_metering_2         0.434569\n",
            "Sub_metering_3         0.638555\n",
            "Name: Global_active_power, dtype: float64\n"
          ]
        }
      ],
      "source": [
        "execute_query(\"What is the correlation between global active power and sub-metering values?.\",\"deepseek-r1-distill-llama-70b\",df)"
      ]
    },
    {
      "cell_type": "code",
      "execution_count": null,
      "metadata": {
        "colab": {
          "base_uri": "https://localhost:8080/",
          "height": 1000
        },
        "id": "nJwIjszTJPZ2",
        "outputId": "66212f15-a481-4f46-a33b-f396e726c9ab"
      },
      "outputs": [
        {
          "name": "stdout",
          "output_type": "stream",
          "text": [
            "------------------------------------------------------------------------\n",
            "Python pandas Code is:\n",
            "\n",
            " import pandas as pd\n",
            "import matplotlib.pyplot as plt\n",
            "import seaborn as sns\n",
            "# Load the preprocessed data\n",
            "df = pd.read_csv('household_power_consumption.txt',\n",
            "                 sep=';',\n",
            "                 parse_dates={'datetime': ['Date', 'Time']},\n",
            "                 infer_datetime_format=True,\n",
            "                 na_values=['?'],\n",
            "                 low_memory=False)\n",
            "# Drop rows with missing values\n",
            "df = df.dropna()\n",
            "# Convert Global_active_power to float\n",
            "df['Global_active_power'] = df['Global_active_power'].astype(float)\n",
            "# Set datetime as index\n",
            "df = df.set_index('datetime')\n",
            "# Calculate correlations\n",
            "correlation_matrix = df[['Global_active_power', 'Sub_metering_1', 'Sub_metering_2', 'Sub_metering_3']].corr()\n",
            "# Print the correlation matrix\n",
            "print(\"Correlation Matrix:\")\n",
            "print(correlation_matrix)\n",
            "# Create a heatmap to visualize correlations\n",
            "plt.figure(figsize=(10, 8))\n",
            "sns.heatmap(correlation_matrix, annot=True, cmap='coolwarm', center=0)\n",
            "------------------------------------------------------------------------\n",
            "Output of the code is:\n",
            "\n"
          ]
        },
        {
          "name": "stderr",
          "output_type": "stream",
          "text": [
            "<string>:5: FutureWarning: Support for nested sequences for 'parse_dates' in pd.read_csv is deprecated. Combine the desired columns with pd.to_datetime after parsing instead.\n",
            "<string>:5: FutureWarning: The argument 'infer_datetime_format' is deprecated and will be removed in a future version. A strict version of it is now the default, see https://pandas.pydata.org/pdeps/0004-consistent-to-datetime-parsing.html. You can safely remove this argument.\n",
            "<string>:5: UserWarning: Parsing dates in %d/%m/%Y %H:%M:%S format when dayfirst=False (the default) was specified. Pass `dayfirst=True` or specify a format to silence this warning.\n"
          ]
        },
        {
          "name": "stdout",
          "output_type": "stream",
          "text": [
            "Correlation Matrix:\n",
            "                     Global_active_power  Sub_metering_1  Sub_metering_2  \\\n",
            "Global_active_power             1.000000        0.484401        0.434569   \n",
            "Sub_metering_1                  0.484401        1.000000        0.054721   \n",
            "Sub_metering_2                  0.434569        0.054721        1.000000   \n",
            "Sub_metering_3                  0.638555        0.102571        0.080872   \n",
            "\n",
            "                     Sub_metering_3  \n",
            "Global_active_power        0.638555  \n",
            "Sub_metering_1             0.102571  \n",
            "Sub_metering_2             0.080872  \n",
            "Sub_metering_3             1.000000  \n"
          ]
        },
        {
          "data": {
            "image/png": "[encoded data removed]",
            "text/plain": [
              "<Figure size 1000x800 with 2 Axes>"
            ]
          },
          "metadata": {},
          "output_type": "display_data"
        }
      ],
      "source": [
        "execute_query(\"What is the correlation between global active power and sub-metering values?. Can you show it using visualization\",\"deepseek-r1-distill-llama-70b\",df)"
      ]
    },
    {
      "cell_type": "code",
      "execution_count": null,
      "metadata": {
        "colab": {
          "base_uri": "https://localhost:8080/"
        },
        "id": "kaR6GHfnJoAO",
        "outputId": "70cd29b4-5357-44db-9edf-c538af444060"
      },
      "outputs": [
        {
          "name": "stdout",
          "output_type": "stream",
          "text": [
            "------------------------------------------------------------------------\n",
            "Python pandas Code is:\n",
            "\n",
            " import pandas as pd\n",
            "# Read the preprocessed data\n",
            "df = pd.read_csv('household_power_consumption.txt',\n",
            "                 sep=';',\n",
            "                 parse_dates={'datetime': ['Date', 'Time']},\n",
            "                 infer_datetime_format=True,\n",
            "                 na_values=['?'],\n",
            "                 low_memory=False)\n",
            "# Set datetime as index\n",
            "df = df.set_index('datetime')\n",
            "# Filter data for February 2008, first week (1st to 7th)\n",
            "february_first_week = df[(df.index.year == 2008) & \n",
            "                        (df.index.month == 2) & \n",
            "                        (df.index.day <= 7)]\n",
            "# Group by date and calculate average voltage\n",
            "average_voltage = february_first_week.groupby(february_first_week.index.date)['Voltage'].mean()\n",
            "# Print the result\n",
            "print(average_voltage)\n",
            "------------------------------------------------------------------------\n",
            "Output of the code is:\n",
            "\n"
          ]
        },
        {
          "name": "stderr",
          "output_type": "stream",
          "text": [
            "<string>:3: FutureWarning: Support for nested sequences for 'parse_dates' in pd.read_csv is deprecated. Combine the desired columns with pd.to_datetime after parsing instead.\n",
            "<string>:3: FutureWarning: The argument 'infer_datetime_format' is deprecated and will be removed in a future version. A strict version of it is now the default, see https://pandas.pydata.org/pdeps/0004-consistent-to-datetime-parsing.html. You can safely remove this argument.\n",
            "<string>:3: UserWarning: Parsing dates in %d/%m/%Y %H:%M:%S format when dayfirst=False (the default) was specified. Pass `dayfirst=True` or specify a format to silence this warning.\n"
          ]
        },
        {
          "name": "stdout",
          "output_type": "stream",
          "text": [
            "2008-02-01    240.360271\n",
            "2008-02-02    240.290514\n",
            "2008-02-03    240.340722\n",
            "2008-02-04    240.255208\n",
            "2008-02-05    240.976917\n",
            "2008-02-06    238.413715\n",
            "2008-02-07    241.070549\n",
            "Name: Voltage, dtype: float64\n"
          ]
        }
      ],
      "source": [
        "execute_query(\"Find the average voltage for each day of the first week of February 2008\",\"deepseek-r1-distill-llama-70b\",df)"
      ]
    },
    {
      "cell_type": "code",
      "execution_count": null,
      "metadata": {
        "colab": {
          "base_uri": "https://localhost:8080/"
        },
        "id": "eg-mwWXWJ2c3",
        "outputId": "055131e2-d771-40e7-ef1e-9e6c2c856d7e"
      },
      "outputs": [
        {
          "name": "stdout",
          "output_type": "stream",
          "text": [
            "------------------------------------------------------------------------\n",
            "Python pandas Code is:\n",
            "\n",
            " # Convert Global_active_power from watts to kWh\n",
            "df['Global_active_power'] = df['Global_active_power'] / 1000\n",
            "# Filter data for year 2008\n",
            "df_2008 = df[df.index.year == 2008]\n",
            "# Group by day and calculate total consumption\n",
            "daily_consumption = df_2008.groupby(df_2008.index.date)['Global_active_power'].sum()\n",
            "# Find days where consumption exceeded 2 kWh\n",
            "exceeded_days = daily_consumption[daily_consumption > 2]\n",
            "# Print the result\n",
            "print(\"Days in 2008 where energy consumption exceeded 2 kWh:\")\n",
            "print(exceeded_days)\n",
            "------------------------------------------------------------------------\n",
            "Output of the code is:\n",
            "\n",
            "Days in 2008 where energy consumption exceeded 2 kWh:\n",
            "2008-01-01    2.759738\n",
            "2008-01-04    2.291852\n",
            "2008-01-05    2.183248\n",
            "2008-01-08    2.043550\n",
            "2008-01-12    2.871408\n",
            "                ...   \n",
            "2008-12-17    2.098786\n",
            "2008-12-20    2.242502\n",
            "2008-12-21    2.643610\n",
            "2008-12-22    2.015808\n",
            "2008-12-27    2.972164\n",
            "Name: Global_active_power, Length: 74, dtype: float64\n"
          ]
        }
      ],
      "source": [
        "execute_query(\"Find days where energy consumption exceeded 2 kWh in 2008\",\"deepseek-r1-distill-llama-70b\",df)"
      ]
    },
    {
      "cell_type": "code",
      "execution_count": null,
      "metadata": {
        "colab": {
          "base_uri": "https://localhost:8080/"
        },
        "id": "oWbbVnx1J0XN",
        "outputId": "aa9ccc43-c283-422d-d272-cc2e01ed3bff"
      },
      "outputs": [
        {
          "name": "stdout",
          "output_type": "stream",
          "text": [
            "------------------------------------------------------------------------\n",
            "Python pandas Code is:\n",
            "\n",
            " # Filter data for Christmas 2006 (December 25, 2006)\n",
            "christmas_2006 = df['2006-12-25']\n",
            "# Group by hour and calculate total power usage\n",
            "hourly_usage = christmas_2006.groupby(christmas_2006.index.hour)['Global_active_power'].sum()\n",
            "# Find the hour with the highest power usage\n",
            "max_usage_hour = hourly_usage.idxmax()\n",
            "# Print the result\n",
            "print(f\"The hour with the highest power usage on Christmas 2006 was {max_usage_hour}.\")\n",
            "------------------------------------------------------------------------\n",
            "Output of the code is:\n",
            "\n",
            "Error executing code: '2006-12-25'\n"
          ]
        },
        {
          "data": {
            "text/plain": [
              "False"
            ]
          },
          "execution_count": 86,
          "metadata": {},
          "output_type": "execute_result"
        }
      ],
      "source": [
        "execute_query(\"What hour of the day had the highest power usage on Christmas 2006?\",\"deepseek-r1-distill-llama-70b\",df)"
      ]
    }
  ]
}
