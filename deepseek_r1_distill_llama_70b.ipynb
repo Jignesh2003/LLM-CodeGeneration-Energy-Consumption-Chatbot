{
 "cells": [
  {
   "cell_type": "code",
   "execution_count": null,
   "metadata": {
    "colab": {
     "base_uri": "https://localhost:8080/"
    },
    "id": "vQg5zjmYbsXv",
    "outputId": "2ca4a2be-c97c-49e1-c203-ccb4363ea436"
   },
   "outputs": [
    {
     "name": "stdout",
     "output_type": "stream",
     "text": [
      "--2025-06-13 08:37:28--  https://archive.ics.uci.edu/static/public/235/individual+household+electric+power+consumption.zip\n",
      "Resolving archive.ics.uci.edu (archive.ics.uci.edu)... 128.195.10.252\n",
      "Connecting to archive.ics.uci.edu (archive.ics.uci.edu)|128.195.10.252|:443... connected.\n",
      "HTTP request sent, awaiting response... 200 OK\n",
      "Length: unspecified\n",
      "Saving to: ‘individual+household+electric+power+consumption.zip’\n",
      "\n",
      "individual+househol     [    <=>             ]  19.68M  28.1MB/s    in 0.7s    \n",
      "\n",
      "2025-06-13 08:37:29 (28.1 MB/s) - ‘individual+household+electric+power+consumption.zip’ saved [20640916]\n",
      "\n",
      "Archive:  individual+household+electric+power+consumption.zip\n",
      "  inflating: household_power_consumption.txt  \n"
     ]
    }
   ],
   "source": [
    "!wget https://archive.ics.uci.edu/static/public/235/individual+household+electric+power+consumption.zip\n",
    "!unzip individual+household+electric+power+consumption.zip"
   ]
  },
  {
   "cell_type": "code",
   "execution_count": null,
   "metadata": {
    "colab": {
     "base_uri": "https://localhost:8080/"
    },
    "id": "orm98gmebsXv",
    "outputId": "6338157b-37a0-4bb3-9501-158221a9edb0"
   },
   "outputs": [
    {
     "name": "stdout",
     "output_type": "stream",
     "text": [
      "Requirement already satisfied: Groq in /usr/local/lib/python3.11/dist-packages (0.28.0)\n",
      "Requirement already satisfied: anyio<5,>=3.5.0 in /usr/local/lib/python3.11/dist-packages (from Groq) (4.9.0)\n",
      "Requirement already satisfied: distro<2,>=1.7.0 in /usr/local/lib/python3.11/dist-packages (from Groq) (1.9.0)\n",
      "Requirement already satisfied: httpx<1,>=0.23.0 in /usr/local/lib/python3.11/dist-packages (from Groq) (0.28.1)\n",
      "Requirement already satisfied: pydantic<3,>=1.9.0 in /usr/local/lib/python3.11/dist-packages (from Groq) (2.11.5)\n",
      "Requirement already satisfied: sniffio in /usr/local/lib/python3.11/dist-packages (from Groq) (1.3.1)\n",
      "Requirement already satisfied: typing-extensions<5,>=4.10 in /usr/local/lib/python3.11/dist-packages (from Groq) (4.14.0)\n",
      "Requirement already satisfied: idna>=2.8 in /usr/local/lib/python3.11/dist-packages (from anyio<5,>=3.5.0->Groq) (3.10)\n",
      "Requirement already satisfied: certifi in /usr/local/lib/python3.11/dist-packages (from httpx<1,>=0.23.0->Groq) (2025.4.26)\n",
      "Requirement already satisfied: httpcore==1.* in /usr/local/lib/python3.11/dist-packages (from httpx<1,>=0.23.0->Groq) (1.0.9)\n",
      "Requirement already satisfied: h11>=0.16 in /usr/local/lib/python3.11/dist-packages (from httpcore==1.*->httpx<1,>=0.23.0->Groq) (0.16.0)\n",
      "Requirement already satisfied: annotated-types>=0.6.0 in /usr/local/lib/python3.11/dist-packages (from pydantic<3,>=1.9.0->Groq) (0.7.0)\n",
      "Requirement already satisfied: pydantic-core==2.33.2 in /usr/local/lib/python3.11/dist-packages (from pydantic<3,>=1.9.0->Groq) (2.33.2)\n",
      "Requirement already satisfied: typing-inspection>=0.4.0 in /usr/local/lib/python3.11/dist-packages (from pydantic<3,>=1.9.0->Groq) (0.4.1)\n"
     ]
    }
   ],
   "source": [
    "pip install Groq"
   ]
  },
  {
   "cell_type": "code",
   "execution_count": 31,
   "metadata": {
    "id": "QCFJ6SbtbsXw"
   },
   "outputs": [],
   "source": [
    "import pandas as pd\n",
    "import matplotlib.pyplot as plt\n",
    "from groq import Groq\n",
    "import json\n",
    "import re\n",
    "import os"
   ]
  },
  {
   "cell_type": "code",
   "execution_count": 2,
   "metadata": {
    "id": "AO1IjvHtbsXw"
   },
   "outputs": [],
   "source": [
    "Groq_api_key = 'api_key'\n",
    "client =Groq(api_key=Groq_api_key)"
   ]
  },
  {
   "cell_type": "code",
   "execution_count": 3,
   "metadata": {
    "id": "UHkspjZIbsXw"
   },
   "outputs": [],
   "source": [
    "#Load and and preprocess the dataset\n",
    "def load_data_set():\n",
    "    df = pd.read_csv('dataset/household_power_consumption.txt',\n",
    "             \tsep=';',\n",
    "             \tparse_dates={'datetime': ['Date', 'Time']},\n",
    "             \tinfer_datetime_format=True,\n",
    "             \tna_values=['?'],\n",
    "             \tlow_memory=False)\n",
    "\n",
    "    df = df.dropna()\n",
    "    df['Global_active_power'] = df['Global_active_power'].astype(float)\n",
    "    df = df.set_index('datetime')\n",
    "    return df"
   ]
  },
  {
   "cell_type": "code",
   "execution_count": 26,
   "metadata": {
    "id": "lSOcO7EabsXx"
   },
   "outputs": [],
   "source": [
    "# Function to generate pandas code from natural language question using GROQ API\n",
    "\n",
    "def generate_pandas_code(natural_language_question, model_name, df_info):\n",
    "    df_info_str = json.dumps(df_info)\n",
    "\n",
    "    prompt = f\"\"\"\n",
    "        You are a Python pandas and matplotlib expert. Given this preprocessed dataframe (index=datetime):\n",
    "\n",
    "        PREPROCESSING CODE:\n",
    "    \n",
    "         df = pd.read_csv('dataset/household_power_consumption.txt',\n",
    "             \tsep=';',\n",
    "             \tparse_dates={{'datetime': {{'Date', 'Time'}}}},\n",
    "             \tinfer_datetime_format=True,\n",
    "             \tna_values=['?'],\n",
    "             \tlow_memory=False)\n",
    "\n",
    "        df = df.dropna()\n",
    "        df['Global_active_power'] = df['Global_active_power'].astype(float)\n",
    "        df = df.set_index('datetime')\n",
    "        \n",
    "        Columns: {df_info_str}\n",
    "        \n",
    "        Generate ONLY executable Python/pandas code that:\n",
    "        1. Answers the question: \"{natural_language_question}\"\n",
    "        2. Stores final results in these standard variables when applicable:\n",
    "           - avg_power_march, max_hour, weekday_avg, weekend_avg \n",
    "           - days_exceeded_5_kwh, daily_voltage, correlation\n",
    "           - plot_data (for visualization outputs only)\n",
    "        \n",
    "        ONLY FOR VISUALIZATION QUERIES WHEN QUESTION CONTAINS KEY-WORDS like \"plot\", \"visualize\", \"graph\", \"visualization\":\n",
    "            1. MUST include these elements in order:\n",
    "               a) Data filtering/processing\n",
    "               b) plt.figure() with size (10,6)\n",
    "               c) ACTUAL PLOTTING COMMAND (plt.plot, plt.bar, etc.)\n",
    "               d) Axis labels and title (plt.xlabel, plt.ylabel, plt.title)\n",
    "               e) Save to \"images/{model_name}/[sanitized_title].png\"\n",
    "               f) Buffer handling for plot_data\n",
    "               g) plt.show()\n",
    "               h) plt.close()\n",
    "        \n",
    "        EXAMPLE FOR QUESTION CONTAIN VISUALIZATION i.e \"Plot the energy usage trend for the first week of January 2007.\"\n",
    "        ```python\n",
    "        # Filter data\n",
    "        filtered = df[(df.index.year==2007) & (df.index.month==1)]\n",
    "        daily = filtered['Global_active_power'].resample('D').mean()\n",
    "        \n",
    "        # Create plot\n",
    "        plt.figure(figsize=(10,6))\n",
    "        plt.plot(daily.index, daily, color='blue')  # <-- ACTUAL PLOT COMMAND\n",
    "        plt.xlabel('Date')\n",
    "        plt.ylabel('Power (kW)')\n",
    "        title = 'January 2007 Daily Power Consumption'\n",
    "        plt.title(title)\n",
    "        \n",
    "        # Save and store\n",
    "        os.makedirs(f\"images/{model_name}\", exist_ok=True)\n",
    "        filename = title.lower().replace(' ','_') + '.png'\n",
    "        plt.savefig(f\"images/{model_name}/filename.png\")\n",
    "        buf = io.BytesIO()\n",
    "        buf.seek(0)\n",
    "        plot_data = buf.getvalue()\n",
    "        plt.show()\n",
    "        plt.close()\n",
    "\n",
    "        IMPORTANT RULES:\n",
    "        (.)NEVER skip the actual plotting command (plt.plot, plt.bar, etc.) whereever needed if QUESTION CONTAIN KEY-WORDS.\n",
    "        (.)show the plot (plt.show()) only for visual questions\n",
    "        (.)Generate ONLY code - no explanations or markdown formatting\n",
    "        (.)For non-visual questions, NEVER include plotting code AND ALWAYS PRINT THE FINAL RESULT.\n",
    "    \"\"\"\n",
    "    try:\n",
    "        chat_completion = client.chat.completions.create(\n",
    "            messages=[\n",
    "                {\n",
    "                    \"role\": \"user\",\n",
    "                    \"content\": prompt,\n",
    "                }\n",
    "            ],\n",
    "            model=model_name,\n",
    "            temperature=0.1,\n",
    "        )\n",
    "        return chat_completion.choices[0].message.content\n",
    "\n",
    "    except Exception as e:\n",
    "        print(f\"GROQ API error: {e}\")\n",
    "        return None"
   ]
  },
  {
   "cell_type": "code",
   "execution_count": 33,
   "metadata": {
    "id": "h0PVzmxSbsXx"
   },
   "outputs": [],
   "source": [
    "# Function to execute the generated pandas code and display the output\n",
    "\n",
    "def execute_query(query,model_name,df):\n",
    "    df_info = {'columns': df.columns.tolist()}\n",
    "    local_vars={}\n",
    "\n",
    "    code = generate_pandas_code(query,model_name,df_info)\n",
    "    #print(\"Python panda code is: \\n\",code)\n",
    "\n",
    "    # Clean the code by removing markdown formatting so that it can be executed\n",
    "    if code:\n",
    "        code_clean = re.sub(r\"```(?:python)?\\n?|```\", \"\", code).strip()\n",
    "        code_clean = re.sub(r\"<think>.*?</think>\", \"\", code_clean, flags=re.DOTALL).strip()\n",
    "        code_clean = code_clean.strip().split('\\n')\n",
    "        valid_lines = []\n",
    "        for line in code_clean:\n",
    "            # Include lines that look like real Python code (simple heuristic)\n",
    "            if line.strip().startswith((\"print\", \"df\", \"#\", \"import\", \"average\", \"result\")) or \"=\" in line:\n",
    "                valid_lines.append(line)\n",
    "\n",
    "        final_code = '\\n'.join(valid_lines)\n",
    "        fixed_code = re.sub(\n",
    "            r\"df\\[(df\\.index\\.\\w+\\s*==\\s*\\d+)\\]\\[(df\\.index\\.\\w+\\s*==\\s*\\d+)\\]\",\n",
    "            r\"df[(\\1) & (\\2)]\",\n",
    "            final_code\n",
    "        )\n",
    "        print(\"------------------------------------------------------------------------\\nPython pandas Code is:\\n\\n\", fixed_code)\n",
    "\n",
    "    try:\n",
    "        print(\"------------------------------------------------------------------------\\nOutput of the code is:\\n\")\n",
    "        exec_vars={'df':df,'plt':plt,'os':os}\n",
    "        exec(fixed_code, exec_vars,local_vars) #execute the code in the context of the dataframe\n",
    "         # Check if a plot was attempted but has 0 axes\n",
    "        if 'plt' in exec_vars:\n",
    "            fig = plt.gcf()\n",
    "            if len(fig.axes) == 0 and any(line.strip().startswith(('plt.plot', 'plt.bar', 'plt.figure')) \n",
    "                                       for line in fixed_code.split('\\n')):\n",
    "                plt.close()\n",
    "                print(\"Plot generation failed - empty figure detected\")\n",
    "                return False\n",
    "        return True\n",
    "    except Exception as e:\n",
    "        print(f\"Error executing code: {e}\")\n",
    "        return False"
   ]
  },
  {
   "cell_type": "code",
   "execution_count": 10,
   "metadata": {
    "colab": {
     "base_uri": "https://localhost:8080/"
    },
    "id": "Cq3ZZ4msbsXy",
    "outputId": "85bba699-1e8f-4651-e2c2-4277e6dc9e4a"
   },
   "outputs": [],
   "source": [
    "df = load_data_set()"
   ]
  },
  {
   "cell_type": "code",
   "execution_count": 11,
   "metadata": {
    "colab": {
     "base_uri": "https://localhost:8080/"
    },
    "id": "R-NqOJpGbsXy",
    "outputId": "ac48d191-e57a-4f99-f99b-53fe73ed6392"
   },
   "outputs": [
    {
     "name": "stdout",
     "output_type": "stream",
     "text": [
      "                     Global_active_power  Global_reactive_power  Voltage  \\\n",
      "datetime                                                                   \n",
      "2006-12-16 17:24:00                4.216                  0.418   234.84   \n",
      "2006-12-16 17:25:00                5.360                  0.436   233.63   \n",
      "2006-12-16 17:26:00                5.374                  0.498   233.29   \n",
      "2006-12-16 17:27:00                5.388                  0.502   233.74   \n",
      "2006-12-16 17:28:00                3.666                  0.528   235.68   \n",
      "...                                  ...                    ...      ...   \n",
      "2010-11-26 20:58:00                0.946                  0.000   240.43   \n",
      "2010-11-26 20:59:00                0.944                  0.000   240.00   \n",
      "2010-11-26 21:00:00                0.938                  0.000   239.82   \n",
      "2010-11-26 21:01:00                0.934                  0.000   239.70   \n",
      "2010-11-26 21:02:00                0.932                  0.000   239.55   \n",
      "\n",
      "                     Global_intensity  Sub_metering_1  Sub_metering_2  \\\n",
      "datetime                                                                \n",
      "2006-12-16 17:24:00              18.4             0.0             1.0   \n",
      "2006-12-16 17:25:00              23.0             0.0             1.0   \n",
      "2006-12-16 17:26:00              23.0             0.0             2.0   \n",
      "2006-12-16 17:27:00              23.0             0.0             1.0   \n",
      "2006-12-16 17:28:00              15.8             0.0             1.0   \n",
      "...                               ...             ...             ...   \n",
      "2010-11-26 20:58:00               4.0             0.0             0.0   \n",
      "2010-11-26 20:59:00               4.0             0.0             0.0   \n",
      "2010-11-26 21:00:00               3.8             0.0             0.0   \n",
      "2010-11-26 21:01:00               3.8             0.0             0.0   \n",
      "2010-11-26 21:02:00               3.8             0.0             0.0   \n",
      "\n",
      "                     Sub_metering_3  \n",
      "datetime                             \n",
      "2006-12-16 17:24:00            17.0  \n",
      "2006-12-16 17:25:00            16.0  \n",
      "2006-12-16 17:26:00            17.0  \n",
      "2006-12-16 17:27:00            17.0  \n",
      "2006-12-16 17:28:00            17.0  \n",
      "...                             ...  \n",
      "2010-11-26 20:58:00             0.0  \n",
      "2010-11-26 20:59:00             0.0  \n",
      "2010-11-26 21:00:00             0.0  \n",
      "2010-11-26 21:01:00             0.0  \n",
      "2010-11-26 21:02:00             0.0  \n",
      "\n",
      "[2049280 rows x 7 columns]\n"
     ]
    }
   ],
   "source": [
    "print(df)"
   ]
  },
  {
   "cell_type": "code",
   "execution_count": 12,
   "metadata": {
    "colab": {
     "base_uri": "https://localhost:8080/"
    },
    "id": "pd4WZWHvbsXy",
    "outputId": "21e1d2a6-c456-4e94-a7a5-19785e2920d3"
   },
   "outputs": [
    {
     "name": "stdout",
     "output_type": "stream",
     "text": [
      "['Global_active_power', 'Global_reactive_power', 'Voltage', 'Global_intensity', 'Sub_metering_1', 'Sub_metering_2', 'Sub_metering_3']\n"
     ]
    }
   ],
   "source": [
    "print(df.columns.tolist())\n",
    "deepseek_results={}"
   ]
  },
  {
   "cell_type": "code",
   "execution_count": null,
   "metadata": {
    "id": "LWBLczwNPq7e"
   },
   "outputs": [],
   "source": [
    "#deepseek-r1-distill-llama-70b Model Testing"
   ]
  },
  {
   "cell_type": "markdown",
   "metadata": {
    "id": "YbQ3oNNsrx83"
   },
   "source": [
    "# Consider for Analysis"
   ]
  },
  {
   "cell_type": "code",
   "execution_count": 27,
   "metadata": {
    "colab": {
     "base_uri": "https://localhost:8080/"
    },
    "id": "3tbqSrZEsxP8",
    "outputId": "aaa8660c-767d-4ac8-9ce2-abcb6158656d"
   },
   "outputs": [
    {
     "name": "stdout",
     "output_type": "stream",
     "text": [
      "------------------------------------------------------------------------\n",
      "Python pandas Code is:\n",
      "\n",
      " # Filter data for March 2007\n",
      "march_2007 = df[(df.index.year == 2007) & (df.index.month == 3)]\n",
      "# Calculate average active power\n",
      "avg_power_march = march_2007['Global_active_power'].mean()\n",
      "# Print the result\n",
      "print(f\"The average active power consumption in March 2007 was {avg_power_march} kW\")\n",
      "------------------------------------------------------------------------\n",
      "Output of the code is:\n",
      "\n",
      "The average active power consumption in March 2007 was 1.3186270301754073 kW\n",
      "True\n"
     ]
    },
    {
     "data": {
      "text/plain": [
       "<Figure size 640x480 with 0 Axes>"
      ]
     },
     "metadata": {},
     "output_type": "display_data"
    }
   ],
   "source": [
    "value= execute_query(\"What was the average active power consumption in March 2007?\", \"deepseek-r1-distill-llama-70b\", df)\n",
    "if(value):\n",
    "    deepseek_results[\"What was the average active power consumption in March 2007?\"]=1\n",
    "else:\n",
    "    deepseek_results[\"What was the average active power consumption in March 2007?\"]=0\n",
    "print(value)"
   ]
  },
  {
   "cell_type": "code",
   "execution_count": 28,
   "metadata": {
    "colab": {
     "base_uri": "https://localhost:8080/"
    },
    "id": "BhD5PVWTFVb0",
    "outputId": "610524d2-861b-49c8-84d5-72ecf2d9b9d7"
   },
   "outputs": [
    {
     "name": "stdout",
     "output_type": "stream",
     "text": [
      "------------------------------------------------------------------------\n",
      "Python pandas Code is:\n",
      "\n",
      " # Extract global active power and determine weekdays/weekends\n",
      "global_power = df['Global_active_power']\n",
      "df['weekday'] = df.index.weekday\n",
      "# Calculate averages\n",
      "weekday_avg = global_power[df['weekday'] <= 4].mean()\n",
      "weekend_avg = global_power[df['weekday'] > 4].mean()\n",
      "# Print results\n",
      "print(f\"Weekday average power consumption: {weekday_avg} kW\")\n",
      "print(f\"Weekend average power consumption: {weekend_avg} kW\")\n",
      "------------------------------------------------------------------------\n",
      "Output of the code is:\n",
      "\n",
      "Weekday average power consumption: 1.0354720516747509 kW\n",
      "Weekend average power consumption: 1.234232176791304 kW\n",
      "True\n"
     ]
    },
    {
     "data": {
      "text/plain": [
       "<Figure size 640x480 with 0 Axes>"
      ]
     },
     "metadata": {},
     "output_type": "display_data"
    }
   ],
   "source": [
    "value= execute_query(\"Compare energy usage (Global_active_power) on weekdays vs weekends.\",\"deepseek-r1-distill-llama-70b\",df)\n",
    "if(value):\n",
    "    deepseek_results[\"Compare energy usage (Global_active_power) on weekdays vs weekends\"]=1\n",
    "else:\n",
    "    deepseek_results[\"Compare energy usage (Global_active_power) on weekdays vs weekends\"]=0\n",
    "print(value)"
   ]
  },
  {
   "cell_type": "code",
   "execution_count": 29,
   "metadata": {
    "colab": {
     "base_uri": "https://localhost:8080/"
    },
    "id": "NR9XolwMGYez",
    "outputId": "cfdfd63c-86f4-40bb-e807-2de152f3a859"
   },
   "outputs": [
    {
     "name": "stdout",
     "output_type": "stream",
     "text": [
      "------------------------------------------------------------------------\n",
      "Python pandas Code is:\n",
      "\n",
      " # Calculate daily energy consumption in kWh\n",
      "daily_energy = df['Global_active_power'].resample('D').sum() / 1000\n",
      "# Find days where total energy exceeded 5 kWh\n",
      "days_exceeded_5_kwh = daily_energy[daily_energy > 5].index.date.tolist()\n",
      "print(f\"Days where total energy consumption exceeded 5 kWh: {days_exceeded_5_kwh}\")\n",
      "# Calculate average power in March\n",
      "march_avg = df[df.index.month == 3]['Global_active_power'].mean()\n",
      "avg_power_march = march_avg\n",
      "print(f\"Average power in March: {avg_power_march} kW\")\n",
      "# Find maximum hour of the day\n",
      "max_hour = df.groupby(df.index.hour)['Global_active_power'].mean().idxmax()\n",
      "print(f\"Hour with maximum power consumption: {max_hour}\")\n",
      "# Calculate weekday and weekend averages\n",
      "weekday_avg = df[df['weekday'] == 0]['Global_active_power'].mean()\n",
      "weekend_avg = df[df['weekday'] == 1]['Global_active_power'].mean()\n",
      "print(f\"Weekday average power: {weekday_avg} kW\")\n",
      "print(f\"Weekend average power: {weekend_avg} kW\")\n",
      "# Calculate daily voltage\n",
      "daily_voltage = df['Voltage'].resample('D').mean().mean()\n",
      "print(f\"Daily voltage: {daily_voltage} V\")\n",
      "# Calculate correlation between Global_active_power and Voltage\n",
      "correlation = df['Global_active_power'].corr(df['Voltage'])\n",
      "print(f\"Correlation between Global_active_power and Voltage: {correlation}\")\n",
      "------------------------------------------------------------------------\n",
      "Output of the code is:\n",
      "\n",
      "Days where total energy consumption exceeded 5 kWh: []\n",
      "Average power in March: 1.231342555614092 kW\n",
      "Hour with maximum power consumption: 20\n",
      "Weekday average power: 0.9995460819143287 kW\n",
      "Weekend average power: 1.0697955145387306 kW\n",
      "Daily voltage: 240.8364213354033 V\n",
      "Correlation between Global_active_power and Voltage: -0.3997616096289623\n",
      "True\n"
     ]
    },
    {
     "data": {
      "text/plain": [
       "<Figure size 640x480 with 0 Axes>"
      ]
     },
     "metadata": {},
     "output_type": "display_data"
    }
   ],
   "source": [
    "value = execute_query(\"Find days where total energy consumption exceeded 5 kWh.\",\"deepseek-r1-distill-llama-70b\",df)\n",
    "if(value):\n",
    "    deepseek_results[\"Find days where total energy consumption exceeded 5 kWh\"]=1\n",
    "else:\n",
    "    deepseek_results[\"Find days where total energy consumption exceeded 5 kWh\"]=0\n",
    "print(value)"
   ]
  },
  {
   "cell_type": "code",
   "execution_count": 34,
   "metadata": {
    "colab": {
     "base_uri": "https://localhost:8080/",
     "height": 765
    },
    "id": "KT6F4MoNHG8Q",
    "outputId": "58ab635a-5b1e-4e01-cbd7-08234886e1d6"
   },
   "outputs": [
    {
     "name": "stdout",
     "output_type": "stream",
     "text": [
      "------------------------------------------------------------------------\n",
      "Python pandas Code is:\n",
      "\n",
      " # Filter data for first week of January 2007\n",
      "filtered = df[(df.index.year == 2007) & (df.index.month == 1)]\n",
      "weekly_data = filtered['Global_active_power'].resample('D').mean()\n",
      "# Create plot\n",
      "plt.figure(figsize=(10,6))\n",
      "plt.plot(weekly_data.index, weekly_data, color='blue')\n",
      "title = 'First Week January 2007 Daily Power Consumption'\n",
      "# Save and store\n",
      "os.makedirs(\"images/deepseek-r1-distill-llama-70b\", exist_ok=True)\n",
      "filename = title.lower().replace(' ', '_') + '.png'\n",
      "buf = io.BytesIO()\n",
      "plt.savefig(buf, format='png')\n",
      "plot_data = buf.getvalue()\n",
      "# Aggregate data by month\n",
      "monthly_avg = df['Global_active_power'].resample('M').mean()\n",
      "avg_power_march = monthly_avg[monthly_avg.index.month == 3].mean()\n",
      "# Calculate maximum hour in March\n",
      "march_data = df[df.index.month == 3]\n",
      "max_hour = march_data['Global_active_power'].resample('H').mean().max()\n",
      "# Calculate weekday and weekend averages\n",
      "weekday_avg = df[df['weekday'] == 0]['Global_active_power'].mean()\n",
      "weekend_avg = df[df['weekday'] >= 1]['Global_active_power'].mean()\n",
      "# Count days exceeding 5 kWh\n",
      "daily_usage = df['Global_active_power'].resample('D').mean()\n",
      "days_exceeded_5_kwh = (daily_usage > 5).sum()\n",
      "# Calculate daily voltage average\n",
      "daily_voltage = df['Voltage'].resample('D').mean().mean()\n",
      "# Calculate correlation between voltage and global active power\n",
      "correlation = df['Voltage'].corr(df['Global_active_power'])\n",
      "------------------------------------------------------------------------\n",
      "Output of the code is:\n",
      "\n",
      "Error executing code: name 'io' is not defined\n",
      "False\n"
     ]
    },
    {
     "data": {
      "image/png": "[encoded data removed]",
      "text/plain": [
       "<Figure size 1000x600 with 1 Axes>"
      ]
     },
     "metadata": {},
     "output_type": "display_data"
    }
   ],
   "source": [
    "value = execute_query(\"Plot the energy usage trend for the first week of January 2007. Can you aggregrate data by month\",\"deepseek-r1-distill-llama-70b\",df)\n",
    "if(value):\n",
    "    deepseek_results[\"Plot the energy usage trend for the first week of January 2007. Can you aggregrate data by month\"]=1\n",
    "else:\n",
    "    deepseek_results[\"Plot the energy usage trend for the first week of January 2007. Can you aggregrate data by month\"]=0\n",
    "print(value)"
   ]
  },
  {
   "cell_type": "code",
   "execution_count": 35,
   "metadata": {
    "colab": {
     "base_uri": "https://localhost:8080/",
     "height": 800
    },
    "id": "KTrisZw6IGgF",
    "outputId": "f15e2ccc-660a-44fa-94e4-004e6ce29e04"
   },
   "outputs": [
    {
     "name": "stdout",
     "output_type": "stream",
     "text": [
      "------------------------------------------------------------------------\n",
      "Python pandas Code is:\n",
      "\n",
      " # Filter data for first week of January 2007\n",
      "filtered = df[(df.index.year == 2007) & (df.index.month == 1)]\n",
      "daily = filtered['Global_active_power'].resample('D').mean()\n",
      "# Create plot\n",
      "plt.figure(figsize=(10,6))\n",
      "plt.plot(daily.index, daily, color='blue')\n",
      "title = 'January 2007 Daily Power Consumption'\n",
      "# Save and store\n",
      "os.makedirs(\"images/deepseek-r1-distill-llama-70b\", exist_ok=True)\n",
      "filename = title.lower().replace(' ', '_') + '.png'\n",
      "buf = io.BytesIO()\n",
      "plt.savefig(buf, format='png')\n",
      "plot_data = buf.getvalue()\n",
      "------------------------------------------------------------------------\n",
      "Output of the code is:\n",
      "\n",
      "Error executing code: name 'io' is not defined\n",
      "False\n"
     ]
    },
    {
     "data": {
      "image/png": "[encoded data removed]",
      "text/plain": [
       "<Figure size 1000x600 with 1 Axes>"
      ]
     },
     "metadata": {},
     "output_type": "display_data"
    }
   ],
   "source": [
    "value= execute_query(\"Plot the energy usage trend for the first week of January 2007. Can you aggregate data by day\",\"deepseek-r1-distill-llama-70b\",df)\n",
    "if(value):\n",
    "    deepseek_results[\"Plot the energy usage trend for the first week of January 2007. Can you aggregate data by day\"]=1\n",
    "else:\n",
    "    deepseek_results[\"Plot the energy usage trend for the first week of January 2007. Can you aggregate data by day\"]=0\n",
    "print(value)"
   ]
  },
  {
   "cell_type": "code",
   "execution_count": 36,
   "metadata": {
    "colab": {
     "base_uri": "https://localhost:8080/"
    },
    "id": "EJr2n2GKIodP",
    "outputId": "e0d2266d-0edc-4678-84ea-c33e0addab60"
   },
   "outputs": [
    {
     "name": "stdout",
     "output_type": "stream",
     "text": [
      "------------------------------------------------------------------------\n",
      "Python pandas Code is:\n",
      "\n",
      " # Filter data for February 2007\n",
      "feb_2007 = df[(df.index.year == 2007) & (df.index.month == 2)]\n",
      "# Get first week (1st to 7th)\n",
      "first_week = feb_2007[feb_2007.index.day <= 7]\n",
      "# Calculate daily average voltage\n",
      "daily_voltage = first_week['Voltage'].resample('D').mean()\n",
      "# Print the result\n",
      "print(daily_voltage)\n",
      "------------------------------------------------------------------------\n",
      "Output of the code is:\n",
      "\n",
      "datetime\n",
      "2007-02-01    240.392139\n",
      "2007-02-02    240.334389\n",
      "2007-02-03    238.910194\n",
      "2007-02-04    239.633333\n",
      "2007-02-05    240.810312\n",
      "2007-02-06    241.264160\n",
      "2007-02-07    241.149694\n",
      "Freq: D, Name: Voltage, dtype: float64\n",
      "True\n"
     ]
    },
    {
     "data": {
      "text/plain": [
       "<Figure size 640x480 with 0 Axes>"
      ]
     },
     "metadata": {},
     "output_type": "display_data"
    }
   ],
   "source": [
    "value= execute_query(\"Find the average voltage for each day of the first week of February 2007\",\"deepseek-r1-distill-llama-70b\",df)\n",
    "if(value):\n",
    "    deepseek_results[\"Find the average voltage for each day of the first week of February 2007\"]=1\n",
    "else:\n",
    "    deepseek_results[\"Find the average voltage for each day of the first week of February 2007\"]=0\n",
    "print(value)"
   ]
  },
  {
   "cell_type": "code",
   "execution_count": 37,
   "metadata": {
    "colab": {
     "base_uri": "https://localhost:8080/"
    },
    "id": "xHdmXUezI9OF",
    "outputId": "d4d3805d-bd83-45ee-adea-c88e2fcde113"
   },
   "outputs": [
    {
     "name": "stdout",
     "output_type": "stream",
     "text": [
      "------------------------------------------------------------------------\n",
      "Python pandas Code is:\n",
      "\n",
      " # Calculate correlation between Global_active_power and sub-metering values\n",
      "correlation = df[[\"Global_active_power\", \"Sub_metering_1\", \"Sub_metering_2\", \"Sub_metering_3\"]].corr().loc['Global_active_power']\n",
      "# Print the correlation results\n",
      "print(correlation)\n",
      "------------------------------------------------------------------------\n",
      "Output of the code is:\n",
      "\n",
      "Global_active_power    1.000000\n",
      "Sub_metering_1         0.484401\n",
      "Sub_metering_2         0.434569\n",
      "Sub_metering_3         0.638555\n",
      "Name: Global_active_power, dtype: float64\n",
      "True\n"
     ]
    },
    {
     "data": {
      "text/plain": [
       "<Figure size 640x480 with 0 Axes>"
      ]
     },
     "metadata": {},
     "output_type": "display_data"
    }
   ],
   "source": [
    "value= execute_query(\"What is the correlation between global active power and sub-metering values?.\",\"deepseek-r1-distill-llama-70b\",df)\n",
    "if(value):\n",
    "    deepseek_results[\"What is the correlation between global active power and sub-metering values?\"]=1\n",
    "else:\n",
    "    deepseek_results[\"What is the correlation between global active power and sub-metering values?\"]=0\n",
    "print(value)"
   ]
  },
  {
   "cell_type": "code",
   "execution_count": 38,
   "metadata": {
    "colab": {
     "base_uri": "https://localhost:8080/",
     "height": 1000
    },
    "id": "nJwIjszTJPZ2",
    "outputId": "66212f15-a481-4f46-a33b-f396e726c9ab"
   },
   "outputs": [
    {
     "name": "stdout",
     "output_type": "stream",
     "text": [
      "------------------------------------------------------------------------\n",
      "Python pandas Code is:\n",
      "\n",
      " import pandas as pd\n",
      "import matplotlib.pyplot as plt\n",
      "import seaborn as sns\n",
      "import os\n",
      "import io\n",
      "# Calculate correlations\n",
      "correlation = df[['Global_active_power', 'Sub_metering_1', 'Sub_metering_2', 'Sub_metering_3']].corr()\n",
      "# Create heatmap for visualization\n",
      "plt.figure(figsize=(10,6))\n",
      "sns.heatmap(correlation, annot=True, cmap='coolwarm', center=0)\n",
      "# Save and store plot data\n",
      "os.makedirs(\"images/deepseek-r1-distill-llama-70b\", exist_ok=True)\n",
      "filename = \"correlation_between_global_active_power_and_sub-metering_values.png\"\n",
      "buf = io.BytesIO()\n",
      "plt.savefig(buf, format='png')\n",
      "plot_data = buf.getvalue()\n",
      "# Calculate additional metrics\n",
      "avg_power_march = df[df.index.month == 3]['Global_active_power'].mean()\n",
      "max_hour = df['Global_active_power'].resample('H').mean().idxmax()\n",
      "weekday_avg = df[df['weekday'] == 1]['Global_active_power'].mean()\n",
      "weekend_avg = df[df['weekday'] == 0]['Global_active_power'].mean()\n",
      "days_exceeded_5_kwh = (df['Global_active_power'] > 5).resample('D').sum().sum()\n",
      "daily_voltage = df['Voltage'].resample('D').mean().mean()\n",
      "# Print results\n",
      "print(\"Correlation Matrix:\")\n",
      "print(correlation)\n",
      "print(\"\\navg_power_march:\", avg_power_march)\n",
      "print(\"max_hour:\", max_hour)\n",
      "print(\"weekday_avg:\", weekday_avg)\n",
      "print(\"weekend_avg:\", weekend_avg)\n",
      "print(\"days_exceeded_5_kwh:\", days_exceeded_5_kwh)\n",
      "print(\"daily_voltage:\", daily_voltage)\n",
      "------------------------------------------------------------------------\n",
      "Output of the code is:\n",
      "\n",
      "Correlation Matrix:\n",
      "                     Global_active_power  Sub_metering_1  Sub_metering_2  \\\n",
      "Global_active_power             1.000000        0.484401        0.434569   \n",
      "Sub_metering_1                  0.484401        1.000000        0.054721   \n",
      "Sub_metering_2                  0.434569        0.054721        1.000000   \n",
      "Sub_metering_3                  0.638555        0.102571        0.080872   \n",
      "\n",
      "                     Sub_metering_3  \n",
      "Global_active_power        0.638555  \n",
      "Sub_metering_1             0.102571  \n",
      "Sub_metering_2             0.080872  \n",
      "Sub_metering_3             1.000000  \n",
      "\n",
      "avg_power_march: 1.231342555614092\n",
      "max_hour: 2008-11-23 18:00:00\n",
      "weekday_avg: 1.0697955145387306\n",
      "weekend_avg: 0.9995460819143287\n",
      "days_exceeded_5_kwh: 17547\n",
      "daily_voltage: 240.8364213354033\n",
      "True\n"
     ]
    },
    {
     "data": {
      "image/png": "[encoded data removed]",
      "text/plain": [
       "<Figure size 1000x600 with 2 Axes>"
      ]
     },
     "metadata": {},
     "output_type": "display_data"
    }
   ],
   "source": [
    "value = execute_query(\"What is the correlation between global active power and sub-metering values?. Can you show it using visualization\",\"deepseek-r1-distill-llama-70b\",df)\n",
    "if(value):\n",
    "    deepseek_results[\"What is the correlation between global active power and sub-metering values?. Can you show it using visualization\"]=1\n",
    "else:\n",
    "    deepseek_results[\"What is the correlation between global active power and sub-metering values?. Can you show it using visualization\"]=0\n",
    "print(value)"
   ]
  },
  {
   "cell_type": "code",
   "execution_count": null,
   "metadata": {
    "colab": {
     "base_uri": "https://localhost:8080/"
    },
    "id": "kaR6GHfnJoAO",
    "outputId": "70cd29b4-5357-44db-9edf-c538af444060"
   },
   "outputs": [
    {
     "name": "stdout",
     "output_type": "stream",
     "text": [
      "------------------------------------------------------------------------\n",
      "Python pandas Code is:\n",
      "\n",
      " import pandas as pd\n",
      "# Read the preprocessed data\n",
      "df = pd.read_csv('household_power_consumption.txt',\n",
      "                 sep=';',\n",
      "                 parse_dates={'datetime': ['Date', 'Time']},\n",
      "                 infer_datetime_format=True,\n",
      "                 na_values=['?'],\n",
      "                 low_memory=False)\n",
      "# Set datetime as index\n",
      "df = df.set_index('datetime')\n",
      "# Filter data for February 2008, first week (1st to 7th)\n",
      "february_first_week = df[(df.index.year == 2008) & \n",
      "                        (df.index.month == 2) & \n",
      "                        (df.index.day <= 7)]\n",
      "# Group by date and calculate average voltage\n",
      "average_voltage = february_first_week.groupby(february_first_week.index.date)['Voltage'].mean()\n",
      "# Print the result\n",
      "print(average_voltage)\n",
      "------------------------------------------------------------------------\n",
      "Output of the code is:\n",
      "\n"
     ]
    },
    {
     "name": "stderr",
     "output_type": "stream",
     "text": [
      "<string>:3: FutureWarning: Support for nested sequences for 'parse_dates' in pd.read_csv is deprecated. Combine the desired columns with pd.to_datetime after parsing instead.\n",
      "<string>:3: FutureWarning: The argument 'infer_datetime_format' is deprecated and will be removed in a future version. A strict version of it is now the default, see https://pandas.pydata.org/pdeps/0004-consistent-to-datetime-parsing.html. You can safely remove this argument.\n",
      "<string>:3: UserWarning: Parsing dates in %d/%m/%Y %H:%M:%S format when dayfirst=False (the default) was specified. Pass `dayfirst=True` or specify a format to silence this warning.\n"
     ]
    },
    {
     "name": "stdout",
     "output_type": "stream",
     "text": [
      "2008-02-01    240.360271\n",
      "2008-02-02    240.290514\n",
      "2008-02-03    240.340722\n",
      "2008-02-04    240.255208\n",
      "2008-02-05    240.976917\n",
      "2008-02-06    238.413715\n",
      "2008-02-07    241.070549\n",
      "Name: Voltage, dtype: float64\n"
     ]
    }
   ],
   "source": [
    "execute_query(\"Find the average voltage for each day of the first week of February 2008\",\"deepseek-r1-distill-llama-70b\",df)"
   ]
  },
  {
   "cell_type": "code",
   "execution_count": null,
   "metadata": {
    "colab": {
     "base_uri": "https://localhost:8080/"
    },
    "id": "eg-mwWXWJ2c3",
    "outputId": "055131e2-d771-40e7-ef1e-9e6c2c856d7e"
   },
   "outputs": [
    {
     "name": "stdout",
     "output_type": "stream",
     "text": [
      "------------------------------------------------------------------------\n",
      "Python pandas Code is:\n",
      "\n",
      " # Convert Global_active_power from watts to kWh\n",
      "df['Global_active_power'] = df['Global_active_power'] / 1000\n",
      "# Filter data for year 2008\n",
      "df_2008 = df[df.index.year == 2008]\n",
      "# Group by day and calculate total consumption\n",
      "daily_consumption = df_2008.groupby(df_2008.index.date)['Global_active_power'].sum()\n",
      "# Find days where consumption exceeded 2 kWh\n",
      "exceeded_days = daily_consumption[daily_consumption > 2]\n",
      "# Print the result\n",
      "print(\"Days in 2008 where energy consumption exceeded 2 kWh:\")\n",
      "print(exceeded_days)\n",
      "------------------------------------------------------------------------\n",
      "Output of the code is:\n",
      "\n",
      "Days in 2008 where energy consumption exceeded 2 kWh:\n",
      "2008-01-01    2.759738\n",
      "2008-01-04    2.291852\n",
      "2008-01-05    2.183248\n",
      "2008-01-08    2.043550\n",
      "2008-01-12    2.871408\n",
      "                ...   \n",
      "2008-12-17    2.098786\n",
      "2008-12-20    2.242502\n",
      "2008-12-21    2.643610\n",
      "2008-12-22    2.015808\n",
      "2008-12-27    2.972164\n",
      "Name: Global_active_power, Length: 74, dtype: float64\n"
     ]
    }
   ],
   "source": [
    "execute_query(\"Find days where energy consumption exceeded 2 kWh in 2008\",\"deepseek-r1-distill-llama-70b\",df)"
   ]
  },
  {
   "cell_type": "code",
   "execution_count": 39,
   "metadata": {
    "colab": {
     "base_uri": "https://localhost:8080/"
    },
    "id": "oWbbVnx1J0XN",
    "outputId": "aa9ccc43-c283-422d-d272-cc2e01ed3bff"
   },
   "outputs": [
    {
     "name": "stdout",
     "output_type": "stream",
     "text": [
      "------------------------------------------------------------------------\n",
      "Python pandas Code is:\n",
      "\n",
      " # Filter data for Christmas 2006 (December 25, 2006)\n",
      "christmas_2006 = df[df.index.date == pd.to_datetime('2006-12-25').date()]\n",
      "# Calculate average power for each hour\n",
      "hourly_power = christmas_2006['Global_active_power'].resample('H').mean()\n",
      "# Find the hour with the highest power usage\n",
      "max_hour = hourly_power.idxmax()\n",
      "# Store result\n",
      "max_hour = max_hour.time()\n",
      "# Print the result\n",
      "print(f\"The hour with the highest power usage on Christmas 2006 was {max_hour}\")\n",
      "------------------------------------------------------------------------\n",
      "Output of the code is:\n",
      "\n",
      "Error executing code: name 'pd' is not defined\n",
      "False\n"
     ]
    }
   ],
   "source": [
    "value= execute_query(\"What hour of the day had the highest power usage on Christmas 2006?\",\"deepseek-r1-distill-llama-70b\",df)\n",
    "if(value):\n",
    "    deepseek_results[\"What hour of the day had the highest power usage on Christmas 2006?\"]=1\n",
    "else:\n",
    "    deepseek_results[\"What hour of the day had the highest power usage on Christmas 2006?\"]=0\n",
    "print(value)"
   ]
  },
  {
   "cell_type": "code",
   "execution_count": 3,
   "metadata": {},
   "outputs": [
    {
     "name": "stdout",
     "output_type": "stream",
     "text": [
      "What was the average active power consumption in March 2007? :  1\n",
      "What hour of the day had the highest power usage on Christmas 2006? :  0\n",
      "Compare energy usage (Global_active_power) on weekdays vs weekends :  1\n",
      "Find days where total energy consumption exceeded 5 kWh :  1\n",
      "Plot the energy usage trend for the first week of January 2007. Can you aggregrate data by month :  0\n",
      "Find the average voltage for each day of the first week of February 2007 :  1\n",
      "What is the correlation between global active power and sub-metering values? :  1\n",
      "What is the correlation between global active power and sub-metering values?. Can you show it using visualization :  1\n",
      "Plot the energy usage trend for the first week of January 2007. Can you aggregate data by day :  0\n"
     ]
    }
   ],
   "source": [
    "for k,v in deepseek_results.items():\n",
    "    print(k,\": \",v)"
   ]
  },
  {
   "cell_type": "code",
   "execution_count": 2,
   "metadata": {},
   "outputs": [
    {
     "name": "stdout",
     "output_type": "stream",
     "text": [
      "Stored 'deepseek_results' (dict)\n"
     ]
    }
   ],
   "source": [
    "%store deepseek_results"
   ]
  },
  {
   "cell_type": "code",
   "execution_count": null,
   "metadata": {},
   "outputs": [],
   "source": []
  }
 ],
 "metadata": {
  "colab": {
   "provenance": []
  },
  "kernelspec": {
   "display_name": "Python 3 (ipykernel)",
   "language": "python",
   "name": "python3"
  },
  "language_info": {
   "codemirror_mode": {
    "name": "ipython",
    "version": 3
   },
   "file_extension": ".py",
   "mimetype": "text/x-python",
   "name": "python",
   "nbconvert_exporter": "python",
   "pygments_lexer": "ipython3",
   "version": "3.10.7"
  }
 },
 "nbformat": 4,
 "nbformat_minor": 4
}
