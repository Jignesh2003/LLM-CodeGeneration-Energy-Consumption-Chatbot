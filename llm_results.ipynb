{
 "cells": [
  {
   "cell_type": "code",
   "execution_count": 46,
   "metadata": {
    "id": "geyWzrCHYEHH"
   },
   "outputs": [],
   "source": [
    "import pandas as pd\n",
    "import matplotlib.pyplot as plt\n",
    "import numpy as np\n",
    "import seaborn as sns\n",
    "import io\n",
    "import sys\n",
    "from contextlib import redirect_stdout"
   ]
  },
  {
   "cell_type": "code",
   "execution_count": 47,
   "metadata": {},
   "outputs": [],
   "source": [
    "%store -r qwen_results\n",
    "%store -r mistral_results\n",
    "%store -r llama_results\n",
    "%store -r gemma_results\n",
    "%store -r deepseek_results\n",
    "%store -r test_case_result"
   ]
  },
  {
   "cell_type": "code",
   "execution_count": 48,
   "metadata": {},
   "outputs": [],
   "source": [
    "questions=[\n",
    "    \"What was the average active power consumption in March 2007?\",\n",
    "    \"What hour of the day had the highest power usage on Christmas 2006?\",\n",
    "    \"Compare energy usage (Global_active_power) on weekdays vs weekends.\",\n",
    "    \"Find days where total energy consumption exceeded 5 kWh.\",\n",
    "    \"Plot the energy usage trend for the first week of January 2007.\",\n",
    "    \"Find the average voltage for each day of the first week of February 2007.\",\n",
    "    \"What is the correlation between global active power and sub-metering values?\",\n",
    "    \"What is the correlation between global active power and sub-metering values?. Can you show it using visualization\",\n",
    "    \"Plot the energy usage trend for the first week of January 2007. Can you aggregate data by day\"\n",
    "]"
   ]
  },
  {
   "cell_type": "code",
   "execution_count": 49,
   "metadata": {},
   "outputs": [
    {
     "name": "stdout",
     "output_type": "stream",
     "text": [
      "dict_values([0, 1, 0, 1, 1, 1, 0, 1, 1])\n"
     ]
    }
   ],
   "source": [
    "print(qwen_results.values())"
   ]
  },
  {
   "cell_type": "code",
   "execution_count": 50,
   "metadata": {},
   "outputs": [
    {
     "name": "stdout",
     "output_type": "stream",
     "text": [
      "dict_values([1, 0, 1, 1, 1, 1, 1, 1, 1])\n"
     ]
    }
   ],
   "source": [
    "print(mistral_results.values())"
   ]
  },
  {
   "cell_type": "code",
   "execution_count": 51,
   "metadata": {},
   "outputs": [
    {
     "name": "stdout",
     "output_type": "stream",
     "text": [
      "dict_values([0, 1, 1, 0, 1, 1, 1, 1, 1])\n"
     ]
    }
   ],
   "source": [
    "print(llama_results.values())"
   ]
  },
  {
   "cell_type": "code",
   "execution_count": 52,
   "metadata": {},
   "outputs": [
    {
     "name": "stdout",
     "output_type": "stream",
     "text": [
      "dict_values([1, 0, 1, 1, 1, 1, 1, 0, 0])\n"
     ]
    }
   ],
   "source": [
    "print(gemma_results.values())"
   ]
  },
  {
   "cell_type": "code",
   "execution_count": 53,
   "metadata": {},
   "outputs": [
    {
     "name": "stdout",
     "output_type": "stream",
     "text": [
      "dict_values([1, 0, 1, 1, 0, 1, 1, 1, 0])\n"
     ]
    }
   ],
   "source": [
    "print(deepseek_results.values())"
   ]
  },
  {
   "cell_type": "code",
   "execution_count": 54,
   "metadata": {},
   "outputs": [
    {
     "name": "stdout",
     "output_type": "stream",
     "text": [
      "dict_values([1, 1, 1, 1, 1, 1, 1, 1, 1])\n"
     ]
    }
   ],
   "source": [
    "print(test_case_result.values())"
   ]
  },
  {
   "cell_type": "code",
   "execution_count": 55,
   "metadata": {},
   "outputs": [],
   "source": [
    "# Prepare the data\n",
    "data = {\n",
    "    'Questions': questions,\n",
    "    'Test Case': list(test_case_result.values()),\n",
    "    'Qwen': list(qwen_results.values()),\n",
    "    'Mistral': list(mistral_results.values()),\n",
    "    'Llama': list(llama_results.values()),\n",
    "    'Gemma': list(gemma_results.values()),\n",
    "    'DeepSeek': list(deepseek_results.values())\n",
    "}"
   ]
  },
  {
   "cell_type": "code",
   "execution_count": 56,
   "metadata": {},
   "outputs": [
    {
     "name": "stdout",
     "output_type": "stream",
     "text": [
      "                                           Questions  Test Case  Qwen  \\\n",
      "0  What was the average active power consumption ...          1     0   \n",
      "1  What hour of the day had the highest power usa...          1     1   \n",
      "2  Compare energy usage (Global_active_power) on ...          1     0   \n",
      "3  Find days where total energy consumption excee...          1     1   \n",
      "4  Plot the energy usage trend for the first week...          1     1   \n",
      "5  Find the average voltage for each day of the f...          1     1   \n",
      "6  What is the correlation between global active ...          1     0   \n",
      "7  What is the correlation between global active ...          1     1   \n",
      "8  Plot the energy usage trend for the first week...          1     1   \n",
      "\n",
      "   Mistral  Llama  Gemma  DeepSeek  \n",
      "0        1      0      1         1  \n",
      "1        0      1      0         0  \n",
      "2        1      1      1         1  \n",
      "3        1      0      1         1  \n",
      "4        1      1      1         0  \n",
      "5        1      1      1         1  \n",
      "6        1      1      1         1  \n",
      "7        1      1      0         1  \n",
      "8        1      1      0         0  \n"
     ]
    }
   ],
   "source": [
    "df = pd.DataFrame(data)\n",
    "print(df)"
   ]
  },
  {
   "cell_type": "code",
   "execution_count": 57,
   "metadata": {},
   "outputs": [],
   "source": [
    "# Calculate performance metrics\n",
    "performance = pd.DataFrame({\n",
    "    'Model': ['Qwen', 'Mistral', 'Llama', 'Gemma', 'DeepSeek'],\n",
    "    'Correct': [\n",
    "        sum(df['Qwen']),\n",
    "        sum(df['Mistral']),\n",
    "        sum(df['Llama']),\n",
    "        sum(df['Gemma']),\n",
    "        sum(df['DeepSeek'])\n",
    "    ],\n",
    "    'Incorrect': [\n",
    "        len(questions) - sum(df['Qwen']),\n",
    "        len(questions) - sum(df['Mistral']),\n",
    "        len(questions) - sum(df['Llama']),\n",
    "        len(questions) - sum(df['Gemma']),\n",
    "        len(questions) - sum(df['DeepSeek'])\n",
    "    ],\n",
    "    'Accuracy': [\n",
    "        sum(df['Qwen'])/len(questions),\n",
    "        sum(df['Mistral'])/len(questions),\n",
    "        sum(df['Llama'])/len(questions),\n",
    "        sum(df['Gemma'])/len(questions),\n",
    "        sum(df['DeepSeek'])/len(questions)\n",
    "    ]\n",
    "})"
   ]
  },
  {
   "cell_type": "code",
   "execution_count": 58,
   "metadata": {},
   "outputs": [
    {
     "name": "stdout",
     "output_type": "stream",
     "text": [
      "Question vs Model Results:\n"
     ]
    },
    {
     "data": {
      "text/html": [
       "<div>\n",
       "<style scoped>\n",
       "    .dataframe tbody tr th:only-of-type {\n",
       "        vertical-align: middle;\n",
       "    }\n",
       "\n",
       "    .dataframe tbody tr th {\n",
       "        vertical-align: top;\n",
       "    }\n",
       "\n",
       "    .dataframe thead th {\n",
       "        text-align: right;\n",
       "    }\n",
       "</style>\n",
       "<table border=\"1\" class=\"dataframe\">\n",
       "  <thead>\n",
       "    <tr style=\"text-align: right;\">\n",
       "      <th></th>\n",
       "      <th>Questions</th>\n",
       "      <th>Test Case</th>\n",
       "      <th>Qwen</th>\n",
       "      <th>Mistral</th>\n",
       "      <th>Llama</th>\n",
       "      <th>Gemma</th>\n",
       "      <th>DeepSeek</th>\n",
       "    </tr>\n",
       "  </thead>\n",
       "  <tbody>\n",
       "    <tr>\n",
       "      <th>0</th>\n",
       "      <td>What was the average active power consumption ...</td>\n",
       "      <td>1</td>\n",
       "      <td>0</td>\n",
       "      <td>1</td>\n",
       "      <td>0</td>\n",
       "      <td>1</td>\n",
       "      <td>1</td>\n",
       "    </tr>\n",
       "    <tr>\n",
       "      <th>1</th>\n",
       "      <td>What hour of the day had the highest power usa...</td>\n",
       "      <td>1</td>\n",
       "      <td>1</td>\n",
       "      <td>0</td>\n",
       "      <td>1</td>\n",
       "      <td>0</td>\n",
       "      <td>0</td>\n",
       "    </tr>\n",
       "    <tr>\n",
       "      <th>2</th>\n",
       "      <td>Compare energy usage (Global_active_power) on ...</td>\n",
       "      <td>1</td>\n",
       "      <td>0</td>\n",
       "      <td>1</td>\n",
       "      <td>1</td>\n",
       "      <td>1</td>\n",
       "      <td>1</td>\n",
       "    </tr>\n",
       "    <tr>\n",
       "      <th>3</th>\n",
       "      <td>Find days where total energy consumption excee...</td>\n",
       "      <td>1</td>\n",
       "      <td>1</td>\n",
       "      <td>1</td>\n",
       "      <td>0</td>\n",
       "      <td>1</td>\n",
       "      <td>1</td>\n",
       "    </tr>\n",
       "    <tr>\n",
       "      <th>4</th>\n",
       "      <td>Plot the energy usage trend for the first week...</td>\n",
       "      <td>1</td>\n",
       "      <td>1</td>\n",
       "      <td>1</td>\n",
       "      <td>1</td>\n",
       "      <td>1</td>\n",
       "      <td>0</td>\n",
       "    </tr>\n",
       "    <tr>\n",
       "      <th>5</th>\n",
       "      <td>Find the average voltage for each day of the f...</td>\n",
       "      <td>1</td>\n",
       "      <td>1</td>\n",
       "      <td>1</td>\n",
       "      <td>1</td>\n",
       "      <td>1</td>\n",
       "      <td>1</td>\n",
       "    </tr>\n",
       "    <tr>\n",
       "      <th>6</th>\n",
       "      <td>What is the correlation between global active ...</td>\n",
       "      <td>1</td>\n",
       "      <td>0</td>\n",
       "      <td>1</td>\n",
       "      <td>1</td>\n",
       "      <td>1</td>\n",
       "      <td>1</td>\n",
       "    </tr>\n",
       "    <tr>\n",
       "      <th>7</th>\n",
       "      <td>What is the correlation between global active ...</td>\n",
       "      <td>1</td>\n",
       "      <td>1</td>\n",
       "      <td>1</td>\n",
       "      <td>1</td>\n",
       "      <td>0</td>\n",
       "      <td>1</td>\n",
       "    </tr>\n",
       "    <tr>\n",
       "      <th>8</th>\n",
       "      <td>Plot the energy usage trend for the first week...</td>\n",
       "      <td>1</td>\n",
       "      <td>1</td>\n",
       "      <td>1</td>\n",
       "      <td>1</td>\n",
       "      <td>0</td>\n",
       "      <td>0</td>\n",
       "    </tr>\n",
       "  </tbody>\n",
       "</table>\n",
       "</div>"
      ],
      "text/plain": [
       "                                           Questions  Test Case  Qwen  \\\n",
       "0  What was the average active power consumption ...          1     0   \n",
       "1  What hour of the day had the highest power usa...          1     1   \n",
       "2  Compare energy usage (Global_active_power) on ...          1     0   \n",
       "3  Find days where total energy consumption excee...          1     1   \n",
       "4  Plot the energy usage trend for the first week...          1     1   \n",
       "5  Find the average voltage for each day of the f...          1     1   \n",
       "6  What is the correlation between global active ...          1     0   \n",
       "7  What is the correlation between global active ...          1     1   \n",
       "8  Plot the energy usage trend for the first week...          1     1   \n",
       "\n",
       "   Mistral  Llama  Gemma  DeepSeek  \n",
       "0        1      0      1         1  \n",
       "1        0      1      0         0  \n",
       "2        1      1      1         1  \n",
       "3        1      0      1         1  \n",
       "4        1      1      1         0  \n",
       "5        1      1      1         1  \n",
       "6        1      1      1         1  \n",
       "7        1      1      0         1  \n",
       "8        1      1      0         0  "
      ]
     },
     "metadata": {},
     "output_type": "display_data"
    }
   ],
   "source": [
    "# 1. Display question vs model results table\n",
    "print(\"Question vs Model Results:\")\n",
    "display(df)"
   ]
  },
  {
   "cell_type": "code",
   "execution_count": 59,
   "metadata": {},
   "outputs": [
    {
     "name": "stdout",
     "output_type": "stream",
     "text": [
      "\n",
      "Performance Metrics:\n"
     ]
    },
    {
     "data": {
      "text/html": [
       "<div>\n",
       "<style scoped>\n",
       "    .dataframe tbody tr th:only-of-type {\n",
       "        vertical-align: middle;\n",
       "    }\n",
       "\n",
       "    .dataframe tbody tr th {\n",
       "        vertical-align: top;\n",
       "    }\n",
       "\n",
       "    .dataframe thead th {\n",
       "        text-align: right;\n",
       "    }\n",
       "</style>\n",
       "<table border=\"1\" class=\"dataframe\">\n",
       "  <thead>\n",
       "    <tr style=\"text-align: right;\">\n",
       "      <th></th>\n",
       "      <th>Model</th>\n",
       "      <th>Correct</th>\n",
       "      <th>Incorrect</th>\n",
       "      <th>Accuracy</th>\n",
       "    </tr>\n",
       "  </thead>\n",
       "  <tbody>\n",
       "    <tr>\n",
       "      <th>0</th>\n",
       "      <td>Qwen</td>\n",
       "      <td>6</td>\n",
       "      <td>3</td>\n",
       "      <td>0.666667</td>\n",
       "    </tr>\n",
       "    <tr>\n",
       "      <th>1</th>\n",
       "      <td>Mistral</td>\n",
       "      <td>8</td>\n",
       "      <td>1</td>\n",
       "      <td>0.888889</td>\n",
       "    </tr>\n",
       "    <tr>\n",
       "      <th>2</th>\n",
       "      <td>Llama</td>\n",
       "      <td>7</td>\n",
       "      <td>2</td>\n",
       "      <td>0.777778</td>\n",
       "    </tr>\n",
       "    <tr>\n",
       "      <th>3</th>\n",
       "      <td>Gemma</td>\n",
       "      <td>6</td>\n",
       "      <td>3</td>\n",
       "      <td>0.666667</td>\n",
       "    </tr>\n",
       "    <tr>\n",
       "      <th>4</th>\n",
       "      <td>DeepSeek</td>\n",
       "      <td>6</td>\n",
       "      <td>3</td>\n",
       "      <td>0.666667</td>\n",
       "    </tr>\n",
       "  </tbody>\n",
       "</table>\n",
       "</div>"
      ],
      "text/plain": [
       "      Model  Correct  Incorrect  Accuracy\n",
       "0      Qwen        6          3  0.666667\n",
       "1   Mistral        8          1  0.888889\n",
       "2     Llama        7          2  0.777778\n",
       "3     Gemma        6          3  0.666667\n",
       "4  DeepSeek        6          3  0.666667"
      ]
     },
     "metadata": {},
     "output_type": "display_data"
    }
   ],
   "source": [
    "# 2. Display performance metrics table\n",
    "print(\"\\nPerformance Metrics:\")\n",
    "display(performance)"
   ]
  },
  {
   "cell_type": "code",
   "execution_count": 72,
   "metadata": {},
   "outputs": [
    {
     "data": {
      "image/png": "[encoded data removed]",
      "text/plain": [
       "<Figure size 1200x600 with 1 Axes>"
      ]
     },
     "metadata": {},
     "output_type": "display_data"
    }
   ],
   "source": [
    "# 3. Visualization - Correct vs Incorrect by Model\n",
    "plt.figure(figsize=(12, 6))\n",
    "\n",
    "# Bar positions\n",
    "bar_width = 0.35\n",
    "index = np.arange(len(performance['Model']))\n",
    "\n",
    "# Create bars\n",
    "plt.bar(index, performance['Correct'], bar_width, label='Correct', color='green')\n",
    "plt.bar(index+bar_width, performance['Incorrect'], bar_width, label='Incorrect', color='red')\n",
    "\n",
    "# Formatting\n",
    "plt.xlabel('Models')\n",
    "plt.ylabel('Number of Questions')\n",
    "plt.title('Model Performance: Correct vs Incorrect Answers')\n",
    "plt.xticks(index + bar_width/2, performance['Model'])\n",
    "plt.legend()\n",
    "plt.tight_layout()\n",
    "plt.show()"
   ]
  },
  {
   "cell_type": "code",
   "execution_count": 80,
   "metadata": {},
   "outputs": [
    {
     "data": {
      "image/png": "[encoded data removed]",
      "text/plain": [
       "<Figure size 1000x500 with 1 Axes>"
      ]
     },
     "metadata": {},
     "output_type": "display_data"
    }
   ],
   "source": [
    "# 4. Visualization - Accuracy by Model\n",
    "plt.figure(figsize=(10, 5))\n",
    "plt.bar(performance['Model'], performance['Accuracy'], color='blue')\n",
    "plt.axhline(y=1, color='gray', linestyle='--', alpha=0.5)  # Perfect score line\n",
    "plt.xlabel('Models')\n",
    "plt.ylabel('Accuracy')\n",
    "plt.title('Model Accuracy Comparison')\n",
    "plt.ylim(0, 1.2)\n",
    "for i, v in enumerate(performance['Accuracy']):\n",
    "    plt.text(i, v + 0.05, f\"{v:.2f}\", ha='center')\n",
    "plt.show()"
   ]
  },
  {
   "cell_type": "code",
   "execution_count": 62,
   "metadata": {},
   "outputs": [
    {
     "name": "stdout",
     "output_type": "stream",
     "text": [
      "\n",
      "Model Ranking by Accuracy:\n"
     ]
    },
    {
     "data": {
      "text/html": [
       "<div>\n",
       "<style scoped>\n",
       "    .dataframe tbody tr th:only-of-type {\n",
       "        vertical-align: middle;\n",
       "    }\n",
       "\n",
       "    .dataframe tbody tr th {\n",
       "        vertical-align: top;\n",
       "    }\n",
       "\n",
       "    .dataframe thead th {\n",
       "        text-align: right;\n",
       "    }\n",
       "</style>\n",
       "<table border=\"1\" class=\"dataframe\">\n",
       "  <thead>\n",
       "    <tr style=\"text-align: right;\">\n",
       "      <th></th>\n",
       "      <th>Model</th>\n",
       "      <th>Correct</th>\n",
       "      <th>Incorrect</th>\n",
       "      <th>Accuracy</th>\n",
       "    </tr>\n",
       "  </thead>\n",
       "  <tbody>\n",
       "    <tr>\n",
       "      <th>1</th>\n",
       "      <td>Mistral</td>\n",
       "      <td>8</td>\n",
       "      <td>1</td>\n",
       "      <td>0.888889</td>\n",
       "    </tr>\n",
       "    <tr>\n",
       "      <th>2</th>\n",
       "      <td>Llama</td>\n",
       "      <td>7</td>\n",
       "      <td>2</td>\n",
       "      <td>0.777778</td>\n",
       "    </tr>\n",
       "    <tr>\n",
       "      <th>0</th>\n",
       "      <td>Qwen</td>\n",
       "      <td>6</td>\n",
       "      <td>3</td>\n",
       "      <td>0.666667</td>\n",
       "    </tr>\n",
       "    <tr>\n",
       "      <th>3</th>\n",
       "      <td>Gemma</td>\n",
       "      <td>6</td>\n",
       "      <td>3</td>\n",
       "      <td>0.666667</td>\n",
       "    </tr>\n",
       "    <tr>\n",
       "      <th>4</th>\n",
       "      <td>DeepSeek</td>\n",
       "      <td>6</td>\n",
       "      <td>3</td>\n",
       "      <td>0.666667</td>\n",
       "    </tr>\n",
       "  </tbody>\n",
       "</table>\n",
       "</div>"
      ],
      "text/plain": [
       "      Model  Correct  Incorrect  Accuracy\n",
       "1   Mistral        8          1  0.888889\n",
       "2     Llama        7          2  0.777778\n",
       "0      Qwen        6          3  0.666667\n",
       "3     Gemma        6          3  0.666667\n",
       "4  DeepSeek        6          3  0.666667"
      ]
     },
     "metadata": {},
     "output_type": "display_data"
    }
   ],
   "source": [
    "print(\"\\nModel Ranking by Accuracy:\")\n",
    "display(performance.sort_values('Accuracy', ascending=False))"
   ]
  },
  {
   "cell_type": "code",
   "execution_count": null,
   "metadata": {},
   "outputs": [],
   "source": []
  }
 ],
 "metadata": {
  "colab": {
   "provenance": []
  },
  "kernelspec": {
   "display_name": "Python 3 (ipykernel)",
   "language": "python",
   "name": "python3"
  },
  "language_info": {
   "codemirror_mode": {
    "name": "ipython",
    "version": 3
   },
   "file_extension": ".py",
   "mimetype": "text/x-python",
   "name": "python",
   "nbconvert_exporter": "python",
   "pygments_lexer": "ipython3",
   "version": "3.10.7"
  }
 },
 "nbformat": 4,
 "nbformat_minor": 4
}
